{
 "cells": [
  {
   "cell_type": "markdown",
   "source": [
    "### Rozkodowanie własnych wyników "
   ],
   "metadata": {
    "collapsed": false
   },
   "id": "e999df4355d36e7a"
  },
  {
   "cell_type": "code",
   "outputs": [],
   "source": [
    "from cryptography.fernet import Fernet\n",
    "import json\n",
    "\n",
    "def dic_decrypt_from_str(data_str, my_secret_key: str) -> dict:\n",
    "    fernet = Fernet(my_secret_key)\n",
    "    my_string_decoded = fernet.decrypt(data_str)\n",
    "    return json.loads(my_string_decoded)\n",
    "\n",
    "\n",
    "def decrypt_results(lab_results_json, nr_indeksu, my_secret_key):\n",
    "    results_dic = json.load(open(lab_results_json))\n",
    "    my_results_str = results_dic[nr_indeksu]\n",
    "    my_results_dic = dic_decrypt_from_str(my_results_str, my_secret_key)\n",
    "    print(json.dumps(my_results_dic, indent=4))\n",
    "    return my_results_dic\n",
    "\n",
    "\n",
    "lab_results_json = rf'JS_lab_results.json'\n",
    "nr_indeksu = 999\n",
    "\n",
    "with open(\"my_secret_key.dat\", \"rb\") as f:\n",
    "    my_secret_key = f.read()\n",
    "    my_secret_key = my_secret_key.decode()\n",
    "\n",
    "my_results = decrypt_results(lab_results_json, str(nr_indeksu), my_secret_key)\n"
   ],
   "metadata": {
    "collapsed": false
   },
   "id": "53dd0de1283fdffb",
   "execution_count": null
  }
 ],
 "metadata": {
  "kernelspec": {
   "display_name": "Python 3",
   "language": "python",
   "name": "python3"
  },
  "language_info": {
   "codemirror_mode": {
    "name": "ipython",
    "version": 2
   },
   "file_extension": ".py",
   "mimetype": "text/x-python",
   "name": "python",
   "nbconvert_exporter": "python",
   "pygments_lexer": "ipython2",
   "version": "2.7.6"
  }
 },
 "nbformat": 4,
 "nbformat_minor": 5
}
