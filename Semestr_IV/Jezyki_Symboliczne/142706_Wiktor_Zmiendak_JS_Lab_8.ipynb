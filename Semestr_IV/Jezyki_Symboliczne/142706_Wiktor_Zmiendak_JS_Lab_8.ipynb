{
  "cells": [
    {
      "cell_type": "markdown",
      "metadata": {
        "id": "SAPpX2zGkLkg"
      },
      "source": [
        "## Języki symboliczne - rok akademicki 2022/2023\n",
        "\n",
        "Przed rozpoczęciem pracy z notatnikiem zmień jego nazwę zgodnie z wzorem: `NrAlbumu_Nazwisko_Imie_PoprzedniaNazwa`\n",
        "\n",
        "Przed wysłaniem notatnika **upewnij się jeszcze raz** że zmieniłeś nazwę i że rozwiązałeś wszystkie zadania/ćwiczenia, w szczególności, że uzupełniłeś wszystkie pola `YOUR CODE HERE` oraz `YOUR ANSWER HERE`."
      ]
    },
    {
      "cell_type": "markdown",
      "metadata": {
        "deletable": false,
        "editable": false,
        "nbgrader": {
          "cell_type": "markdown",
          "checksum": "f247ec1d19f9087147e414e0c8385a26",
          "grade": false,
          "grade_id": "cell-4aca44267419a21f",
          "locked": true,
          "schema_version": 3,
          "solution": false
        },
        "id": "BaUrq-wLkLki"
      },
      "source": [
        "# Temat: Klasy - iteratory, generatory, wyrażenia generatora.\n",
        "Zapoznaj się z treścią niniejszego notatnika czytając i wykonując go komórka po komórce. Wykonaj napotkane zadania/ćwiczenia.\n",
        "\n",
        "\n",
        "## Iteratory\n",
        "\n",
        "https://docs.python.org/3/tutorial/classes.html#Iterators\n",
        "\n",
        "- po większości obiektów będących kontenerami możemy iterować używając pętli `for`;\n",
        "- funkcjonalność ta realizowana jest poprzez wywołanie przez `for` metody `iter()` na obiekcie kontenera, która zwraca obiekt iteratora definiujący metodę `__next__()` udostępniającą raz po razie kolejne elementy kontenera;\n",
        "- w przypadku gdy nie ma już kolejnych elementów `__next__()` zgłasza wyjątek `StopIteration` powiadamiajacy pętlę `for`, że należy ją zakończyć;\n",
        "- `__next__()` może być wywołane poprzez funkcję wbudowaną `next()`;\n",
        "\n"
      ]
    },
    {
      "cell_type": "code",
      "execution_count": 1,
      "metadata": {
        "colab": {
          "base_uri": "https://localhost:8080/"
        },
        "id": "yy0oJ4f-kLki",
        "outputId": "b046c727-bffb-45ff-f424-0d5ddeb81eb7"
      },
      "outputs": [
        {
          "output_type": "stream",
          "name": "stdout",
          "text": [
            "a b c d "
          ]
        }
      ],
      "source": [
        "for element in 'abcd':\n",
        "    print(element, end = ' ')"
      ]
    },
    {
      "cell_type": "code",
      "execution_count": 3,
      "metadata": {
        "colab": {
          "base_uri": "https://localhost:8080/",
          "height": 263
        },
        "id": "g9N8wLOAkLkj",
        "outputId": "98e7a3c8-5a59-41c0-cfef-4b992c5b2897"
      },
      "outputs": [
        {
          "output_type": "stream",
          "name": "stdout",
          "text": [
            "<str_iterator object at 0x7bba8231f670>\n",
            "a\n",
            "b\n",
            "c\n",
            "d\n"
          ]
        },
        {
          "output_type": "error",
          "ename": "StopIteration",
          "evalue": "",
          "traceback": [
            "\u001b[0;31m---------------------------------------------------------------------------\u001b[0m",
            "\u001b[0;31mStopIteration\u001b[0m                             Traceback (most recent call last)",
            "\u001b[0;32m<ipython-input-3-e0f90ec8afb7>\u001b[0m in \u001b[0;36m<cell line: 8>\u001b[0;34m()\u001b[0m\n\u001b[1;32m      6\u001b[0m \u001b[0mprint\u001b[0m\u001b[0;34m(\u001b[0m\u001b[0mnext\u001b[0m\u001b[0;34m(\u001b[0m\u001b[0mit\u001b[0m\u001b[0;34m)\u001b[0m\u001b[0;34m)\u001b[0m\u001b[0;34m\u001b[0m\u001b[0;34m\u001b[0m\u001b[0m\n\u001b[1;32m      7\u001b[0m \u001b[0mprint\u001b[0m\u001b[0;34m(\u001b[0m\u001b[0mnext\u001b[0m\u001b[0;34m(\u001b[0m\u001b[0mit\u001b[0m\u001b[0;34m)\u001b[0m\u001b[0;34m)\u001b[0m\u001b[0;34m\u001b[0m\u001b[0;34m\u001b[0m\u001b[0m\n\u001b[0;32m----> 8\u001b[0;31m \u001b[0mnext\u001b[0m\u001b[0;34m(\u001b[0m\u001b[0mit\u001b[0m\u001b[0;34m)\u001b[0m          \u001b[0;31m# zgłoszenie wyjątku StopIteration\u001b[0m\u001b[0;34m\u001b[0m\u001b[0;34m\u001b[0m\u001b[0m\n\u001b[0m",
            "\u001b[0;31mStopIteration\u001b[0m: "
          ]
        }
      ],
      "source": [
        "s = 'abcd'\n",
        "it = iter(s)     # wywołanie metody iter() na obiekcie kontenera (str) zwraca obiekt iteratora definujący metodę __next__()\n",
        "print(it)\n",
        "print(next(it))  # wywołuje metodę __next__()\n",
        "print(next(it))\n",
        "print(next(it))\n",
        "print(next(it))\n",
        "next(it)          # zgłoszenie wyjątku StopIteration"
      ]
    },
    {
      "cell_type": "markdown",
      "metadata": {
        "deletable": false,
        "editable": false,
        "nbgrader": {
          "cell_type": "markdown",
          "checksum": "e7e96b2ec2e370e363269d56655f1ef5",
          "grade": false,
          "grade_id": "cell-a1ca26518f45f1a1",
          "locked": true,
          "schema_version": 3,
          "solution": false,
          "task": false
        },
        "id": "QV1uJqF1kLkj"
      },
      "source": [
        "Znając mechanizmy iteratora stosunkowo łatwo jest go zaimplementować w swoich klasach.\n",
        "\n",
        "- należy zdefiniować metodę `__iter__()` zwracającą obiekt z metodą `__next__()`.\n",
        "- Jeśli klasa definiuje `__next__()` to `__iter__()` zwraca po prostu `self`.\n",
        "\n",
        "__Przykład__. Napisz klasę`Wspak` przyjmującą jako argument konstruktora tekst. Klasa ta powinna pełnić rolę iteratora, iterującego po podanym tekście wspak."
      ]
    },
    {
      "cell_type": "code",
      "execution_count": 6,
      "metadata": {
        "id": "YSYRGZtlkLkj"
      },
      "outputs": [],
      "source": [
        "class Wspak:\n",
        "    def __init__(self, text):\n",
        "        self.text = text\n",
        "        self.index = len(text)\n",
        "\n",
        "    def __iter__(self):\n",
        "        return self\n",
        "\n",
        "    def __next__(self):\n",
        "        if self.index == 0:\n",
        "            raise StopIteration\n",
        "        self.index = self.index - 1\n",
        "        return self.text[self.index]"
      ]
    },
    {
      "cell_type": "code",
      "execution_count": 7,
      "metadata": {
        "colab": {
          "base_uri": "https://localhost:8080/"
        },
        "id": "MtzdanJXkLkj",
        "outputId": "e714eef9-d45e-46ad-c0c6-c5567ccfdcbc"
      },
      "outputs": [
        {
          "output_type": "stream",
          "name": "stdout",
          "text": [
            "<__main__.Wspak object at 0x7bba801f1390>\n",
            "<class '__main__.Wspak'>\n",
            "m\n",
            "a\n",
            "p\n",
            "s\n"
          ]
        }
      ],
      "source": [
        "wsp = Wspak('spam') # konkretyzacja klasy  - iterator\n",
        "print(wsp)\n",
        "print(type(wsp))\n",
        "for znak in wsp:\n",
        "    print(znak)"
      ]
    },
    {
      "cell_type": "code",
      "execution_count": 8,
      "metadata": {
        "colab": {
          "base_uri": "https://localhost:8080/",
          "height": 263
        },
        "id": "2n-gdIo8kLkj",
        "outputId": "ba574d74-c393-4a03-c2cc-294be703eb80"
      },
      "outputs": [
        {
          "output_type": "error",
          "ename": "StopIteration",
          "evalue": "",
          "traceback": [
            "\u001b[0;31m---------------------------------------------------------------------------\u001b[0m",
            "\u001b[0;31mStopIteration\u001b[0m                             Traceback (most recent call last)",
            "\u001b[0;32m<ipython-input-8-d1d509a8bccd>\u001b[0m in \u001b[0;36m<cell line: 1>\u001b[0;34m()\u001b[0m\n\u001b[0;32m----> 1\u001b[0;31m \u001b[0mnext\u001b[0m\u001b[0;34m(\u001b[0m\u001b[0mwsp\u001b[0m\u001b[0;34m)\u001b[0m \u001b[0;31m# zgłasza wyjątek StopIteration\u001b[0m\u001b[0;34m\u001b[0m\u001b[0;34m\u001b[0m\u001b[0m\n\u001b[0m",
            "\u001b[0;32m<ipython-input-6-98e8507de8a4>\u001b[0m in \u001b[0;36m__next__\u001b[0;34m(self)\u001b[0m\n\u001b[1;32m      9\u001b[0m     \u001b[0;32mdef\u001b[0m \u001b[0m__next__\u001b[0m\u001b[0;34m(\u001b[0m\u001b[0mself\u001b[0m\u001b[0;34m)\u001b[0m\u001b[0;34m:\u001b[0m\u001b[0;34m\u001b[0m\u001b[0;34m\u001b[0m\u001b[0m\n\u001b[1;32m     10\u001b[0m         \u001b[0;32mif\u001b[0m \u001b[0mself\u001b[0m\u001b[0;34m.\u001b[0m\u001b[0mindex\u001b[0m \u001b[0;34m==\u001b[0m \u001b[0;36m0\u001b[0m\u001b[0;34m:\u001b[0m\u001b[0;34m\u001b[0m\u001b[0;34m\u001b[0m\u001b[0m\n\u001b[0;32m---> 11\u001b[0;31m             \u001b[0;32mraise\u001b[0m \u001b[0mStopIteration\u001b[0m\u001b[0;34m\u001b[0m\u001b[0;34m\u001b[0m\u001b[0m\n\u001b[0m\u001b[1;32m     12\u001b[0m         \u001b[0mself\u001b[0m\u001b[0;34m.\u001b[0m\u001b[0mindex\u001b[0m \u001b[0;34m=\u001b[0m \u001b[0mself\u001b[0m\u001b[0;34m.\u001b[0m\u001b[0mindex\u001b[0m \u001b[0;34m-\u001b[0m \u001b[0;36m1\u001b[0m\u001b[0;34m\u001b[0m\u001b[0;34m\u001b[0m\u001b[0m\n\u001b[1;32m     13\u001b[0m         \u001b[0;32mreturn\u001b[0m \u001b[0mself\u001b[0m\u001b[0;34m.\u001b[0m\u001b[0mtext\u001b[0m\u001b[0;34m[\u001b[0m\u001b[0mself\u001b[0m\u001b[0;34m.\u001b[0m\u001b[0mindex\u001b[0m\u001b[0;34m]\u001b[0m\u001b[0;34m\u001b[0m\u001b[0;34m\u001b[0m\u001b[0m\n",
            "\u001b[0;31mStopIteration\u001b[0m: "
          ]
        }
      ],
      "source": [
        "next(wsp) # zgłasza wyjątek StopIteration"
      ]
    },
    {
      "cell_type": "code",
      "execution_count": 9,
      "metadata": {
        "colab": {
          "base_uri": "https://localhost:8080/"
        },
        "id": "ftT-PKh5kLkj",
        "outputId": "29e507ff-7a4e-4b62-cc90-bc8805f7c444"
      },
      "outputs": [
        {
          "output_type": "execute_result",
          "data": {
            "text/plain": [
              "('s', 'p', 'a', 'm')"
            ]
          },
          "metadata": {},
          "execution_count": 9
        }
      ],
      "source": [
        "wsp1 = Wspak('maps')\n",
        "wsp1.__next__(), wsp1.__next__(), wsp1.__next__(), wsp1.__next__() # wywołanie metody __next__()\n",
        "#wsp1.__next__() # to wywołanie metody __next__() zgłasza wyjątek StopIteration"
      ]
    },
    {
      "cell_type": "markdown",
      "metadata": {
        "deletable": false,
        "editable": false,
        "nbgrader": {
          "cell_type": "markdown",
          "checksum": "529f9639157231d48ae223d44a2f2b70",
          "grade": false,
          "grade_id": "cell-0d2411548714fce7",
          "locked": true,
          "schema_version": 3,
          "solution": false,
          "task": false
        },
        "id": "yPkm-lr4kLkj"
      },
      "source": [
        "## Generatory\n",
        "\n",
        "https://docs.python.org/3/tutorial/classes.html#generators\n",
        "\n",
        "W Pythonie mamy dwa rodzaje generatorów:\n",
        "- tworzone przez funkcje generujące;\n",
        "- tworzone przez wyrażenia generujące.\n",
        "\n",
        "\n",
        "Generatory można traktować jak funkcje, których działanie można wstrzymywać i wznawiać (zmienne lokalne nie są niszczone po opuszczeniu generatora umożliwiając późniejsze wznowienie w tym samym miejscu):\n",
        "- Na potrzeby generatorów zostało wprowadzone nowe słowo kluczowe `yield`.\n",
        "- Każda funkcja, która zawiera instrukcję `yield` staje się automatycznie funkcją generującą.\n",
        "- Przy wywołaniu funkcji generującej nie jest zwracana pojedyncza wartość. Zamiast tego zwracany jest obiekt generatora, który obsługuje protokół iteratora.\n",
        "- instrukcja `yield` występuje zamiast instrukcji `return`.  Różnica pomiędzy tymi instrukcjami polega jednak na tym, że w przypadku instrukcji `yield` zostaje zapamiętany stan wykonywania generatora oraz wartości wszystkich zmiennych lokalnych. Przy kolejnym wywołaniu metody `__next()__` generatora wykonywanie funkcji jest wznawiane bezpośrednio po ostatnio napotkanej instrukcji `yield`.\n",
        "\n",
        "\n"
      ]
    },
    {
      "cell_type": "code",
      "execution_count": 10,
      "metadata": {
        "colab": {
          "base_uri": "https://localhost:8080/"
        },
        "id": "BVkLgKkjkLkk",
        "outputId": "45845c3f-a8ba-4880-bce6-67f412869b4c"
      },
      "outputs": [
        {
          "output_type": "stream",
          "name": "stdout",
          "text": [
            "<generator object wygeneruj_calkowite at 0x7bba82364510>\n",
            "0 1 2 3 4 5 6 7 8 9 "
          ]
        }
      ],
      "source": [
        "def wygeneruj_calkowite(N):\n",
        "    for i in range(N):\n",
        "        yield i              # yield oznacza, że jest to generator - nie zwykła funkcja\n",
        "\n",
        "g = wygeneruj_calkowite(10); # funkcja wygeneruj_calkowite(10) zwraca obiekt generatora\n",
        "print(g)\n",
        "\n",
        "for j in g:\n",
        "    print(j, end = ' ')"
      ]
    },
    {
      "cell_type": "markdown",
      "metadata": {
        "deletable": false,
        "editable": false,
        "nbgrader": {
          "cell_type": "markdown",
          "checksum": "bc5e5183707d786f14590a176f505ea9",
          "grade": false,
          "grade_id": "cell-edd8a83b590b59d1",
          "locked": true,
          "schema_version": 3,
          "solution": false,
          "task": false
        },
        "id": "PYdg8Y7ykLkk"
      },
      "source": [
        "- Generator (funkcja realizująca generator) generuje i zwraca za każdym razem (z każdym wywołaniem funkcji) jedną wartość.\n",
        "- Wywołanie po raz pierwszy metody generatora `__next__()` dla obiektu generatora powoduje wykonanie kodu w `utworz_licznik` do pierwszego wystąpienia `yield`, a następnie zwrócenie wydobytej wartości (w przykładzie poniżej 10).\n",
        "- Kolejne wywołania `__next__()` rozpoczynają od miejsca ostatniego wyjścia z funkcji i działają do kolejnego napotkania `yield`."
      ]
    },
    {
      "cell_type": "code",
      "execution_count": 11,
      "metadata": {
        "colab": {
          "base_uri": "https://localhost:8080/"
        },
        "id": "zgApCV8JkLkk",
        "outputId": "7100c8d3-d7c8-427b-a461-625a29cb182b"
      },
      "outputs": [
        {
          "output_type": "stream",
          "name": "stdout",
          "text": [
            "<generator object utworz_licznik at 0x7bba8020c040>\n",
            "Wejście do licznika\n",
            "zwiększenie x\n",
            "zwiększenie x\n"
          ]
        },
        {
          "output_type": "execute_result",
          "data": {
            "text/plain": [
              "(10, 11, 12)"
            ]
          },
          "metadata": {},
          "execution_count": 11
        }
      ],
      "source": [
        "def utworz_licznik(x):\n",
        "    print('Wejście do licznika')\n",
        "    while True:\n",
        "        yield x                   # yield oznacza, że jest to generator\n",
        "        print('zwiększenie x')\n",
        "        x = x + 1\n",
        "\n",
        "l = utworz_licznik(10)            # funkcja utworz_licznik(10) zwraca obiekt generatora\n",
        "print(l)\n",
        "\n",
        "next(l), next(l), next(l)"
      ]
    },
    {
      "cell_type": "markdown",
      "metadata": {
        "deletable": false,
        "editable": false,
        "nbgrader": {
          "cell_type": "markdown",
          "checksum": "d597ab2f5e4aa1ac3893727c33b86b85",
          "grade": false,
          "grade_id": "cell-30cb01c5fcca61d7",
          "locked": true,
          "schema_version": 3,
          "solution": false,
          "task": false
        },
        "id": "y-tp_eY0kLkk"
      },
      "source": [
        "- wszystko co może być zrobione za pomocą generatorów można zaimplementować również za pomocą iteratorów bazujących na klasach.\n",
        "- to co wpływa na kompaktowość generatorów to to, że metody `__iter__()` oraz `__next__()` są tworzone automatycznie\n",
        "- kolejną, kluczową ich cechą jest pamiętanie lokalnych zmiennych i stanu wykonywanego kodu pomiędzy kolejnymi do niego odwołaniami.\n",
        "- to upraszcza implementację w stosunku do podejścia w którym używa się `self.index` i `self.data`.\n",
        "- w przypadku zakończenia działania generatora zgłasza on automatycznie wyjątek `StopIteration`."
      ]
    },
    {
      "cell_type": "code",
      "execution_count": 12,
      "metadata": {
        "id": "jeu-GYoekLkk"
      },
      "outputs": [],
      "source": [
        "# generator\n",
        "'''\n",
        "def utworz(N):\n",
        "    for i in range(N):\n",
        "        yield i\n",
        "'''\n",
        "# iterator\n",
        "class Utworz_1:\n",
        "    def __init__(self, data):\n",
        "        self.data = data\n",
        "        self.index = 0\n",
        "\n",
        "    def __iter__(self):\n",
        "        return self\n",
        "\n",
        "    def __next__(self):\n",
        "        if self.index == self.data:\n",
        "            raise StopIteration\n",
        "        self.index = self.index + 1\n",
        "        return self.index"
      ]
    },
    {
      "cell_type": "code",
      "execution_count": 13,
      "metadata": {
        "colab": {
          "base_uri": "https://localhost:8080/"
        },
        "id": "VUmKkC4skLkl",
        "outputId": "083e6bc0-773b-4e1e-8874-ef97dc81f22d"
      },
      "outputs": [
        {
          "output_type": "stream",
          "name": "stdout",
          "text": [
            "<__main__.Utworz_1 object at 0x7bba801f0f40>\n",
            "1 2 3 4 5 6 7 8 9 10 "
          ]
        }
      ],
      "source": [
        "gg = Utworz_1(10); # konkretyzacja klasy  - iterator\n",
        "print(gg)\n",
        "\n",
        "for j in gg:\n",
        "    print(j, end = ' ')"
      ]
    },
    {
      "cell_type": "markdown",
      "metadata": {
        "deletable": false,
        "editable": false,
        "nbgrader": {
          "cell_type": "markdown",
          "checksum": "5ac6a192603e492cf02f85d903412381",
          "grade": false,
          "grade_id": "cell-727bc3ae4379ab30",
          "locked": true,
          "schema_version": 3,
          "solution": false,
          "task": false
        },
        "id": "DtwdUIolkLkl"
      },
      "source": [
        "## Wyrażenia generujące (`generator expressions`)\n",
        "\n",
        "https://docs.python.org/3/tutorial/classes.html#generator-expressions\n",
        "\n",
        "\n",
        "- Niektóre proste generatory mogą być efektywnie implementowane jako wyrażenia przy pomocy mechanizmu typu `list comprehension`, ale zamiast nawiasów kwadratowych `[]` używają nawiasów okrągłych `()`.\n",
        "\n",
        "- Wyrażenia te przeznaczone są dla sytuacji w których generator jest użyty bezpośrednio w wywołującej go funkcji.\n"
      ]
    },
    {
      "cell_type": "code",
      "execution_count": 14,
      "metadata": {
        "colab": {
          "base_uri": "https://localhost:8080/"
        },
        "id": "pYCmTomCkLkl",
        "outputId": "92b775c1-6aa3-42c0-a6ea-76faa3f06229"
      },
      "outputs": [
        {
          "output_type": "stream",
          "name": "stdout",
          "text": [
            "<generator object <genexpr> at 0x7bba8020c270>\n",
            "0 1 4 9 16 25 36 49 64 81 "
          ]
        }
      ],
      "source": [
        "g = (i**2 for i in range(10))\n",
        "print(g)\n",
        "for j in g:\n",
        "    print(j, end = ' ')"
      ]
    },
    {
      "cell_type": "markdown",
      "metadata": {
        "deletable": false,
        "editable": false,
        "nbgrader": {
          "cell_type": "markdown",
          "checksum": "4e88098433194a84e8c508fe61a1ab27",
          "grade": false,
          "grade_id": "cell-f79130e3d4f59cc9",
          "locked": true,
          "schema_version": 3,
          "solution": false,
          "task": false
        },
        "id": "Notd2S0gkLkl"
      },
      "source": [
        "Wyrażenia generatora często są używane z takimi funkcjami jak `sum`, `min`, `max`."
      ]
    },
    {
      "cell_type": "code",
      "execution_count": 15,
      "metadata": {
        "colab": {
          "base_uri": "https://localhost:8080/"
        },
        "id": "LItugQJJkLkl",
        "outputId": "00b46c88-df6f-4a4b-87ab-a1a39f6b0079"
      },
      "outputs": [
        {
          "output_type": "execute_result",
          "data": {
            "text/plain": [
              "285"
            ]
          },
          "metadata": {},
          "execution_count": 15
        }
      ],
      "source": [
        "sum(i**2 for i in range(10)) # użycie generatora bezpośrednio w funkcji sum()"
      ]
    },
    {
      "cell_type": "markdown",
      "metadata": {
        "deletable": false,
        "editable": false,
        "nbgrader": {
          "cell_type": "markdown",
          "checksum": "dcf7660b0747a14bd152f92ebe408020",
          "grade": false,
          "grade_id": "cell-564ac429ab59fae7",
          "locked": true,
          "schema_version": 3,
          "solution": false,
          "task": false
        },
        "id": "NzxgsPtGkLkl"
      },
      "source": [
        "## Przestrzenie nazw. Polecenia `nonlocal`, `global`.\n",
        "\n",
        "- Przestrzenie nazw tworzone są w różnych chwilach i są aktywne przez różny czas.\n",
        "\n",
        "\n",
        "- Przestrzeń nazw zawierająca nazwy wbudowane tworzona jest podczas rozpoczęcia pracy interpretera Pythona i nigdy nie jest usuwana. Nazwy wbudowane przechowywane są w module o nazwie `builtins`.\n",
        "\n",
        "\n",
        "- Przestrzeń nazw globalnych modułu tworzona jest podczas wczytywania jego definicji i jest aktywna również do chwili zakończenia pracy interpretera.\n",
        "\n",
        "\n",
        "- Instrukcje wykonywane przez wywołania interpretera, zarówno czytane z pliku jak i wprowadzane interaktywnie, są częścią modułu o nazwie `__main__` - tak więc posiadają swoją własną przestrzeń nazw globalnych.\n",
        "\n",
        "\n",
        "- Przestrzeń nazw lokalnych funkcji tworzona jest w momencie jej wywołania i niszczona, gdy następuje powrót z funkcji lub zgłoszony został w niej wyjątek, który nie został tam obsłużony.\n",
        "\n",
        "\n",
        "- Wywołanie rekurencyjne powoduje tworzenie za każdym razem nowej przestrzeni nazw lokalnych.\n",
        "\n",
        "\n",
        "- W każdym momencie wykonania programu, istnieją co najmniej trzy zagnieżdżone zasięgi nazw (tzn. wprost osiągalne są trzy przestrzenie nazw):\n",
        "  - najbardziej zagnieżdżony, w którym najpierw poszukuje się nazwy, zawiera on nazwy lokalne;\n",
        "  - środkowy, przeszukiwany w następnej kolejności, który zawiera aktualne nazwy globalne modułu;\n",
        "  - zewnętrzny (przeszukiwany na końcu) jest zasięgiem nazw wbudowanych.\n",
        "\n",
        "\n",
        "__`globals()`__ -  zwraca słownik reprezentujący bieżącą globalną tablicę symboli. Jest to zawsze słownik bieżącego modułu (wewnątrz funkcji lub metody jest to moduł, w którym jest zdefiniowany, a nie moduł, z którego jest wywoływany).\n",
        "\n",
        "__`locals()`__ - zwraca słownik reprezentujący bieżącą lokalną tablicę symboli. Na poziomie modułu `locals()` i `globals()` są tym samym słownikiem.\n",
        "\n"
      ]
    },
    {
      "cell_type": "code",
      "execution_count": 16,
      "metadata": {
        "colab": {
          "base_uri": "https://localhost:8080/"
        },
        "id": "rNi5DCtWkLkl",
        "outputId": "c515cd25-4c7b-4e05-b894-0eb1b3b82322"
      },
      "outputs": [
        {
          "output_type": "stream",
          "name": "stdout",
          "text": [
            "1)\n",
            " {'__name__': '__main__', '__doc__': '\\ndef utworz(N):\\n    for i in range(N):\\n        yield i \\n', '__package__': None, '__loader__': None, '__spec__': None, '__builtin__': <module 'builtins' (built-in)>, '__builtins__': <module 'builtins' (built-in)>, '_ih': ['', \"for element in 'abcd':\\n    print(element, end = ' ')\", \"s = 'abcd'\\nit = iter(s)     # wywołanie metody iter() na obiekcie kontenera (str) zwraca obiekt iteratora definujący metodę __next__()\\nprint(it)\\nprint(next(it))  # wywołuje metodę __next__() \\nprint(next(it))\\nprint(next(it))\\nprint(next(it))\\nnext(it)          # zgłoszenie wyjątku StopIteration \", \"s = 'abcd'\\nit = iter(s)     # wywołanie metody iter() na obiekcie kontenera (str) zwraca obiekt iteratora definujący metodę __next__()\\nprint(it)\\nprint(next(it))  # wywołuje metodę __next__() \\nprint(next(it))\\nprint(next(it))\\nprint(next(it))\\nnext(it)          # zgłoszenie wyjątku StopIteration \", 'next(wsp) # zgłasza wyjątek StopIteration ', '# YOUR CODE HERE\\nraise NotImplementedError()', 'class Wspak:\\n    def __init__(self, text):\\n        self.text = text\\n        self.index = len(text)\\n\\n    def __iter__(self):\\n        return self\\n\\n    def __next__(self):\\n        if self.index == 0:\\n            raise StopIteration\\n        self.index = self.index - 1\\n        return self.text[self.index]', \"wsp = Wspak('spam') # konkretyzacja klasy  - iterator\\nprint(wsp)\\nprint(type(wsp))\\nfor znak in wsp:\\n    print(znak)\", 'next(wsp) # zgłasza wyjątek StopIteration ', \"wsp1 = Wspak('maps')\\nwsp1.__next__(), wsp1.__next__(), wsp1.__next__(), wsp1.__next__() # wywołanie metody __next__()\\n#wsp1.__next__() # to wywołanie metody __next__() zgłasza wyjątek StopIteration \", \"def wygeneruj_calkowite(N):\\n    for i in range(N):\\n        yield i              # yield oznacza, że jest to generator - nie zwykła funkcja\\n\\ng = wygeneruj_calkowite(10); # funkcja wygeneruj_calkowite(10) zwraca obiekt generatora\\nprint(g)\\n\\nfor j in g:\\n    print(j, end = ' ')\", \"def utworz_licznik(x):\\n    print('Wejście do licznika')\\n    while True:\\n        yield x                   # yield oznacza, że jest to generator\\n        print('zwiększenie x')\\n        x = x + 1\\n\\nl = utworz_licznik(10)            # funkcja utworz_licznik(10) zwraca obiekt generatora\\nprint(l)\\n\\nnext(l), next(l), next(l)\", \"# generator\\n'''\\ndef utworz(N):\\n    for i in range(N):\\n        yield i \\n'''\\n# iterator\\nclass Utworz_1:  \\n    def __init__(self, data):\\n        self.data = data\\n        self.index = 0\\n\\n    def __iter__(self):\\n        return self\\n\\n    def __next__(self):\\n        if self.index == self.data:\\n            raise StopIteration\\n        self.index = self.index + 1\\n        return self.index\", \"gg = Utworz_1(10); # konkretyzacja klasy  - iterator\\nprint(gg)\\n\\nfor j in gg:\\n    print(j, end = ' ')\", \"g = (i**2 for i in range(10))\\nprint(g)\\nfor j in g:\\n    print(j, end = ' ')\", 'sum(i**2 for i in range(10)) # użycie generatora bezpośrednio w funkcji sum()', '# Przed każdym uruchomieniem naciśnij: Kernel / Restart & clear output\\n\\ndef scope_test():\\n    \\n    def do_local():\\n        spam = \"test_3\"\\n        print(\\'3)\\\\n\\', locals())\\n\\n    spam = \"test_2\"\\n    print(\\'2)\\\\n\\', locals())\\n    do_local()\\n\\nspam = \\'test_1\\'    \\nprint(\\'1)\\\\n\\', locals())\\nscope_test()\\n\\nlocals() == globals()\\n\\n#dir(__builtins__) # zwraca nazwy zdefiniowane w module builtins'], '_oh': {9: ('s', 'p', 'a', 'm'), 11: (10, 11, 12), 15: 285}, '_dh': ['/content'], 'In': ['', \"for element in 'abcd':\\n    print(element, end = ' ')\", \"s = 'abcd'\\nit = iter(s)     # wywołanie metody iter() na obiekcie kontenera (str) zwraca obiekt iteratora definujący metodę __next__()\\nprint(it)\\nprint(next(it))  # wywołuje metodę __next__() \\nprint(next(it))\\nprint(next(it))\\nprint(next(it))\\nnext(it)          # zgłoszenie wyjątku StopIteration \", \"s = 'abcd'\\nit = iter(s)     # wywołanie metody iter() na obiekcie kontenera (str) zwraca obiekt iteratora definujący metodę __next__()\\nprint(it)\\nprint(next(it))  # wywołuje metodę __next__() \\nprint(next(it))\\nprint(next(it))\\nprint(next(it))\\nnext(it)          # zgłoszenie wyjątku StopIteration \", 'next(wsp) # zgłasza wyjątek StopIteration ', '# YOUR CODE HERE\\nraise NotImplementedError()', 'class Wspak:\\n    def __init__(self, text):\\n        self.text = text\\n        self.index = len(text)\\n\\n    def __iter__(self):\\n        return self\\n\\n    def __next__(self):\\n        if self.index == 0:\\n            raise StopIteration\\n        self.index = self.index - 1\\n        return self.text[self.index]', \"wsp = Wspak('spam') # konkretyzacja klasy  - iterator\\nprint(wsp)\\nprint(type(wsp))\\nfor znak in wsp:\\n    print(znak)\", 'next(wsp) # zgłasza wyjątek StopIteration ', \"wsp1 = Wspak('maps')\\nwsp1.__next__(), wsp1.__next__(), wsp1.__next__(), wsp1.__next__() # wywołanie metody __next__()\\n#wsp1.__next__() # to wywołanie metody __next__() zgłasza wyjątek StopIteration \", \"def wygeneruj_calkowite(N):\\n    for i in range(N):\\n        yield i              # yield oznacza, że jest to generator - nie zwykła funkcja\\n\\ng = wygeneruj_calkowite(10); # funkcja wygeneruj_calkowite(10) zwraca obiekt generatora\\nprint(g)\\n\\nfor j in g:\\n    print(j, end = ' ')\", \"def utworz_licznik(x):\\n    print('Wejście do licznika')\\n    while True:\\n        yield x                   # yield oznacza, że jest to generator\\n        print('zwiększenie x')\\n        x = x + 1\\n\\nl = utworz_licznik(10)            # funkcja utworz_licznik(10) zwraca obiekt generatora\\nprint(l)\\n\\nnext(l), next(l), next(l)\", \"# generator\\n'''\\ndef utworz(N):\\n    for i in range(N):\\n        yield i \\n'''\\n# iterator\\nclass Utworz_1:  \\n    def __init__(self, data):\\n        self.data = data\\n        self.index = 0\\n\\n    def __iter__(self):\\n        return self\\n\\n    def __next__(self):\\n        if self.index == self.data:\\n            raise StopIteration\\n        self.index = self.index + 1\\n        return self.index\", \"gg = Utworz_1(10); # konkretyzacja klasy  - iterator\\nprint(gg)\\n\\nfor j in gg:\\n    print(j, end = ' ')\", \"g = (i**2 for i in range(10))\\nprint(g)\\nfor j in g:\\n    print(j, end = ' ')\", 'sum(i**2 for i in range(10)) # użycie generatora bezpośrednio w funkcji sum()', '# Przed każdym uruchomieniem naciśnij: Kernel / Restart & clear output\\n\\ndef scope_test():\\n    \\n    def do_local():\\n        spam = \"test_3\"\\n        print(\\'3)\\\\n\\', locals())\\n\\n    spam = \"test_2\"\\n    print(\\'2)\\\\n\\', locals())\\n    do_local()\\n\\nspam = \\'test_1\\'    \\nprint(\\'1)\\\\n\\', locals())\\nscope_test()\\n\\nlocals() == globals()\\n\\n#dir(__builtins__) # zwraca nazwy zdefiniowane w module builtins'], 'Out': {9: ('s', 'p', 'a', 'm'), 11: (10, 11, 12), 15: 285}, 'get_ipython': <bound method InteractiveShell.get_ipython of <google.colab._shell.Shell object at 0x7bba9366de70>>, 'exit': <IPython.core.autocall.ZMQExitAutocall object at 0x7bba9366e410>, 'quit': <IPython.core.autocall.ZMQExitAutocall object at 0x7bba9366e410>, '_': 285, '__': (10, 11, 12), '___': ('s', 'p', 'a', 'm'), '_i': 'sum(i**2 for i in range(10)) # użycie generatora bezpośrednio w funkcji sum()', '_ii': \"g = (i**2 for i in range(10))\\nprint(g)\\nfor j in g:\\n    print(j, end = ' ')\", '_iii': \"gg = Utworz_1(10); # konkretyzacja klasy  - iterator\\nprint(gg)\\n\\nfor j in gg:\\n    print(j, end = ' ')\", '_i1': \"for element in 'abcd':\\n    print(element, end = ' ')\", 'element': 'd', '_i2': \"s = 'abcd'\\nit = iter(s)     # wywołanie metody iter() na obiekcie kontenera (str) zwraca obiekt iteratora definujący metodę __next__()\\nprint(it)\\nprint(next(it))  # wywołuje metodę __next__() \\nprint(next(it))\\nprint(next(it))\\nprint(next(it))\\nnext(it)          # zgłoszenie wyjątku StopIteration \", 's': 'abcd', 'it': <str_iterator object at 0x7bba8231f670>, '_i3': \"s = 'abcd'\\nit = iter(s)     # wywołanie metody iter() na obiekcie kontenera (str) zwraca obiekt iteratora definujący metodę __next__()\\nprint(it)\\nprint(next(it))  # wywołuje metodę __next__() \\nprint(next(it))\\nprint(next(it))\\nprint(next(it))\\nnext(it)          # zgłoszenie wyjątku StopIteration \", '_i4': 'next(wsp) # zgłasza wyjątek StopIteration ', '_i5': '# YOUR CODE HERE\\nraise NotImplementedError()', '_i6': 'class Wspak:\\n    def __init__(self, text):\\n        self.text = text\\n        self.index = len(text)\\n\\n    def __iter__(self):\\n        return self\\n\\n    def __next__(self):\\n        if self.index == 0:\\n            raise StopIteration\\n        self.index = self.index - 1\\n        return self.text[self.index]', 'Wspak': <class '__main__.Wspak'>, '_i7': \"wsp = Wspak('spam') # konkretyzacja klasy  - iterator\\nprint(wsp)\\nprint(type(wsp))\\nfor znak in wsp:\\n    print(znak)\", 'wsp': <__main__.Wspak object at 0x7bba801f1390>, 'znak': 's', '_i8': 'next(wsp) # zgłasza wyjątek StopIteration ', '_i9': \"wsp1 = Wspak('maps')\\nwsp1.__next__(), wsp1.__next__(), wsp1.__next__(), wsp1.__next__() # wywołanie metody __next__()\\n#wsp1.__next__() # to wywołanie metody __next__() zgłasza wyjątek StopIteration \", 'wsp1': <__main__.Wspak object at 0x7bba801f0520>, '_9': ('s', 'p', 'a', 'm'), '_i10': \"def wygeneruj_calkowite(N):\\n    for i in range(N):\\n        yield i              # yield oznacza, że jest to generator - nie zwykła funkcja\\n\\ng = wygeneruj_calkowite(10); # funkcja wygeneruj_calkowite(10) zwraca obiekt generatora\\nprint(g)\\n\\nfor j in g:\\n    print(j, end = ' ')\", 'wygeneruj_calkowite': <function wygeneruj_calkowite at 0x7bba801d6680>, 'g': <generator object <genexpr> at 0x7bba8020c270>, 'j': 81, '_i11': \"def utworz_licznik(x):\\n    print('Wejście do licznika')\\n    while True:\\n        yield x                   # yield oznacza, że jest to generator\\n        print('zwiększenie x')\\n        x = x + 1\\n\\nl = utworz_licznik(10)            # funkcja utworz_licznik(10) zwraca obiekt generatora\\nprint(l)\\n\\nnext(l), next(l), next(l)\", 'utworz_licznik': <function utworz_licznik at 0x7bba801d60e0>, 'l': <generator object utworz_licznik at 0x7bba8020c040>, '_11': (10, 11, 12), '_i12': \"# generator\\n'''\\ndef utworz(N):\\n    for i in range(N):\\n        yield i \\n'''\\n# iterator\\nclass Utworz_1:  \\n    def __init__(self, data):\\n        self.data = data\\n        self.index = 0\\n\\n    def __iter__(self):\\n        return self\\n\\n    def __next__(self):\\n        if self.index == self.data:\\n            raise StopIteration\\n        self.index = self.index + 1\\n        return self.index\", 'Utworz_1': <class '__main__.Utworz_1'>, '_i13': \"gg = Utworz_1(10); # konkretyzacja klasy  - iterator\\nprint(gg)\\n\\nfor j in gg:\\n    print(j, end = ' ')\", 'gg': <__main__.Utworz_1 object at 0x7bba801f0f40>, '_i14': \"g = (i**2 for i in range(10))\\nprint(g)\\nfor j in g:\\n    print(j, end = ' ')\", '_i15': 'sum(i**2 for i in range(10)) # użycie generatora bezpośrednio w funkcji sum()', '_15': 285, '_i16': '# Przed każdym uruchomieniem naciśnij: Kernel / Restart & clear output\\n\\ndef scope_test():\\n    \\n    def do_local():\\n        spam = \"test_3\"\\n        print(\\'3)\\\\n\\', locals())\\n\\n    spam = \"test_2\"\\n    print(\\'2)\\\\n\\', locals())\\n    do_local()\\n\\nspam = \\'test_1\\'    \\nprint(\\'1)\\\\n\\', locals())\\nscope_test()\\n\\nlocals() == globals()\\n\\n#dir(__builtins__) # zwraca nazwy zdefiniowane w module builtins', 'scope_test': <function scope_test at 0x7bba801d7640>, 'spam': 'test_1'}\n",
            "2)\n",
            " {'do_local': <function scope_test.<locals>.do_local at 0x7bba8230b880>, 'spam': 'test_2'}\n",
            "3)\n",
            " {'spam': 'test_3'}\n"
          ]
        },
        {
          "output_type": "execute_result",
          "data": {
            "text/plain": [
              "True"
            ]
          },
          "metadata": {},
          "execution_count": 16
        }
      ],
      "source": [
        "# Przed każdym uruchomieniem naciśnij: Kernel / Restart & clear output\n",
        "\n",
        "def scope_test():\n",
        "\n",
        "    def do_local():\n",
        "        spam = \"test_3\"\n",
        "        print('3)\\n', locals())\n",
        "\n",
        "    spam = \"test_2\"\n",
        "    print('2)\\n', locals())\n",
        "    do_local()\n",
        "\n",
        "spam = 'test_1'\n",
        "print('1)\\n', locals())\n",
        "scope_test()\n",
        "\n",
        "locals() == globals()\n",
        "\n",
        "#dir(__builtins__) # zwraca nazwy zdefiniowane w module builtins"
      ]
    },
    {
      "cell_type": "markdown",
      "metadata": {
        "deletable": false,
        "editable": false,
        "nbgrader": {
          "cell_type": "markdown",
          "checksum": "0f3f2ffbeeca71389d5e3d14e9a5c519",
          "grade": false,
          "grade_id": "cell-5f102460f198404f",
          "locked": true,
          "schema_version": 3,
          "solution": false,
          "task": false
        },
        "id": "jmvSWFPckLkm"
      },
      "source": [
        "### Deklaracje `nonlocal`, `global`.\n",
        "\n",
        "- deklaracji `nonlocal` używamy aby odwołać się do zmiennych znajdujących się poza najbardziej zagnieżdżonym zasięgiem. Bez niej zmienne te byłyby tylko do odczytu. Podczas zapisu tworzona by była zmienna o tej samej nazwie, a ta zewnętrzna pozostała by niezmieniona.\n",
        "\n",
        "\n",
        "- deklaracja `global` może zostać użyta do oznaczenia, że wyszczególniona nazwa należy do przestrzeni nazw globalnych\n",
        "\n",
        "\n",
        "- Zasięgi nazw zdeterminowane są przez ich zasięg w tekście. Zasięg globalny funkcji zdefiniowanej w danym module jest zasięgiem związanym z tym modułem, niezależnie gdzie i jak (przy pomocy jakiego aliasu funkcja jest wywoływana)\n",
        "\n",
        "\n",
        "- Jedną z cech szczególnych Pythona jest to, że przypisanie zawsze zachodzi w najbardziej zagnieżdżonym zasięgu. Przypisania nie powodują kopiowania danych - przywiązują jedynie nazwy do obiektów.\n",
        "\n",
        "\n",
        "- To samo zachodzi w przypadku usuwania: instrukcja `del x` usuwa związek obiektu identyfikowanego przez nazwę x z tą nazwą w przestrzeni nazw lokalnych"
      ]
    },
    {
      "cell_type": "code",
      "execution_count": 17,
      "metadata": {
        "colab": {
          "base_uri": "https://localhost:8080/"
        },
        "id": "FWYnRa1xkLkm",
        "outputId": "91ec2142-5d75-41a3-8ac3-c4d0188e72f2"
      },
      "outputs": [
        {
          "output_type": "stream",
          "name": "stdout",
          "text": [
            "After local assignment: test spam\n",
            "After nonlocal assignment: nonlocal spam\n",
            "After global assignment: nonlocal spam\n",
            "In global scope: global spam\n"
          ]
        }
      ],
      "source": [
        "def scope_test():\n",
        "    def do_local():\n",
        "        spam = \"local spam\"     # lokalne związanie nie zmienia spam w scope_test()\n",
        "\n",
        "    def do_nonlocal():\n",
        "        nonlocal spam           # nonlocal zmienia spam w scope_test()\n",
        "        spam = \"nonlocal spam\"\n",
        "\n",
        "    def do_global():\n",
        "        global spam             # global zmienia spam na poziomie modułu\n",
        "        spam = \"global spam\"\n",
        "\n",
        "    spam = \"test spam\"\n",
        "    do_local()\n",
        "    print(\"After local assignment:\", spam)\n",
        "    do_nonlocal()\n",
        "    print(\"After nonlocal assignment:\", spam)\n",
        "    do_global()\n",
        "    print(\"After global assignment:\", spam)\n",
        "\n",
        "scope_test()\n",
        "print(\"In global scope:\", spam)"
      ]
    },
    {
      "cell_type": "markdown",
      "metadata": {
        "deletable": false,
        "editable": false,
        "nbgrader": {
          "cell_type": "markdown",
          "checksum": "5a53e0eda71a0790ca2b44f2e1ec15e6",
          "grade": false,
          "grade_id": "cell-e8f0fee5edaeafc1",
          "locked": true,
          "schema_version": 3,
          "solution": false
        },
        "id": "2gf5ghqtkLkm"
      },
      "source": [
        "## Zadanie 1\n",
        "\n",
        "Napisz klasę`SamogloskaUpss` przyjmującą jako argument konstruktora tekst. Klasa ta powinna pełnić rolę iteratora, iterującego po podanym tekście. W przypadku napotkania samogłoski iterator zwraca tekst `Upss`.\n",
        "\n",
        "https://docs.python.org/3/tutorial/classes.html#iterators"
      ]
    },
    {
      "cell_type": "code",
      "execution_count": 18,
      "metadata": {
        "deletable": false,
        "nbgrader": {
          "cell_type": "code",
          "checksum": "b81d77ef3e3831026e681f8f18f7c058",
          "grade": true,
          "grade_id": "cell-07002b2861d7761e",
          "locked": false,
          "points": 1,
          "schema_version": 3,
          "solution": true
        },
        "colab": {
          "base_uri": "https://localhost:8080/"
        },
        "id": "TP676xJikLkm",
        "outputId": "3769b76c-7e86-4360-9891-f23da8d45acb"
      },
      "outputs": [
        {
          "output_type": "stream",
          "name": "stdout",
          "text": [
            "T\n",
            "Upss\n",
            " \n",
            "j\n",
            "Upss\n",
            "s\n",
            "t\n",
            " \n",
            "p\n",
            "r\n",
            "z\n",
            "Upss\n",
            "k\n",
            "ł\n",
            "Upss\n",
            "d\n",
            "Upss\n",
            "w\n",
            "Upss\n",
            " \n",
            "t\n",
            "Upss\n",
            "k\n",
            "s\n",
            "t\n"
          ]
        }
      ],
      "source": [
        "class SamogloskaUpss:\n",
        "    def __init__(self, tekst):\n",
        "        self.tekst = tekst\n",
        "        self.index = 0\n",
        "        self.samogloski = \"aeiouyAEIOUY\"  # samogłoski w języku polskim i angielskim\n",
        "\n",
        "    def __iter__(self):\n",
        "        return self\n",
        "\n",
        "    def __next__(self):\n",
        "        if self.index >= len(self.tekst):\n",
        "            raise StopIteration\n",
        "\n",
        "        char = self.tekst[self.index]\n",
        "        if char in self.samogloski:\n",
        "            self.index += 1\n",
        "            return \"Upss\"\n",
        "\n",
        "        self.index += 1\n",
        "        return char\n",
        "\n",
        "# Przykład użycia:\n",
        "if __name__ == \"__main__\":\n",
        "    tekst = \"To jest przykładowy tekst\"\n",
        "    iterator = SamogloskaUpss(tekst)\n",
        "\n",
        "    for element in iterator:\n",
        "        print(element)\n"
      ]
    },
    {
      "cell_type": "markdown",
      "metadata": {
        "deletable": false,
        "editable": false,
        "nbgrader": {
          "cell_type": "markdown",
          "checksum": "02d80030beb8d895f5d488766201f1a4",
          "grade": false,
          "grade_id": "cell-9a0be2fbb9c21bf3",
          "locked": true,
          "schema_version": 3,
          "solution": false
        },
        "id": "VIlcO03WkLkm"
      },
      "source": [
        "## Zadanie 2\n",
        "Napisz klasę `Unikalne` przyjmującą jako argument konstruktora pewną listę. Klasa ta powinna pełnić rolę iteratora, iterującego po unikalnych (występujących dokładnie jeden raz) elementach listy.\n"
      ]
    },
    {
      "cell_type": "code",
      "execution_count": 19,
      "metadata": {
        "deletable": false,
        "nbgrader": {
          "cell_type": "code",
          "checksum": "a621cd80665fbae367cd562f810e246a",
          "grade": true,
          "grade_id": "cell-4e9dc8765382deaf",
          "locked": false,
          "points": 1,
          "schema_version": 3,
          "solution": true
        },
        "colab": {
          "base_uri": "https://localhost:8080/"
        },
        "id": "KO__aDXgkLkm",
        "outputId": "bf58bf45-3b7e-4cf1-c190-b24aecd69903"
      },
      "outputs": [
        {
          "output_type": "stream",
          "name": "stdout",
          "text": [
            "1\n",
            "3\n",
            "4\n",
            "6\n"
          ]
        }
      ],
      "source": [
        "class Unikalne:\n",
        "    def __init__(self, lista):\n",
        "        self.lista = lista\n",
        "        self.indeks = 0\n",
        "        self.licznik = {}\n",
        "        self._znajdz_unikalne()\n",
        "\n",
        "    def _znajdz_unikalne(self):\n",
        "        for element in self.lista:\n",
        "            if element in self.licznik:\n",
        "                self.licznik[element] += 1\n",
        "            else:\n",
        "                self.licznik[element] = 1\n",
        "\n",
        "        # Znajdowanie unikalnych elementów\n",
        "        self.unikalne_elementy = [element for element in self.lista if self.licznik[element] == 1]\n",
        "\n",
        "    def __iter__(self):\n",
        "        return self\n",
        "\n",
        "    def __next__(self):\n",
        "        if self.indeks >= len(self.unikalne_elementy):\n",
        "            raise StopIteration\n",
        "\n",
        "        element = self.unikalne_elementy[self.indeks]\n",
        "        self.indeks += 1\n",
        "        return element\n",
        "\n",
        "# Przykład użycia:\n",
        "if __name__ == \"__main__\":\n",
        "    lista = [1, 2, 2, 3, 4, 5, 5, 6, 7, 7]\n",
        "    iterator = Unikalne(lista)\n",
        "\n",
        "    for element in iterator:\n",
        "        print(element)\n"
      ]
    },
    {
      "cell_type": "markdown",
      "metadata": {
        "deletable": false,
        "editable": false,
        "nbgrader": {
          "cell_type": "markdown",
          "checksum": "51823f21a29a3ea3fa43459eff909243",
          "grade": false,
          "grade_id": "cell-c12f33b297cd92a6",
          "locked": true,
          "schema_version": 3,
          "solution": false
        },
        "id": "0HGiy9_bkLkm"
      },
      "source": [
        "## Zadanie 3\n",
        "Napisz funkcję `liczby_pierwsze` przyjmującą jako argument liczbę całkowitą. Funkcja ta powinna być generatorem zwracającym liczby pierwsze od 2 do liczby przesłanej jako argument, bez niej. Wykorzystaj słowo kluczowe `yield`.\n",
        "\n",
        "Przykładowe użycie funkcji `liczby_pierwsze`:\n",
        "\n",
        "\n",
        "```python\n",
        "for i in liczby_pierwsze(100):\n",
        "    print(i)\n",
        "# powyższy kod powinien wypisać liczby pierwsze do liczby 97 włącznie\n",
        "```\n",
        "\n",
        "https://docs.python.org/3/tutorial/classes.html#generators"
      ]
    },
    {
      "cell_type": "code",
      "execution_count": 20,
      "metadata": {
        "deletable": false,
        "nbgrader": {
          "cell_type": "code",
          "checksum": "bcf44c536743e9cd6f8a5c840780fb28",
          "grade": true,
          "grade_id": "cell-f9abfb50896389c7",
          "locked": false,
          "points": 1,
          "schema_version": 3,
          "solution": true
        },
        "colab": {
          "base_uri": "https://localhost:8080/"
        },
        "id": "sG_mw7ZHkLkn",
        "outputId": "de42bc73-2b04-4f7b-be7f-0a32ee45e1f4"
      },
      "outputs": [
        {
          "output_type": "stream",
          "name": "stdout",
          "text": [
            "2\n",
            "3\n",
            "5\n",
            "7\n",
            "11\n",
            "13\n",
            "17\n",
            "19\n",
            "23\n",
            "29\n",
            "31\n",
            "37\n",
            "41\n",
            "43\n",
            "47\n",
            "53\n",
            "59\n",
            "61\n",
            "67\n",
            "71\n",
            "73\n",
            "79\n",
            "83\n",
            "89\n",
            "97\n"
          ]
        }
      ],
      "source": [
        "def liczby_pierwsze(n):\n",
        "    \"\"\" Generator yielding prime numbers up to n (inclusive). \"\"\"\n",
        "    if n < 2:\n",
        "        return\n",
        "\n",
        "    # Inicjalizacja listy oznaczającej czy liczba jest pierwsza (True) czy nie (False)\n",
        "    is_prime = [True] * (n + 1)\n",
        "    is_prime[0] = is_prime[1] = False  # 0 i 1 nie są liczbami pierwszymi\n",
        "\n",
        "    # Implementacja Sita Eratostenesa\n",
        "    for start in range(2, int(n**0.5) + 1):\n",
        "        if is_prime[start]:\n",
        "            for multiple in range(start*start, n + 1, start):\n",
        "                is_prime[multiple] = False\n",
        "\n",
        "    # Generowanie liczb pierwszych\n",
        "    for number in range(2, n + 1):\n",
        "        if is_prime[number]:\n",
        "            yield number\n",
        "\n",
        "# Przykładowe użycie funkcji liczby_pierwsze:\n",
        "if __name__ == \"__main__\":\n",
        "    limit = 100\n",
        "    for prime in liczby_pierwsze(limit):\n",
        "        print(prime)\n"
      ]
    },
    {
      "cell_type": "markdown",
      "metadata": {
        "deletable": false,
        "editable": false,
        "nbgrader": {
          "cell_type": "markdown",
          "checksum": "064d28df37b0d6245ff06958f827e893",
          "grade": false,
          "grade_id": "cell-7083f6bf70bee9b3",
          "locked": true,
          "schema_version": 3,
          "solution": false,
          "task": false
        },
        "id": "X6y0nqA7kLkn"
      },
      "source": [
        "## Zadanie 4\n",
        "Napisz funkcję `JednorekiBandyta`, przyjmującą jako argument pewną kwotę w groszach. Funkcja ta powinna być generatorem tworzącym obiekty monet o nominałach 1 lub 2 grosze, do kwoty zadanej argumentem. Klasa `Moneta` z poprzednich laboratoriów.\n",
        "\n",
        "Przykładowo, wywołanie `JednorekiBandyta(100)` powinno wygenerować na przykład 100 monet 1gr, lub 50 monet 2gr, lub dowolną inną kombinację dającą w sumie 100gr.\n"
      ]
    },
    {
      "cell_type": "code",
      "execution_count": 21,
      "metadata": {
        "deletable": false,
        "nbgrader": {
          "cell_type": "code",
          "checksum": "19c885cb172830c33a1a9001190e1c4b",
          "grade": true,
          "grade_id": "cell-fb77ca19bb2b3d52",
          "locked": false,
          "points": 1,
          "schema_version": 3,
          "solution": true,
          "task": false
        },
        "colab": {
          "base_uri": "https://localhost:8080/"
        },
        "id": "5ct5bBrnkLkn",
        "outputId": "e0029870-b705-4564-ca79-7971c38650e5"
      },
      "outputs": [
        {
          "output_type": "stream",
          "name": "stdout",
          "text": [
            "Moneta(2gr)\n",
            "Moneta(2gr)\n",
            "Moneta(2gr)\n",
            "Moneta(2gr)\n",
            "Moneta(2gr)\n",
            "Moneta(2gr)\n",
            "Moneta(2gr)\n",
            "Moneta(2gr)\n",
            "Moneta(2gr)\n",
            "Moneta(2gr)\n",
            "Moneta(2gr)\n",
            "Moneta(2gr)\n",
            "Moneta(2gr)\n",
            "Moneta(2gr)\n",
            "Moneta(2gr)\n",
            "Moneta(2gr)\n",
            "Moneta(2gr)\n",
            "Moneta(2gr)\n",
            "Moneta(2gr)\n",
            "Moneta(2gr)\n",
            "Moneta(2gr)\n",
            "Moneta(2gr)\n",
            "Moneta(2gr)\n",
            "Moneta(2gr)\n",
            "Moneta(2gr)\n",
            "Moneta(2gr)\n",
            "Moneta(2gr)\n",
            "Moneta(2gr)\n",
            "Moneta(2gr)\n",
            "Moneta(2gr)\n",
            "Moneta(2gr)\n",
            "Moneta(2gr)\n",
            "Moneta(2gr)\n",
            "Moneta(2gr)\n",
            "Moneta(2gr)\n",
            "Moneta(2gr)\n",
            "Moneta(2gr)\n",
            "Moneta(2gr)\n",
            "Moneta(2gr)\n",
            "Moneta(2gr)\n",
            "Moneta(2gr)\n",
            "Moneta(2gr)\n",
            "Moneta(2gr)\n",
            "Moneta(2gr)\n",
            "Moneta(2gr)\n",
            "Moneta(2gr)\n",
            "Moneta(2gr)\n",
            "Moneta(2gr)\n",
            "Moneta(2gr)\n",
            "Moneta(2gr)\n"
          ]
        }
      ],
      "source": [
        "class Moneta:\n",
        "    def __init__(self, nominal):\n",
        "        self.nominal = nominal  # nominal w groszach\n",
        "\n",
        "    def __repr__(self):\n",
        "        return f\"Moneta({self.nominal}gr)\"\n",
        "\n",
        "def JednorekiBandyta(kwota_grosze):\n",
        "    \"\"\" Generator yielding coins (Moneta objects) totaling up to kwota_grosze. \"\"\"\n",
        "    if kwota_grosze < 0:\n",
        "        return\n",
        "\n",
        "    while kwota_grosze > 0:\n",
        "        if kwota_grosze >= 2:\n",
        "            yield Moneta(2)\n",
        "            kwota_grosze -= 2\n",
        "        else:\n",
        "            yield Moneta(1)\n",
        "            kwota_grosze -= 1\n",
        "\n",
        "# Przykładowe użycie funkcji JednorekiBandyta:\n",
        "if __name__ == \"__main__\":\n",
        "    kwota = 100\n",
        "    for moneta in JednorekiBandyta(kwota):\n",
        "        print(moneta)\n"
      ]
    },
    {
      "cell_type": "markdown",
      "metadata": {
        "deletable": false,
        "editable": false,
        "nbgrader": {
          "cell_type": "markdown",
          "checksum": "ed3b5e1b534f01530c0aacdd34e02b68",
          "grade": false,
          "grade_id": "cell-53ad863665f0c035",
          "locked": true,
          "schema_version": 3,
          "solution": false,
          "task": false
        },
        "id": "F7Lsc_ZwkLkn"
      },
      "source": [
        "## Zadanie 5\n",
        "\n",
        "Do klasy `PrzechowywaczMonet` z poprzednich laboratoriów dodaj metodę `wszystkieMonety` będącą generatorem zwracającym kolejno wszystkie przechowywane monety posortowane rosnąco po nominale.\n"
      ]
    },
    {
      "cell_type": "code",
      "execution_count": 22,
      "metadata": {
        "deletable": false,
        "nbgrader": {
          "cell_type": "code",
          "checksum": "1d9c9e4464986052e83bbd7565ea0ec7",
          "grade": true,
          "grade_id": "cell-b09c7702bc510a5f",
          "locked": false,
          "points": 1,
          "schema_version": 3,
          "solution": true,
          "task": false
        },
        "colab": {
          "base_uri": "https://localhost:8080/"
        },
        "id": "JPX29P39kLkn",
        "outputId": "bc9960d1-df35-46ce-8a04-3c9e334728d3"
      },
      "outputs": [
        {
          "output_type": "stream",
          "name": "stdout",
          "text": [
            "Moneta(2gr)\n",
            "Moneta(5gr)\n",
            "Moneta(10gr)\n"
          ]
        }
      ],
      "source": [
        "class Moneta:\n",
        "    def __init__(self, nominal):\n",
        "        self.nominal = nominal\n",
        "\n",
        "    def __repr__(self):\n",
        "        return f\"Moneta({self.nominal}gr)\"\n",
        "\n",
        "class PrzechowywaczMonet:\n",
        "    def __init__(self):\n",
        "        self.monety = []\n",
        "\n",
        "    def dodajMonete(self, moneta):\n",
        "        self.monety.append(moneta)\n",
        "\n",
        "    def wszystkieMonety(self):\n",
        "        \"\"\" Generator yielding all stored coins sorted by nominal ascending. \"\"\"\n",
        "        sorted_monety = sorted(self.monety, key=lambda moneta: moneta.nominal)\n",
        "        for moneta in sorted_monety:\n",
        "            yield moneta\n",
        "\n",
        "# Przykład użycia:\n",
        "if __name__ == \"__main__\":\n",
        "    przechowywacz = PrzechowywaczMonet()\n",
        "    przechowywacz.dodajMonete(Moneta(5))\n",
        "    przechowywacz.dodajMonete(Moneta(2))\n",
        "    przechowywacz.dodajMonete(Moneta(10))\n",
        "\n",
        "    for moneta in przechowywacz.wszystkieMonety():\n",
        "        print(moneta)\n"
      ]
    },
    {
      "cell_type": "markdown",
      "metadata": {
        "deletable": false,
        "editable": false,
        "nbgrader": {
          "cell_type": "markdown",
          "checksum": "945a4317900151d247c1a2800e411f62",
          "grade": false,
          "grade_id": "cell-b862d7e7eb87ec9c",
          "locked": true,
          "schema_version": 3,
          "solution": false,
          "task": false
        },
        "id": "_ExwrN2ykLko"
      },
      "source": [
        "## Zadanie 6\n",
        "Napisz funkcję liczącą sumę iloczynów elementów dwóch list `a` i `b`:\n",
        "\n",
        "`a[0]*b[0]+a[1]*b[1]+....`\n",
        "\n",
        "Obie listy powinny być równej długości. Wykorzystaj `generator expressions` oraz funkcję `zip`.\n",
        "\n",
        "https://docs.python.org/3/tutorial/classes.html#generator-expressions"
      ]
    },
    {
      "cell_type": "code",
      "execution_count": 23,
      "metadata": {
        "deletable": false,
        "nbgrader": {
          "cell_type": "code",
          "checksum": "6f0161f6bcef1a915fdd3ab7a722ac59",
          "grade": true,
          "grade_id": "cell-d78d82a743570324",
          "locked": false,
          "points": 1,
          "schema_version": 3,
          "solution": true,
          "task": false
        },
        "colab": {
          "base_uri": "https://localhost:8080/"
        },
        "id": "Cq3-1TcvkLko",
        "outputId": "63de37fe-adc7-4dd5-dd62-7c924bd21964"
      },
      "outputs": [
        {
          "output_type": "stream",
          "name": "stdout",
          "text": [
            "Suma iloczynów: 70\n"
          ]
        }
      ],
      "source": [
        "def suma_iloczynow(a, b):\n",
        "    \"\"\" Funkcja zwracająca sumę iloczynów elementów list a i b. \"\"\"\n",
        "    if len(a) != len(b):\n",
        "        raise ValueError(\"Listy a i b muszą być równej długości.\")\n",
        "\n",
        "    suma = sum(a_i * b_i for a_i, b_i in zip(a, b))\n",
        "    return suma\n",
        "\n",
        "# Przykładowe użycie:\n",
        "if __name__ == \"__main__\":\n",
        "    lista_a = [1, 2, 3, 4]\n",
        "    lista_b = [5, 6, 7, 8]\n",
        "\n",
        "    wynik = suma_iloczynow(lista_a, lista_b)\n",
        "    print(\"Suma iloczynów:\", wynik)\n"
      ]
    },
    {
      "cell_type": "markdown",
      "metadata": {
        "deletable": false,
        "editable": false,
        "nbgrader": {
          "cell_type": "markdown",
          "checksum": "83d17d186d9a190d3dc032c27a89dc77",
          "grade": false,
          "grade_id": "cell-fea6ecb5d527f4f0",
          "locked": true,
          "schema_version": 3,
          "solution": false,
          "task": false
        },
        "id": "e3t_fws8kLko"
      },
      "source": [
        "## Zadanie 7\n",
        "\n",
        "Napisz funkcję `srednia` będącą generatorem, liczącym średnią arytmetyczną wartości przesłanych do niej przy pomocy metody `send`.\n",
        "\n",
        "Przykładowy kod używający `send`:\n",
        "\n",
        "```python\n",
        "def sumowanie():\n",
        "    suma=0\n",
        "    while True:\n",
        "        a=(yield)\n",
        "        print(\"Otrzymano:\", a)\n",
        "        suma+=a\n",
        "        yield suma\n",
        "\n",
        "generator=sumowanie()\n",
        "\n",
        "for i in [1, 2, 3, 5, 7, 11]:\n",
        "    next(generator)\n",
        "    print(\"Generator zwrócił:\", generator.send(i))\n",
        "```\n",
        "\n",
        "\n",
        "\n",
        "https://docs.python.org/3/reference/expressions.html#yield-expressions"
      ]
    },
    {
      "cell_type": "code",
      "execution_count": 24,
      "metadata": {
        "deletable": false,
        "nbgrader": {
          "cell_type": "code",
          "checksum": "291bf30729ba1312a15d90b8e70c1eaa",
          "grade": true,
          "grade_id": "cell-a1f3c211a750990f",
          "locked": false,
          "points": 1,
          "schema_version": 3,
          "solution": true,
          "task": false
        },
        "colab": {
          "base_uri": "https://localhost:8080/"
        },
        "id": "1_QmobjVkLkp",
        "outputId": "c2c58503-51f5-4f1f-c474-0a942fa365e8"
      },
      "outputs": [
        {
          "output_type": "stream",
          "name": "stdout",
          "text": [
            "Otrzymano: 1\n",
            "Generator zwrócił: 1.0\n",
            "Otrzymano: 2\n",
            "Generator zwrócił: 1.5\n",
            "Otrzymano: 3\n",
            "Generator zwrócił: 2.0\n",
            "Otrzymano: 5\n",
            "Generator zwrócił: 2.75\n",
            "Otrzymano: 7\n",
            "Generator zwrócił: 3.6\n",
            "Otrzymano: 11\n",
            "Generator zwrócił: 4.833333333333333\n"
          ]
        }
      ],
      "source": [
        "def srednia():\n",
        "    suma = 0\n",
        "    licznik = 0\n",
        "    while True:\n",
        "        wartosc = yield\n",
        "        print(\"Otrzymano:\", wartosc)\n",
        "        suma += wartosc\n",
        "        licznik += 1\n",
        "        srednia = suma / licznik\n",
        "        yield srednia\n",
        "\n",
        "# Przykładowe użycie:\n",
        "if __name__ == \"__main__\":\n",
        "    generator = srednia()\n",
        "\n",
        "    for i in [1, 2, 3, 5, 7, 11]:\n",
        "        next(generator)  # Przygotowanie generatora do odbioru wartości\n",
        "        print(\"Generator zwrócił:\", generator.send(i))\n"
      ]
    },
    {
      "cell_type": "markdown",
      "metadata": {
        "deletable": false,
        "editable": false,
        "nbgrader": {
          "cell_type": "markdown",
          "checksum": "c4039e105e484c90ecd7efcf02a208c2",
          "grade": false,
          "grade_id": "cell-09cc09d00c2da555",
          "locked": true,
          "schema_version": 3,
          "solution": false,
          "task": false
        },
        "id": "t9jBkv3ZkLkp"
      },
      "source": [
        "## Zadanie 8\n",
        "\n",
        "Dany jest kod:\n",
        "\n",
        "```python\n",
        "x=0\n",
        "\n",
        "def bla():\n",
        "    x+=1\n",
        "    \n",
        "print(x)\n",
        "bla()\n",
        "print(x)\n",
        "```\n",
        "\n",
        "Zmodyfikuj funkcję `bla` tak, aby zwiększała wartość zmiennej globalnej `x` o 1.\n",
        "\n",
        "Wykorzystaj słowo kluczowe `global`.\n",
        "\n"
      ]
    },
    {
      "cell_type": "code",
      "execution_count": 25,
      "metadata": {
        "deletable": false,
        "nbgrader": {
          "cell_type": "code",
          "checksum": "1f6d6d4d67141976306da0f3f5d96db3",
          "grade": true,
          "grade_id": "cell-3446be6132b274f2",
          "locked": false,
          "points": 1,
          "schema_version": 3,
          "solution": true,
          "task": false
        },
        "colab": {
          "base_uri": "https://localhost:8080/"
        },
        "id": "cjDa-aY2kLkq",
        "outputId": "a29d49ea-7812-47cd-f115-b12b9f23b470"
      },
      "outputs": [
        {
          "output_type": "stream",
          "name": "stdout",
          "text": [
            "0\n",
            "1\n"
          ]
        }
      ],
      "source": [
        "x = 0\n",
        "\n",
        "def bla():\n",
        "    global x\n",
        "    x += 1\n",
        "\n",
        "print(x)  # Wyświetli: 0\n",
        "bla()\n",
        "print(x)  # Wyświetli: 1\n"
      ]
    },
    {
      "cell_type": "markdown",
      "metadata": {
        "deletable": false,
        "editable": false,
        "nbgrader": {
          "cell_type": "markdown",
          "checksum": "628988cfa90b1e74f6ba50f3082c1b93",
          "grade": false,
          "grade_id": "cell-8112ca5138f60501",
          "locked": true,
          "schema_version": 3,
          "solution": false,
          "task": false
        },
        "id": "yw3ecA_1kLkq"
      },
      "source": [
        "## Zadanie 9\n",
        "\n",
        "Dany jest kod:\n",
        "\n",
        "```python\n",
        "x=1337\n",
        "\n",
        "def foo():\n",
        "    def bar():\n",
        "        x+=1\n",
        "    x=0\n",
        "    print(x)\n",
        "    bar()\n",
        "    print(x)\n",
        "    \n",
        "print(x)\n",
        "foo()\n",
        "print(x)\n",
        "\n",
        "```\n",
        "\n",
        "Zmodyfikuj funkcje `foo` i `bar` tak, aby funkcja `bar` zwiększała zmienną `x` zdefiniowaną w funkcji `foo` o 1, nie zmieniając wartości zmiennej globalnej `x`.\n",
        "\n",
        "Wykorzystaj słowo kluczowe `nonlocal`."
      ]
    },
    {
      "cell_type": "code",
      "execution_count": 26,
      "metadata": {
        "deletable": false,
        "nbgrader": {
          "cell_type": "code",
          "checksum": "9aa3a1a5e10c1b2bca8dffc2973fefd9",
          "grade": true,
          "grade_id": "cell-9d4e49c8b0e243c2",
          "locked": false,
          "points": 1,
          "schema_version": 3,
          "solution": true,
          "task": false
        },
        "colab": {
          "base_uri": "https://localhost:8080/"
        },
        "id": "843ZmxYIkLkq",
        "outputId": "9a31b5f4-6759-4605-c8da-617a95e8e205"
      },
      "outputs": [
        {
          "output_type": "stream",
          "name": "stdout",
          "text": [
            "1337\n",
            "0\n",
            "1\n",
            "1337\n"
          ]
        }
      ],
      "source": [
        "x = 1337\n",
        "\n",
        "def foo():\n",
        "    x = 0\n",
        "\n",
        "    def bar():\n",
        "        nonlocal x\n",
        "        x += 1\n",
        "\n",
        "    print(x)  # Wyświetli: 0\n",
        "    bar()\n",
        "    print(x)  # Wyświetli: 1\n",
        "\n",
        "print(x)  # Wyświetli: 1337\n",
        "foo()\n",
        "print(x)  # Wyświetli: 1337\n"
      ]
    },
    {
      "cell_type": "code",
      "execution_count": null,
      "metadata": {
        "id": "uRH9Vv8ekLkq"
      },
      "outputs": [],
      "source": []
    }
  ],
  "metadata": {
    "kernelspec": {
      "display_name": "Python 3 (ipykernel)",
      "language": "python",
      "name": "python3"
    },
    "language_info": {
      "codemirror_mode": {
        "name": "ipython",
        "version": 3
      },
      "file_extension": ".py",
      "mimetype": "text/x-python",
      "name": "python",
      "nbconvert_exporter": "python",
      "pygments_lexer": "ipython3",
      "version": "3.9.7"
    },
    "colab": {
      "provenance": []
    }
  },
  "nbformat": 4,
  "nbformat_minor": 0
}