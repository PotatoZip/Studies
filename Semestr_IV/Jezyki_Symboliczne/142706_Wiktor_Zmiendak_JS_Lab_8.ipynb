{
 "cells": [
  {
   "cell_type": "markdown",
   "metadata": {},
   "source": [
    "## Języki symboliczne - rok akademicki 2022/2023\n",
    "\n",
    "Przed rozpoczęciem pracy z notatnikiem zmień jego nazwę zgodnie z wzorem: `NrAlbumu_Nazwisko_Imie_PoprzedniaNazwa`\n",
    "\n",
    "Przed wysłaniem notatnika **upewnij się jeszcze raz** że zmieniłeś nazwę i że rozwiązałeś wszystkie zadania/ćwiczenia, w szczególności, że uzupełniłeś wszystkie pola `YOUR CODE HERE` oraz `YOUR ANSWER HERE`."
   ]
  },
  {
   "cell_type": "markdown",
   "metadata": {
    "deletable": false,
    "editable": false,
    "nbgrader": {
     "cell_type": "markdown",
     "checksum": "f247ec1d19f9087147e414e0c8385a26",
     "grade": false,
     "grade_id": "cell-4aca44267419a21f",
     "locked": true,
     "schema_version": 3,
     "solution": false
    }
   },
   "source": [
    "# Temat: Klasy - iteratory, generatory, wyrażenia generatora.\n",
    "Zapoznaj się z treścią niniejszego notatnika czytając i wykonując go komórka po komórce. Wykonaj napotkane zadania/ćwiczenia.\n",
    "\n",
    "\n",
    "## Iteratory\n",
    "\n",
    "https://docs.python.org/3/tutorial/classes.html#Iterators\n",
    "\n",
    "- po większości obiektów będących kontenerami możemy iterować używając pętli `for`;\n",
    "- funkcjonalność ta realizowana jest poprzez wywołanie przez `for` metody `iter()` na obiekcie kontenera, która zwraca obiekt iteratora definiujący metodę `__next__()` udostępniającą raz po razie kolejne elementy kontenera;\n",
    "- w przypadku gdy nie ma już kolejnych elementów `__next__()` zgłasza wyjątek `StopIteration` powiadamiajacy pętlę `for`, że należy ją zakończyć;\n",
    "- `__next__()` może być wywołane poprzez funkcję wbudowaną `next()`;\n",
    "\n"
   ]
  },
  {
   "cell_type": "code",
   "execution_count": null,
   "metadata": {},
   "outputs": [],
   "source": [
    "for element in 'abcd':\n",
    "    print(element, end = ' ')"
   ]
  },
  {
   "cell_type": "code",
   "execution_count": null,
   "metadata": {},
   "outputs": [],
   "source": [
    "s = 'abcd'\n",
    "it = iter(s)     # wywołanie metody iter() na obiekcie kontenera (str) zwraca obiekt iteratora definujący metodę __next__()\n",
    "print(it)\n",
    "print(next(it))  # wywołuje metodę __next__() \n",
    "print(next(it))\n",
    "print(next(it))\n",
    "print(next(it))\n",
    "next(it)          # zgłoszenie wyjątku StopIteration "
   ]
  },
  {
   "cell_type": "markdown",
   "metadata": {
    "deletable": false,
    "editable": false,
    "nbgrader": {
     "cell_type": "markdown",
     "checksum": "e7e96b2ec2e370e363269d56655f1ef5",
     "grade": false,
     "grade_id": "cell-a1ca26518f45f1a1",
     "locked": true,
     "schema_version": 3,
     "solution": false,
     "task": false
    }
   },
   "source": [
    "Znając mechanizmy iteratora stosunkowo łatwo jest go zaimplementować w swoich klasach.\n",
    "\n",
    "- należy zdefiniować metodę `__iter__()` zwracającą obiekt z metodą `__next__()`. \n",
    "- Jeśli klasa definiuje `__next__()` to `__iter__()` zwraca po prostu `self`.\n",
    "\n",
    "__Przykład__. Napisz klasę`Wspak` przyjmującą jako argument konstruktora tekst. Klasa ta powinna pełnić rolę iteratora, iterującego po podanym tekście wspak."
   ]
  },
  {
   "cell_type": "code",
   "execution_count": null,
   "metadata": {},
   "outputs": [],
   "source": [
    "class Wspak:\n",
    "    def __init__(self, text):\n",
    "        self.text = text\n",
    "        self.index = len(text)\n",
    "\n",
    "    def __iter__(self):\n",
    "        return self\n",
    "\n",
    "    def __next__(self):\n",
    "        if self.index == 0:\n",
    "            raise StopIteration\n",
    "        self.index = self.index - 1\n",
    "        return self.text[self.index]"
   ]
  },
  {
   "cell_type": "code",
   "execution_count": null,
   "metadata": {},
   "outputs": [],
   "source": [
    "wsp = Wspak('spam') # konkretyzacja klasy  - iterator\n",
    "print(wsp)\n",
    "print(type(wsp))\n",
    "for znak in wsp:\n",
    "    print(znak)"
   ]
  },
  {
   "cell_type": "code",
   "execution_count": null,
   "metadata": {},
   "outputs": [],
   "source": [
    "next(wsp) # zgłasza wyjątek StopIteration "
   ]
  },
  {
   "cell_type": "code",
   "execution_count": null,
   "metadata": {},
   "outputs": [],
   "source": [
    "wsp1 = Wspak('maps')\n",
    "wsp1.__next__(), wsp1.__next__(), wsp1.__next__(), wsp1.__next__() # wywołanie metody __next__()\n",
    "#wsp1.__next__() # to wywołanie metody __next__() zgłasza wyjątek StopIteration "
   ]
  },
  {
   "cell_type": "markdown",
   "metadata": {
    "deletable": false,
    "editable": false,
    "nbgrader": {
     "cell_type": "markdown",
     "checksum": "529f9639157231d48ae223d44a2f2b70",
     "grade": false,
     "grade_id": "cell-0d2411548714fce7",
     "locked": true,
     "schema_version": 3,
     "solution": false,
     "task": false
    }
   },
   "source": [
    "## Generatory\n",
    "\n",
    "https://docs.python.org/3/tutorial/classes.html#generators\n",
    "\n",
    "W Pythonie mamy dwa rodzaje generatorów:\n",
    "- tworzone przez funkcje generujące;\n",
    "- tworzone przez wyrażenia generujące.\n",
    "\n",
    "\n",
    "Generatory można traktować jak funkcje, których działanie można wstrzymywać i wznawiać (zmienne lokalne nie są niszczone po opuszczeniu generatora umożliwiając późniejsze wznowienie w tym samym miejscu):\n",
    "- Na potrzeby generatorów zostało wprowadzone nowe słowo kluczowe `yield`. \n",
    "- Każda funkcja, która zawiera instrukcję `yield` staje się automatycznie funkcją generującą. \n",
    "- Przy wywołaniu funkcji generującej nie jest zwracana pojedyncza wartość. Zamiast tego zwracany jest obiekt generatora, który obsługuje protokół iteratora.\n",
    "- instrukcja `yield` występuje zamiast instrukcji `return`.  Różnica pomiędzy tymi instrukcjami polega jednak na tym, że w przypadku instrukcji `yield` zostaje zapamiętany stan wykonywania generatora oraz wartości wszystkich zmiennych lokalnych. Przy kolejnym wywołaniu metody `__next()__` generatora wykonywanie funkcji jest wznawiane bezpośrednio po ostatnio napotkanej instrukcji `yield`.\n",
    "\n",
    "\n"
   ]
  },
  {
   "cell_type": "code",
   "execution_count": null,
   "metadata": {},
   "outputs": [],
   "source": [
    "def wygeneruj_calkowite(N):\n",
    "    for i in range(N):\n",
    "        yield i              # yield oznacza, że jest to generator - nie zwykła funkcja\n",
    "\n",
    "g = wygeneruj_calkowite(10); # funkcja wygeneruj_calkowite(10) zwraca obiekt generatora\n",
    "print(g)\n",
    "\n",
    "for j in g:\n",
    "    print(j, end = ' ')"
   ]
  },
  {
   "cell_type": "markdown",
   "metadata": {
    "deletable": false,
    "editable": false,
    "nbgrader": {
     "cell_type": "markdown",
     "checksum": "bc5e5183707d786f14590a176f505ea9",
     "grade": false,
     "grade_id": "cell-edd8a83b590b59d1",
     "locked": true,
     "schema_version": 3,
     "solution": false,
     "task": false
    }
   },
   "source": [
    "- Generator (funkcja realizująca generator) generuje i zwraca za każdym razem (z każdym wywołaniem funkcji) jedną wartość.\n",
    "- Wywołanie po raz pierwszy metody generatora `__next__()` dla obiektu generatora powoduje wykonanie kodu w `utworz_licznik` do pierwszego wystąpienia `yield`, a następnie zwrócenie wydobytej wartości (w przykładzie poniżej 10).\n",
    "- Kolejne wywołania `__next__()` rozpoczynają od miejsca ostatniego wyjścia z funkcji i działają do kolejnego napotkania `yield`. "
   ]
  },
  {
   "cell_type": "code",
   "execution_count": null,
   "metadata": {},
   "outputs": [],
   "source": [
    "def utworz_licznik(x):\n",
    "    print('Wejście do licznika')\n",
    "    while True:\n",
    "        yield x                   # yield oznacza, że jest to generator\n",
    "        print('zwiększenie x')\n",
    "        x = x + 1\n",
    "\n",
    "l = utworz_licznik(10)            # funkcja utworz_licznik(10) zwraca obiekt generatora\n",
    "print(l)\n",
    "\n",
    "next(l), next(l), next(l)"
   ]
  },
  {
   "cell_type": "markdown",
   "metadata": {
    "deletable": false,
    "editable": false,
    "nbgrader": {
     "cell_type": "markdown",
     "checksum": "d597ab2f5e4aa1ac3893727c33b86b85",
     "grade": false,
     "grade_id": "cell-30cb01c5fcca61d7",
     "locked": true,
     "schema_version": 3,
     "solution": false,
     "task": false
    }
   },
   "source": [
    "- wszystko co może być zrobione za pomocą generatorów można zaimplementować również za pomocą iteratorów bazujących na klasach.\n",
    "- to co wpływa na kompaktowość generatorów to to, że metody `__iter__()` oraz `__next__()` są tworzone automatycznie\n",
    "- kolejną, kluczową ich cechą jest pamiętanie lokalnych zmiennych i stanu wykonywanego kodu pomiędzy kolejnymi do niego odwołaniami.\n",
    "- to upraszcza implementację w stosunku do podejścia w którym używa się `self.index` i `self.data`.\n",
    "- w przypadku zakończenia działania generatora zgłasza on automatycznie wyjątek `StopIteration`."
   ]
  },
  {
   "cell_type": "code",
   "execution_count": null,
   "metadata": {},
   "outputs": [],
   "source": [
    "# generator\n",
    "'''\n",
    "def utworz(N):\n",
    "    for i in range(N):\n",
    "        yield i \n",
    "'''\n",
    "# iterator\n",
    "class Utworz_1:  \n",
    "    def __init__(self, data):\n",
    "        self.data = data\n",
    "        self.index = 0\n",
    "\n",
    "    def __iter__(self):\n",
    "        return self\n",
    "\n",
    "    def __next__(self):\n",
    "        if self.index == self.data:\n",
    "            raise StopIteration\n",
    "        self.index = self.index + 1\n",
    "        return self.index"
   ]
  },
  {
   "cell_type": "code",
   "execution_count": null,
   "metadata": {},
   "outputs": [],
   "source": [
    "gg = Utworz_1(10); # konkretyzacja klasy  - iterator\n",
    "print(gg)\n",
    "\n",
    "for j in gg:\n",
    "    print(j, end = ' ')"
   ]
  },
  {
   "cell_type": "markdown",
   "metadata": {
    "deletable": false,
    "editable": false,
    "nbgrader": {
     "cell_type": "markdown",
     "checksum": "5ac6a192603e492cf02f85d903412381",
     "grade": false,
     "grade_id": "cell-727bc3ae4379ab30",
     "locked": true,
     "schema_version": 3,
     "solution": false,
     "task": false
    }
   },
   "source": [
    "## Wyrażenia generujące (`generator expressions`)\n",
    "\n",
    "https://docs.python.org/3/tutorial/classes.html#generator-expressions\n",
    "\n",
    "\n",
    "- Niektóre proste generatory mogą być efektywnie implementowane jako wyrażenia przy pomocy mechanizmu typu `list comprehension`, ale zamiast nawiasów kwadratowych `[]` używają nawiasów okrągłych `()`.\n",
    "\n",
    "- Wyrażenia te przeznaczone są dla sytuacji w których generator jest użyty bezpośrednio w wywołującej go funkcji.\n"
   ]
  },
  {
   "cell_type": "code",
   "execution_count": null,
   "metadata": {},
   "outputs": [],
   "source": [
    "g = (i**2 for i in range(10))\n",
    "print(g)\n",
    "for j in g:\n",
    "    print(j, end = ' ')"
   ]
  },
  {
   "cell_type": "markdown",
   "metadata": {
    "deletable": false,
    "editable": false,
    "nbgrader": {
     "cell_type": "markdown",
     "checksum": "4e88098433194a84e8c508fe61a1ab27",
     "grade": false,
     "grade_id": "cell-f79130e3d4f59cc9",
     "locked": true,
     "schema_version": 3,
     "solution": false,
     "task": false
    }
   },
   "source": [
    "Wyrażenia generatora często są używane z takimi funkcjami jak `sum`, `min`, `max`."
   ]
  },
  {
   "cell_type": "code",
   "execution_count": null,
   "metadata": {},
   "outputs": [],
   "source": [
    "sum(i**2 for i in range(10)) # użycie generatora bezpośrednio w funkcji sum()"
   ]
  },
  {
   "cell_type": "markdown",
   "metadata": {
    "deletable": false,
    "editable": false,
    "nbgrader": {
     "cell_type": "markdown",
     "checksum": "dcf7660b0747a14bd152f92ebe408020",
     "grade": false,
     "grade_id": "cell-564ac429ab59fae7",
     "locked": true,
     "schema_version": 3,
     "solution": false,
     "task": false
    }
   },
   "source": [
    "## Przestrzenie nazw. Polecenia `nonlocal`, `global`.\n",
    "\n",
    "- Przestrzenie nazw tworzone są w różnych chwilach i są aktywne przez różny czas.\n",
    "\n",
    "\n",
    "- Przestrzeń nazw zawierająca nazwy wbudowane tworzona jest podczas rozpoczęcia pracy interpretera Pythona i nigdy nie jest usuwana. Nazwy wbudowane przechowywane są w module o nazwie `builtins`.\n",
    "\n",
    "\n",
    "- Przestrzeń nazw globalnych modułu tworzona jest podczas wczytywania jego definicji i jest aktywna również do chwili zakończenia pracy interpretera.\n",
    "\n",
    "\n",
    "- Instrukcje wykonywane przez wywołania interpretera, zarówno czytane z pliku jak i wprowadzane interaktywnie, są częścią modułu o nazwie `__main__` - tak więc posiadają swoją własną przestrzeń nazw globalnych.\n",
    "\n",
    "\n",
    "- Przestrzeń nazw lokalnych funkcji tworzona jest w momencie jej wywołania i niszczona, gdy następuje powrót z funkcji lub zgłoszony został w niej wyjątek, który nie został tam obsłużony.\n",
    "\n",
    "\n",
    "- Wywołanie rekurencyjne powoduje tworzenie za każdym razem nowej przestrzeni nazw lokalnych.\n",
    "\n",
    "\n",
    "- W każdym momencie wykonania programu, istnieją co najmniej trzy zagnieżdżone zasięgi nazw (tzn. wprost osiągalne są trzy przestrzenie nazw):\n",
    "  - najbardziej zagnieżdżony, w którym najpierw poszukuje się nazwy, zawiera on nazwy lokalne; \n",
    "  - środkowy, przeszukiwany w następnej kolejności, który zawiera aktualne nazwy globalne modułu; \n",
    "  - zewnętrzny (przeszukiwany na końcu) jest zasięgiem nazw wbudowanych.\n",
    "\n",
    "\n",
    "__`globals()`__ -  zwraca słownik reprezentujący bieżącą globalną tablicę symboli. Jest to zawsze słownik bieżącego modułu (wewnątrz funkcji lub metody jest to moduł, w którym jest zdefiniowany, a nie moduł, z którego jest wywoływany).\n",
    "\n",
    "__`locals()`__ - zwraca słownik reprezentujący bieżącą lokalną tablicę symboli. Na poziomie modułu `locals()` i `globals()` są tym samym słownikiem.\n",
    "\n"
   ]
  },
  {
   "cell_type": "code",
   "execution_count": null,
   "metadata": {},
   "outputs": [],
   "source": [
    "# Przed każdym uruchomieniem naciśnij: Kernel / Restart & clear output\n",
    "\n",
    "def scope_test():\n",
    "    \n",
    "    def do_local():\n",
    "        spam = \"test_3\"\n",
    "        print('3)\\n', locals())\n",
    "\n",
    "    spam = \"test_2\"\n",
    "    print('2)\\n', locals())\n",
    "    do_local()\n",
    "\n",
    "spam = 'test_1'    \n",
    "print('1)\\n', locals())\n",
    "scope_test()\n",
    "\n",
    "locals() == globals()\n",
    "\n",
    "#dir(__builtins__) # zwraca nazwy zdefiniowane w module builtins"
   ]
  },
  {
   "cell_type": "markdown",
   "metadata": {
    "deletable": false,
    "editable": false,
    "nbgrader": {
     "cell_type": "markdown",
     "checksum": "0f3f2ffbeeca71389d5e3d14e9a5c519",
     "grade": false,
     "grade_id": "cell-5f102460f198404f",
     "locked": true,
     "schema_version": 3,
     "solution": false,
     "task": false
    }
   },
   "source": [
    "### Deklaracje `nonlocal`, `global`.\n",
    "\n",
    "- deklaracji `nonlocal` używamy aby odwołać się do zmiennych znajdujących się poza najbardziej zagnieżdżonym zasięgiem. Bez niej zmienne te byłyby tylko do odczytu. Podczas zapisu tworzona by była zmienna o tej samej nazwie, a ta zewnętrzna pozostała by niezmieniona.\n",
    "\n",
    "\n",
    "- deklaracja `global` może zostać użyta do oznaczenia, że wyszczególniona nazwa należy do przestrzeni nazw globalnych\n",
    "\n",
    "\n",
    "- Zasięgi nazw zdeterminowane są przez ich zasięg w tekście. Zasięg globalny funkcji zdefiniowanej w danym module jest zasięgiem związanym z tym modułem, niezależnie gdzie i jak (przy pomocy jakiego aliasu funkcja jest wywoływana)\n",
    "\n",
    "\n",
    "- Jedną z cech szczególnych Pythona jest to, że przypisanie zawsze zachodzi w najbardziej zagnieżdżonym zasięgu. Przypisania nie powodują kopiowania danych - przywiązują jedynie nazwy do obiektów.\n",
    "\n",
    "\n",
    "- To samo zachodzi w przypadku usuwania: instrukcja `del x` usuwa związek obiektu identyfikowanego przez nazwę x z tą nazwą w przestrzeni nazw lokalnych"
   ]
  },
  {
   "cell_type": "code",
   "execution_count": null,
   "metadata": {},
   "outputs": [],
   "source": [
    "def scope_test():\n",
    "    def do_local():\n",
    "        spam = \"local spam\"     # lokalne związanie nie zmienia spam w scope_test()\n",
    "\n",
    "    def do_nonlocal():\n",
    "        nonlocal spam           # nonlocal zmienia spam w scope_test()\n",
    "        spam = \"nonlocal spam\"  \n",
    "\n",
    "    def do_global():\n",
    "        global spam             # global zmienia spam na poziomie modułu\n",
    "        spam = \"global spam\"\n",
    "\n",
    "    spam = \"test spam\"\n",
    "    do_local()\n",
    "    print(\"After local assignment:\", spam)\n",
    "    do_nonlocal()\n",
    "    print(\"After nonlocal assignment:\", spam)\n",
    "    do_global()\n",
    "    print(\"After global assignment:\", spam)\n",
    "    \n",
    "scope_test()\n",
    "print(\"In global scope:\", spam)"
   ]
  },
  {
   "cell_type": "markdown",
   "metadata": {
    "deletable": false,
    "editable": false,
    "nbgrader": {
     "cell_type": "markdown",
     "checksum": "5a53e0eda71a0790ca2b44f2e1ec15e6",
     "grade": false,
     "grade_id": "cell-e8f0fee5edaeafc1",
     "locked": true,
     "schema_version": 3,
     "solution": false
    }
   },
   "source": [
    "## Zadanie 1\n",
    "\n",
    "Napisz klasę`SamogloskaUpss` przyjmującą jako argument konstruktora tekst. Klasa ta powinna pełnić rolę iteratora, iterującego po podanym tekście. W przypadku napotkania samogłoski iterator zwraca tekst `Upss`.\n",
    "\n",
    "https://docs.python.org/3/tutorial/classes.html#iterators"
   ]
  },
  {
   "cell_type": "code",
   "execution_count": null,
   "metadata": {
    "deletable": false,
    "nbgrader": {
     "cell_type": "code",
     "checksum": "b81d77ef3e3831026e681f8f18f7c058",
     "grade": true,
     "grade_id": "cell-07002b2861d7761e",
     "locked": false,
     "points": 1,
     "schema_version": 3,
     "solution": true
    }
   },
   "outputs": [],
   "source": [
    "# YOUR CODE HERE\n",
    "raise NotImplementedError()"
   ]
  },
  {
   "cell_type": "markdown",
   "metadata": {
    "deletable": false,
    "editable": false,
    "nbgrader": {
     "cell_type": "markdown",
     "checksum": "02d80030beb8d895f5d488766201f1a4",
     "grade": false,
     "grade_id": "cell-9a0be2fbb9c21bf3",
     "locked": true,
     "schema_version": 3,
     "solution": false
    }
   },
   "source": [
    "## Zadanie 2\n",
    "Napisz klasę `Unikalne` przyjmującą jako argument konstruktora pewną listę. Klasa ta powinna pełnić rolę iteratora, iterującego po unikalnych (występujących dokładnie jeden raz) elementach listy.\n"
   ]
  },
  {
   "cell_type": "code",
   "execution_count": null,
   "metadata": {
    "deletable": false,
    "nbgrader": {
     "cell_type": "code",
     "checksum": "a621cd80665fbae367cd562f810e246a",
     "grade": true,
     "grade_id": "cell-4e9dc8765382deaf",
     "locked": false,
     "points": 1,
     "schema_version": 3,
     "solution": true
    }
   },
   "outputs": [],
   "source": [
    "# YOUR CODE HERE\n",
    "raise NotImplementedError()"
   ]
  },
  {
   "cell_type": "markdown",
   "metadata": {
    "deletable": false,
    "editable": false,
    "nbgrader": {
     "cell_type": "markdown",
     "checksum": "51823f21a29a3ea3fa43459eff909243",
     "grade": false,
     "grade_id": "cell-c12f33b297cd92a6",
     "locked": true,
     "schema_version": 3,
     "solution": false
    }
   },
   "source": [
    "## Zadanie 3\n",
    "Napisz funkcję `liczby_pierwsze` przyjmującą jako argument liczbę całkowitą. Funkcja ta powinna być generatorem zwracającym liczby pierwsze od 2 do liczby przesłanej jako argument, bez niej. Wykorzystaj słowo kluczowe `yield`.\n",
    "\n",
    "Przykładowe użycie funkcji `liczby_pierwsze`:\n",
    "\n",
    "\n",
    "```python\n",
    "for i in liczby_pierwsze(100):\n",
    "    print(i)\n",
    "# powyższy kod powinien wypisać liczby pierwsze do liczby 97 włącznie\n",
    "```\n",
    "\n",
    "https://docs.python.org/3/tutorial/classes.html#generators"
   ]
  },
  {
   "cell_type": "code",
   "execution_count": null,
   "metadata": {
    "deletable": false,
    "nbgrader": {
     "cell_type": "code",
     "checksum": "bcf44c536743e9cd6f8a5c840780fb28",
     "grade": true,
     "grade_id": "cell-f9abfb50896389c7",
     "locked": false,
     "points": 1,
     "schema_version": 3,
     "solution": true
    }
   },
   "outputs": [],
   "source": [
    "# YOUR CODE HERE\n",
    "raise NotImplementedError()"
   ]
  },
  {
   "cell_type": "markdown",
   "metadata": {
    "deletable": false,
    "editable": false,
    "nbgrader": {
     "cell_type": "markdown",
     "checksum": "064d28df37b0d6245ff06958f827e893",
     "grade": false,
     "grade_id": "cell-7083f6bf70bee9b3",
     "locked": true,
     "schema_version": 3,
     "solution": false,
     "task": false
    }
   },
   "source": [
    "## Zadanie 4\n",
    "Napisz funkcję `JednorekiBandyta`, przyjmującą jako argument pewną kwotę w groszach. Funkcja ta powinna być generatorem tworzącym obiekty monet o nominałach 1 lub 2 grosze, do kwoty zadanej argumentem. Klasa `Moneta` z poprzednich laboratoriów.\n",
    "\n",
    "Przykładowo, wywołanie `JednorekiBandyta(100)` powinno wygenerować na przykład 100 monet 1gr, lub 50 monet 2gr, lub dowolną inną kombinację dającą w sumie 100gr.\n"
   ]
  },
  {
   "cell_type": "code",
   "execution_count": null,
   "metadata": {
    "deletable": false,
    "nbgrader": {
     "cell_type": "code",
     "checksum": "19c885cb172830c33a1a9001190e1c4b",
     "grade": true,
     "grade_id": "cell-fb77ca19bb2b3d52",
     "locked": false,
     "points": 1,
     "schema_version": 3,
     "solution": true,
     "task": false
    }
   },
   "outputs": [],
   "source": [
    "# YOUR CODE HERE\n",
    "raise NotImplementedError()"
   ]
  },
  {
   "cell_type": "markdown",
   "metadata": {
    "deletable": false,
    "editable": false,
    "nbgrader": {
     "cell_type": "markdown",
     "checksum": "ed3b5e1b534f01530c0aacdd34e02b68",
     "grade": false,
     "grade_id": "cell-53ad863665f0c035",
     "locked": true,
     "schema_version": 3,
     "solution": false,
     "task": false
    }
   },
   "source": [
    "## Zadanie 5\n",
    "\n",
    "Do klasy `PrzechowywaczMonet` z poprzednich laboratoriów dodaj metodę `wszystkieMonety` będącą generatorem zwracającym kolejno wszystkie przechowywane monety posortowane rosnąco po nominale.\n"
   ]
  },
  {
   "cell_type": "code",
   "execution_count": null,
   "metadata": {
    "deletable": false,
    "nbgrader": {
     "cell_type": "code",
     "checksum": "1d9c9e4464986052e83bbd7565ea0ec7",
     "grade": true,
     "grade_id": "cell-b09c7702bc510a5f",
     "locked": false,
     "points": 1,
     "schema_version": 3,
     "solution": true,
     "task": false
    }
   },
   "outputs": [],
   "source": [
    "# YOUR CODE HERE\n",
    "raise NotImplementedError()"
   ]
  },
  {
   "cell_type": "markdown",
   "metadata": {
    "deletable": false,
    "editable": false,
    "nbgrader": {
     "cell_type": "markdown",
     "checksum": "945a4317900151d247c1a2800e411f62",
     "grade": false,
     "grade_id": "cell-b862d7e7eb87ec9c",
     "locked": true,
     "schema_version": 3,
     "solution": false,
     "task": false
    }
   },
   "source": [
    "## Zadanie 6\n",
    "Napisz funkcję liczącą sumę iloczynów elementów dwóch list `a` i `b`: \n",
    "\n",
    "`a[0]*b[0]+a[1]*b[1]+....`\n",
    "\n",
    "Obie listy powinny być równej długości. Wykorzystaj `generator expressions` oraz funkcję `zip`.\n",
    "\n",
    "https://docs.python.org/3/tutorial/classes.html#generator-expressions"
   ]
  },
  {
   "cell_type": "code",
   "execution_count": null,
   "metadata": {
    "deletable": false,
    "nbgrader": {
     "cell_type": "code",
     "checksum": "6f0161f6bcef1a915fdd3ab7a722ac59",
     "grade": true,
     "grade_id": "cell-d78d82a743570324",
     "locked": false,
     "points": 1,
     "schema_version": 3,
     "solution": true,
     "task": false
    }
   },
   "outputs": [],
   "source": [
    "# YOUR CODE HERE\n",
    "raise NotImplementedError()"
   ]
  },
  {
   "cell_type": "markdown",
   "metadata": {
    "deletable": false,
    "editable": false,
    "nbgrader": {
     "cell_type": "markdown",
     "checksum": "83d17d186d9a190d3dc032c27a89dc77",
     "grade": false,
     "grade_id": "cell-fea6ecb5d527f4f0",
     "locked": true,
     "schema_version": 3,
     "solution": false,
     "task": false
    }
   },
   "source": [
    "## Zadanie 7\n",
    "\n",
    "Napisz funkcję `srednia` będącą generatorem, liczącym średnią arytmetyczną wartości przesłanych do niej przy pomocy metody `send`.\n",
    "\n",
    "Przykładowy kod używający `send`:\n",
    "\n",
    "```python\n",
    "def sumowanie():\n",
    "    suma=0\n",
    "    while True:\n",
    "        a=(yield)\n",
    "        print(\"Otrzymano:\", a)\n",
    "        suma+=a\n",
    "        yield suma\n",
    "\n",
    "generator=sumowanie()\n",
    "\n",
    "for i in [1, 2, 3, 5, 7, 11]:\n",
    "    next(generator)\n",
    "    print(\"Generator zwrócił:\", generator.send(i))\n",
    "```\n",
    "\n",
    "\n",
    "\n",
    "https://docs.python.org/3/reference/expressions.html#yield-expressions"
   ]
  },
  {
   "cell_type": "code",
   "execution_count": null,
   "metadata": {
    "deletable": false,
    "nbgrader": {
     "cell_type": "code",
     "checksum": "291bf30729ba1312a15d90b8e70c1eaa",
     "grade": true,
     "grade_id": "cell-a1f3c211a750990f",
     "locked": false,
     "points": 1,
     "schema_version": 3,
     "solution": true,
     "task": false
    }
   },
   "outputs": [],
   "source": [
    "# YOUR CODE HERE\n",
    "raise NotImplementedError()"
   ]
  },
  {
   "cell_type": "markdown",
   "metadata": {
    "deletable": false,
    "editable": false,
    "nbgrader": {
     "cell_type": "markdown",
     "checksum": "c4039e105e484c90ecd7efcf02a208c2",
     "grade": false,
     "grade_id": "cell-09cc09d00c2da555",
     "locked": true,
     "schema_version": 3,
     "solution": false,
     "task": false
    }
   },
   "source": [
    "## Zadanie 8\n",
    "\n",
    "Dany jest kod:\n",
    "\n",
    "```python\n",
    "x=0\n",
    "\n",
    "def bla():\n",
    "    x+=1\n",
    "    \n",
    "print(x)\n",
    "bla()\n",
    "print(x)\n",
    "```\n",
    "\n",
    "Zmodyfikuj funkcję `bla` tak, aby zwiększała wartość zmiennej globalnej `x` o 1.\n",
    "\n",
    "Wykorzystaj słowo kluczowe `global`.\n",
    "\n"
   ]
  },
  {
   "cell_type": "code",
   "execution_count": null,
   "metadata": {
    "deletable": false,
    "nbgrader": {
     "cell_type": "code",
     "checksum": "1f6d6d4d67141976306da0f3f5d96db3",
     "grade": true,
     "grade_id": "cell-3446be6132b274f2",
     "locked": false,
     "points": 1,
     "schema_version": 3,
     "solution": true,
     "task": false
    }
   },
   "outputs": [],
   "source": [
    "# YOUR CODE HERE\n",
    "raise NotImplementedError()"
   ]
  },
  {
   "cell_type": "markdown",
   "metadata": {
    "deletable": false,
    "editable": false,
    "nbgrader": {
     "cell_type": "markdown",
     "checksum": "628988cfa90b1e74f6ba50f3082c1b93",
     "grade": false,
     "grade_id": "cell-8112ca5138f60501",
     "locked": true,
     "schema_version": 3,
     "solution": false,
     "task": false
    }
   },
   "source": [
    "## Zadanie 9\n",
    "\n",
    "Dany jest kod:\n",
    "\n",
    "```python\n",
    "x=1337\n",
    "\n",
    "def foo():\n",
    "    def bar():\n",
    "        x+=1\n",
    "    x=0\n",
    "    print(x)\n",
    "    bar()\n",
    "    print(x)\n",
    "    \n",
    "print(x) \n",
    "foo()\n",
    "print(x)\n",
    "\n",
    "```\n",
    "\n",
    "Zmodyfikuj funkcje `foo` i `bar` tak, aby funkcja `bar` zwiększała zmienną `x` zdefiniowaną w funkcji `foo` o 1, nie zmieniając wartości zmiennej globalnej `x`. \n",
    "\n",
    "Wykorzystaj słowo kluczowe `nonlocal`."
   ]
  },
  {
   "cell_type": "code",
   "execution_count": null,
   "metadata": {
    "deletable": false,
    "nbgrader": {
     "cell_type": "code",
     "checksum": "9aa3a1a5e10c1b2bca8dffc2973fefd9",
     "grade": true,
     "grade_id": "cell-9d4e49c8b0e243c2",
     "locked": false,
     "points": 1,
     "schema_version": 3,
     "solution": true,
     "task": false
    }
   },
   "outputs": [],
   "source": [
    "# YOUR CODE HERE\n",
    "raise NotImplementedError()"
   ]
  },
  {
   "cell_type": "code",
   "execution_count": null,
   "metadata": {},
   "outputs": [],
   "source": []
  }
 ],
 "metadata": {
  "kernelspec": {
   "display_name": "Python 3 (ipykernel)",
   "language": "python",
   "name": "python3"
  },
  "language_info": {
   "codemirror_mode": {
    "name": "ipython",
    "version": 3
   },
   "file_extension": ".py",
   "mimetype": "text/x-python",
   "name": "python",
   "nbconvert_exporter": "python",
   "pygments_lexer": "ipython3",
   "version": "3.9.7"
  }
 },
 "nbformat": 4,
 "nbformat_minor": 2
}
