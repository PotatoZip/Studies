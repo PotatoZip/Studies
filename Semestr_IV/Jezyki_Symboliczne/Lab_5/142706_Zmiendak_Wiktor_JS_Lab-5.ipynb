{
 "cells": [
  {
   "cell_type": "markdown",
   "metadata": {},
   "source": [
    "## Języki symboliczne - rok akademicki 2022/2023\n",
    "\n",
    "Przed rozpoczęciem pracy z notatnikiem zmień jego nazwę zgodnie z wzorem: `NrAlbumu_Nazwisko_Imie_PoprzedniaNazwa`\n",
    "\n",
    "Przed wysłaniem notatnika **upewnij się jeszcze raz** że zmieniłeś nazwę i że rozwiązałeś wszystkie zadania/ćwiczenia, w szczególności, że uzupełniłeś wszystkie pola `YOUR CODE HERE` oraz `YOUR ANSWER HERE`."
   ]
  },
  {
   "cell_type": "markdown",
   "metadata": {
    "deletable": false,
    "editable": false,
    "nbgrader": {
     "cell_type": "markdown",
     "checksum": "c84903f994220a3ca870c71e9872b418",
     "grade": false,
     "grade_id": "cell-ec984842bc599089",
     "locked": true,
     "schema_version": 3,
     "solution": false
    }
   },
   "source": [
    "# Temat: Moduły. Pakiety. Praca z plikami tekstowymi.\n",
    "Zapoznaj się z treścią niniejszego notatnika czytając i wykonując go komórka po komórce. Wykonaj napotkane zadania/ćwiczenia.\n",
    "\n",
    "## Skrypty.\n",
    "\n",
    "Dowolny, poprawnie działający kod pisany np. w tym Notebook-u możemy zapisać w zewnętrznym pliku tekstowym. Plik tekstowy z rozszerzeniem `.py` zawierający kod w języku `Python` można potraktować na dwa sposoby: jako skrypt (program) lub moduł (jak np. moduł `math`).\n",
    "\n",
    "Zgodnie z konwencją, skrypty języka `Python` mają nazwy zakończone rozszerzeniem `.py`. Aby wykonać plik `test.py` należy w terminalu (konsoli, Anaconda Prompt) wykonać polecenie:\n",
    "\n",
    "`python test.py`\n",
    "\n",
    "__Uwaga:__ Należy być w folderze w którym jest plik `test.py` lub podać pełną ścieżkę do pliku."
   ]
  },
  {
   "cell_type": "markdown",
   "metadata": {
    "deletable": false,
    "editable": false,
    "nbgrader": {
     "cell_type": "markdown",
     "checksum": "70e31f051ae04807be3db5f94dfaf6c2",
     "grade": false,
     "grade_id": "cell-64bc7d8fdc6fd19a",
     "locked": true,
     "schema_version": 3,
     "solution": false,
     "task": false
    }
   },
   "source": [
    "W pliku `test.py` wpisz następujący kod:\n",
    "```python\n",
    "def suma(a,b):\n",
    "    return a+b\n",
    "\n",
    "def roznica(a,b):\n",
    "    return a-b\n",
    "\n",
    "PI = 3.1415\n",
    "\n",
    "print(suma(3,5))\n",
    "print(PI)\n",
    "```\n",
    "a następnie przejdź do konsoli i uruchom skrypt."
   ]
  },
  {
   "cell_type": "markdown",
   "metadata": {
    "deletable": false,
    "editable": false,
    "nbgrader": {
     "cell_type": "markdown",
     "checksum": "bae3d4052720994637114ff130c9f98c",
     "grade": false,
     "grade_id": "cell-dcdb4fdab9b2babc",
     "locked": true,
     "schema_version": 3,
     "solution": false,
     "task": false
    }
   },
   "source": [
    "### Ćwiczenie 1\n",
    "Napisz skrypt (plik `cw_1.py`), który pyta użytkownika:\n",
    "\n",
    "`Czy świeci słońce?`\n",
    "\n",
    "- Jeżeli użytkownik napisze `tak`, skrypt odpowiada: `Co tu robisz?`.\n",
    "- Jeżeli użytkownik napisze `nie`, skrypt odpowiada: `Pracuj dalej!`.\n",
    "- Jeżeli użytkownik napisze cokolwiek innego, skrypt odpowiada `Przepraszam, nie rozumiem`.\n",
    "\n",
    "__Uwaga__: Będąc np. w notatniku (takim zwykłym w Windows) zapisz plik używając kodowania UTF-8. Przejdź do konsoli i uruchom skrypt."
   ]
  },
  {
   "cell_type": "code",
   "execution_count": null,
   "metadata": {
    "deletable": false,
    "nbgrader": {
     "cell_type": "code",
     "checksum": "90d5c41301cd02d69bb53bca3e6c1274",
     "grade": false,
     "grade_id": "cell-4e56e68e2ac12503",
     "locked": false,
     "schema_version": 3,
     "solution": true,
     "task": false
    }
   },
   "outputs": [],
   "source": [
    "# YOUR CODE HERE\n",
    "\n",
    "def solution():\n",
    "    answer = input(\"Czy swieci slonce?\\n\")\n",
    "    if answer.lower() == \"tak\":\n",
    "        print(\"Co tu robisz?\\n\")\n",
    "    elif answer.lower() == \"nie\":\n",
    "        print(\"Pracuj dalej!\\n\")\n",
    "    else:\n",
    "        print(\"Przepraszam, nie rozumiem.\\n\")\n",
    "\n",
    "solution()"
   ]
  },
  {
   "cell_type": "markdown",
   "metadata": {
    "deletable": false,
    "editable": false,
    "nbgrader": {
     "cell_type": "markdown",
     "checksum": "cedaa6d8ff2e4fbb7a763557c300f824",
     "grade": false,
     "grade_id": "cell-8857082ab63567a2",
     "locked": true,
     "schema_version": 3,
     "solution": false,
     "task": false
    }
   },
   "source": [
    "## Moduły.\n",
    "\n",
    "https://docs.python.org/3/tutorial/modules.html\n",
    "\n",
    "- Moduł jest plikiem (z rozszerzeniem .py) zawierającym definicje Pythona i jego instrukcje.\n",
    "- Moduł importujemy używając słowa kluczowego `import`: \n",
    "\n",
    "```python \n",
    "import nazwa_modułu\n",
    "```\n",
    "\n",
    "- Nazwa modułu jest nazwą pliku pozbawioną rozszerzenia .py.\n",
    "- Nazwa modułu dostępna jest w module jako wartość zmiennej globalnej `__name__`.\n",
    "- Jeżeli w module zdefiniowano funkcje o nazwie `f`, to aby jej użyć trzeba zastosować konstrukcje `nazwa_modulu.f()`.\n",
    "- Moduł może zawierać instrukcje wykonywalne obok definicji funkcji. Instrukcje te mają na celu inicjalizacje modułu - wykonywane są tylko w chwili importowania modułu po raz pierwszy.\n",
    "- Każdy z modułów posiada swoją prywatną tablicę symboli, która używana jest przez wszystkie funkcje zdefiniowane w module jako globalna tablica symboli.\n",
    "- Moduły mogą importować inne moduły.\n",
    "- Ze względów wydajnościowych moduły są importowane raz w trakcie sesji interpretera. W razie ich zmiany należy zrestartować interpreter lub przeładować pojedynczy moduł (używając metody `reload()` z modułu `imp`) np.: \n",
    "```python\n",
    "import imp; imp.reload(modulename)\n",
    "```\n",
    "- Wszystkie załadowane moduły możemy sprawdzić wypisując zmienną `sys.modules`\n",
    "\n",
    "Inne warianty instrukcji `import`: \n",
    "- importuje nazwy z modułu wprost do tablicy symboli,\n",
    "\n",
    "```python \n",
    "from nazwa_modulu import f\n",
    "```\n",
    "\n",
    "- importuje wszystkie nazwy z modułu za wyjątkiem tych, które zaczynają się od znaku `_`,\n",
    "\n",
    "```python \n",
    "from nazwa_modulu import *\n",
    "```\n",
    "\n",
    "- można nadawać własne aliasy do importowanych modułów.\n",
    "\n",
    "```python \n",
    "import nazwa_modulu as nowa_nazwa\n",
    "```"
   ]
  },
  {
   "cell_type": "code",
   "execution_count": null,
   "metadata": {},
   "outputs": [],
   "source": [
    "# wczytanie modułu test.py\n",
    "import test "
   ]
  },
  {
   "cell_type": "code",
   "execution_count": null,
   "metadata": {},
   "outputs": [],
   "source": [
    "# odwołanie do zmiennej PI w module test\n",
    "test.PI "
   ]
  },
  {
   "cell_type": "code",
   "execution_count": null,
   "metadata": {},
   "outputs": [],
   "source": [
    "# odwołanie do funkcji suma w module test\n",
    "test.suma(2, 5) "
   ]
  },
  {
   "cell_type": "code",
   "execution_count": null,
   "metadata": {},
   "outputs": [],
   "source": [
    "import test as t  # alias t do modułu test\n",
    "print(t.PI)\n",
    "t.roznica(3, 2)"
   ]
  },
  {
   "cell_type": "markdown",
   "metadata": {
    "deletable": false,
    "editable": false,
    "nbgrader": {
     "cell_type": "markdown",
     "checksum": "65438c2a531116d88b6df0eae9dbea4d",
     "grade": false,
     "grade_id": "cell-a20540b9ac552fb5",
     "locked": true,
     "schema_version": 3,
     "solution": false,
     "task": false
    }
   },
   "source": [
    "Wybrane atrybuty dostępne dla modułów (np. modułu o nazwie `m.py`):\n",
    "\n",
    "- `m.__name__` nazwa modułu\n",
    "- `m._file__` plik z którego został załadowany moduł\n",
    "- `m.__dict__` słownik skojarzony z modułem"
   ]
  },
  {
   "cell_type": "code",
   "execution_count": null,
   "metadata": {},
   "outputs": [],
   "source": [
    "print(t.__name__)  # nazwa modułu\n",
    "print(t.__file__)  # nazwa pliku\n",
    "t.__dict__  # słownik skojarzony z modułem"
   ]
  },
  {
   "cell_type": "markdown",
   "metadata": {
    "deletable": false,
    "editable": false,
    "nbgrader": {
     "cell_type": "markdown",
     "checksum": "23c46bfcbdf3a1ece0d21ebecb37fc10",
     "grade": false,
     "grade_id": "cell-59b308eb705e3a9f",
     "locked": true,
     "schema_version": 3,
     "solution": false,
     "task": false
    }
   },
   "source": [
    "Wszystkie załadowane moduły możemy sprawdzić wypisując zmienną `sys.modules`. W zmiennej `sys.path` mamy ścieżki do katalogów, które są przeszukiwane w celu znalezienia modułu."
   ]
  },
  {
   "cell_type": "code",
   "execution_count": null,
   "metadata": {},
   "outputs": [],
   "source": [
    "import sys\n",
    "sys.modules\n",
    "sys.path\n",
    "#sys.path.append('C:\\\\Users\\\\') # modyfikacja/dodanie katalogu do sys.path\n",
    "print(sys.path)"
   ]
  },
  {
   "cell_type": "markdown",
   "metadata": {
    "deletable": false,
    "editable": false,
    "nbgrader": {
     "cell_type": "markdown",
     "checksum": "27ad9972a70fb3cffbc5a795b0509f0d",
     "grade": false,
     "grade_id": "cell-91ce4aa904197b35",
     "locked": true,
     "schema_version": 3,
     "solution": false,
     "task": false
    }
   },
   "source": [
    "### Uruchamianie modułu jako skryptu.\n",
    "\n",
    "#### Funkcja `main` w Pythonie\n",
    "Każdy moduł definuje zmienną `__name__` - nazwę modułu. Na najwyższym poziomie interpretera znajduje się moduł `__main__`.\n",
    "W przypadku wykonywania pliku zmienna `__name__` przyjmuje wartość `__main__` , a w przypadku importu `nazwe_modułu`, dzięki\n",
    "temu z tego samego pliku możemy korzystać jak ze skryptu oraz jak z modułu.\n",
    "\n",
    "Jeżeli chcemy, aby program zmienił swoje działanie w zależności od tego czy został zaimportowany, czy też wykonuje się w module `__main__` możemy użyć następującego sposobu:\n",
    "\n",
    "```python\n",
    "if _name_ == '__main__':\n",
    "    #Tak - kod został uruchomiony jako program\n",
    "    blok_instrukcji program\n",
    "else:\n",
    "    #Nie - plik został zaimportowany jako moduł\n",
    "    blok_instrukcji moduł\n",
    "```"
   ]
  },
  {
   "cell_type": "markdown",
   "metadata": {
    "deletable": false,
    "editable": false,
    "nbgrader": {
     "cell_type": "markdown",
     "checksum": "077d254cd98094c27706ddd6558db40a",
     "grade": false,
     "grade_id": "cell-e25ffd898b01d1d4",
     "locked": true,
     "schema_version": 3,
     "solution": false,
     "task": false
    }
   },
   "source": [
    "###  Ćwiczenie 2.\n",
    "\n",
    "W pliku `test_1.py` zmodyfikuj kod do postaci:\n",
    "```python\n",
    "def suma(a,b):\n",
    "    return a+b\n",
    "\n",
    "def roznica(a,b):\n",
    "    return a-b\n",
    "\n",
    "PI = 3.1415\n",
    "\n",
    "if __name__ == '__main__':\n",
    "    #Tak - kod został uruchomiony jako program\n",
    "    print('Skrypt uruchomiony')\n",
    "    import sys \n",
    "    print(suma(int(sys.argv[1]), int(sys.argv[2])))\n",
    "    print(PI)\n",
    "else:\n",
    "    #Nie - plik został zaimportowany jako moduł\n",
    "    print('Moduł zaimportowany')\n",
    "```\n",
    "    \n",
    "a następnie zaimportuj moduł do notatnika oraz przejdź do konsoli i uruchom go jako skrypt poleceniem: `python test_1.py 6 7`."
   ]
  },
  {
   "cell_type": "code",
   "execution_count": 1,
   "metadata": {},
   "outputs": [
    {
     "name": "stdout",
     "output_type": "stream",
     "text": [
      "Moduł zaimportowany\n"
     ]
    }
   ],
   "source": [
    "import test_1"
   ]
  },
  {
   "cell_type": "code",
   "execution_count": 2,
   "metadata": {},
   "outputs": [
    {
     "data": {
      "text/plain": [
       "3.1415"
      ]
     },
     "execution_count": 2,
     "metadata": {},
     "output_type": "execute_result"
    }
   ],
   "source": [
    "test_1.PI"
   ]
  },
  {
   "cell_type": "code",
   "execution_count": null,
   "metadata": {},
   "outputs": [],
   "source": [
    "import imp\n",
    "imp.reload(test_1) #przeładowanie modułu test_1"
   ]
  },
  {
   "cell_type": "markdown",
   "metadata": {
    "deletable": false,
    "editable": false,
    "nbgrader": {
     "cell_type": "markdown",
     "checksum": "821fe9fe1fa25cb81d7ff0a4c34a3fed",
     "grade": false,
     "grade_id": "cell-7e79db94b1527224",
     "locked": true,
     "schema_version": 3,
     "solution": false,
     "task": false
    }
   },
   "source": [
    "#### „Skompilowane” pliki Pythona\n",
    "\n",
    "- w celu przyspieszenia ładowania modułów Python przechowuje ich skompilowane wersje w katalogu `__pycache__` pod nazwą `module.version.pyc` np. `test_1.cpython-38.pyc`.\n",
    "- skompilowane moduły są niezależne od platformy\n",
    "- w przypadku załadowania modułu z linii komend `cache` nie jest brany pod uwagę\n",
    "- nie jest brany pod uwagę również wtedy gdy nie ma pliku źródłowego danego modułu \n"
   ]
  },
  {
   "cell_type": "markdown",
   "metadata": {
    "deletable": false,
    "editable": false,
    "nbgrader": {
     "cell_type": "markdown",
     "checksum": "2b93e84b737fcc615492b54dabd3a02b",
     "grade": false,
     "grade_id": "cell-616c11f11c62ff28",
     "locked": true,
     "schema_version": 3,
     "solution": false,
     "task": false
    }
   },
   "source": [
    "#### Funkcja `dir()`\n",
    "\n",
    "- `dir(name)` zwraca nazwy zdefiniowane w module `name`.\n",
    "- `dir()` bez parametrów zwraca nazwy zdefiniowane w bieżącym module.\n",
    "- `dir()` nie zwraca nazw funkcji i zmiennych wbudowanych, są one dostępne po zaimportowaniu modułu `builtins`."
   ]
  },
  {
   "cell_type": "code",
   "execution_count": null,
   "metadata": {},
   "outputs": [],
   "source": [
    "dir()"
   ]
  },
  {
   "cell_type": "code",
   "execution_count": null,
   "metadata": {},
   "outputs": [],
   "source": [
    "import builtins\n",
    "dir(builtins)"
   ]
  },
  {
   "cell_type": "markdown",
   "metadata": {
    "deletable": false,
    "editable": false,
    "nbgrader": {
     "cell_type": "markdown",
     "checksum": "cf92105a258528b9964061a1a60dfce4",
     "grade": false,
     "grade_id": "cell-85b63f013963e727",
     "locked": true,
     "schema_version": 3,
     "solution": false,
     "task": false
    }
   },
   "source": [
    "## Pakiety.\n",
    "\n",
    "https://docs.python.org/3/tutorial/modules.html#packages\n",
    "\n",
    "- Pakiety są sposobem na uporządkowanie przestrzeni nazw modułów.\n",
    "- `A.B` - oznacza moduł składowy `\"B\"` pakietu `\"A\"`.\n",
    "- Pakiety są zorganizowane jako katalogi z zagnieżdżonymi pakietami (podkatalogami) i modułami. Moduły wewnątrz pakietu nadal są zwykłymi plikami `.py`.\n",
    "```\n",
    "sound/                        Top-level package\n",
    "      __init__.py               Initialize the sound package\n",
    "      formats/                  Subpackage for file format conversions\n",
    "              __init__.py\n",
    "              wavread.py\n",
    "              wavwrite.py\n",
    "              aiffread.py\n",
    "              aiffwrite.py\n",
    "              auread.py\n",
    "              auwrite.py\n",
    "              ...\n",
    "      effects/                  Subpackage for sound effects\n",
    "              __init__.py\n",
    "              echo.py\n",
    "              surround.py\n",
    "              reverse.py\n",
    "              ...\n",
    "```\n",
    "- pliki `__init__.py` są wymagane aby Python potraktował katalog jako zwierający pakiet (w najprostszym przypadku `__init__.py` może być puste lub zawierać kod inicjalizujący pakiet albo ustawiać zmienną `__all__`, np.: `__all__ = [\"echo\", \"surround\", \"reverse\"]` ).\n",
    "- Pakiet(y) importujemy używając słowa kluczowego `import`: \n",
    "\n",
    "```python \n",
    "import sound.effects.echo  #import pojedynczego moduły z pakietu\n",
    "sound.effects.echo.echofilter(input, output, delay=0.7, atten=4) #odwołujemy się do pakietu podając kompletną ścieżkę\n",
    "\n",
    "from sound.effects import echo  #alternatywny sposób wywołania pakietu\n",
    "echo.echofilter(input, output, delay=0.7, atten=4)  #wywołanie funkcji z pakietu\n",
    "\n",
    "from sound.effects.echo import echofilter  #importuje żądaną funkcję lub zmienną bezpośrednio\n",
    "echofilter(input, output, delay=0.7, atten=4)  #wywołanie funkcji z pakietu\n",
    "\n",
    "from package import *  #importuje wszystkie moduły z pakietu zdefiniowane jako lista __all__ w pliku __init__.py \n",
    "\n",
    "from package import item  #item może być zarówno modułem składowym, pakietem składowym lub nazwą jakiejś funkcji, klasy lub zmiennej. \n",
    "```\n",
    "\n"
   ]
  },
  {
   "cell_type": "markdown",
   "metadata": {
    "deletable": false,
    "editable": false,
    "nbgrader": {
     "cell_type": "markdown",
     "checksum": "424ed259fd376a971af66799aa4fe162",
     "grade": false,
     "grade_id": "cell-fef121eb55ddd48f",
     "locked": true,
     "schema_version": 3,
     "solution": false
    }
   },
   "source": [
    "## Praca z plikami tekstowymi.\n",
    "\n",
    "Do pracy z plikami/folderami przydatny może okazać sie moduł `os`. (https://docs.python.org/3/library/os.html)\n",
    "\n",
    "Np. aby sprawdzić scieżkę do folderu w którym aktualnie pracujemy należy wykonać polecenie."
   ]
  },
  {
   "cell_type": "code",
   "execution_count": null,
   "metadata": {},
   "outputs": [],
   "source": [
    "import os\n",
    "os.getcwd()"
   ]
  },
  {
   "cell_type": "markdown",
   "metadata": {
    "deletable": false,
    "editable": false,
    "nbgrader": {
     "cell_type": "markdown",
     "checksum": "2a9fa7802f9e5fcff5aad0714ffa7ea6",
     "grade": false,
     "grade_id": "cell-91aea7e919c6e47f",
     "locked": true,
     "schema_version": 3,
     "solution": false
    }
   },
   "source": [
    "#### Otwieranie i zamykanie pliku tekstowego:\n",
    "\n",
    "Składnia polecenia do otwierania pliku:\n",
    "```python \n",
    "f = open('sciezka\\nazwa_pliku','tryb')\n",
    "```\n",
    "Funkcja `open()` zwraca deskryptor pliku.\n",
    "\n",
    "Tryby otwierania pliku:\n",
    "- `r` – tylko do odczytu (plik musi istniec)\n",
    "- `w` – tylko do zapisu (plik nie musi istniec, natomiast istniejący plik o podanej nazwie zostanie nadpisany)\n",
    "- `a` – tylko do dopisywania (dowolna dana zapisana do pliku będzie dodana na jego koniec)\n",
    "- `r+` – zarówno do czytania jak i do pisania.\n",
    "- `x` - tylko utworzenie pliku, jesli istnieje to wyrzuci błąd.\n",
    "\n",
    "Argument tryb jest opcjonalny: w przypadku jego braku plik zostanie otwarty w trybie `r`.\n",
    "Do każdego trybu można dodać literę `b` co oznacza pracę w trybie binarnym (np. czytanie plików JPEG).\n",
    "\n",
    "Zamykanie pliku:\n",
    "```python \n",
    "f.close()\n",
    "```\n",
    "Funkcja ta zamyka plik oraz zwalnia wszystkie zasoby systemowe związane z otwarciem i obsługą tego pliku."
   ]
  },
  {
   "cell_type": "code",
   "execution_count": null,
   "metadata": {},
   "outputs": [],
   "source": [
    "# otwarcie pliku do zapisu\n",
    "f = open('plik.txt', 'w')  # plik otwarty w bieżącym katalogu\n",
    "print(type(f))\n",
    "# zamykamy plik\n",
    "f.close()"
   ]
  },
  {
   "cell_type": "markdown",
   "metadata": {
    "deletable": false,
    "editable": false,
    "nbgrader": {
     "cell_type": "markdown",
     "checksum": "df650edf78d2dc316d6110430c4467b7",
     "grade": false,
     "grade_id": "cell-29ec44429e203f16",
     "locked": true,
     "schema_version": 3,
     "solution": false
    }
   },
   "source": [
    "#### Podstawowe metody obiektu `file`\n",
    "\n",
    "https://docs.python.org/3/library/io.html?highlight=file#io.IOBase\n",
    "\n",
    "- `closed` - atrybut przechowujący wartość logiczną `True` jeśli plik jest zamknięty, `False` w przeciwnym razie.\n",
    "- `close()` - zamyka plik.\n",
    "- `readable()` - Zwraca `True` jesli możliwe jest czytanie z pliku, w przeciwnym razie `False`.\n",
    "- `writable()` - Zwraca `True` jesli możliwe jest pisanie do pliku, w przeciwnym razie `False`.\n",
    "- `write(s)` - Zapisuje zawartość napisu `s` do pliku. Zwraca liczbe znaków zapisanych do pliku.\n",
    "- `writelines(ss)` - Zapisuje zawartość listy `ss` do pliku.\n",
    "- `read(size)` – Zwraca napis długości `size` początkowych znaków. Jeśli `size` opuszczone lub ujemne to czytana jest cała zawartość\n",
    "\n",
    "- `readline()` – Zwraca napis, którego zawartością jest pojedynczy wiersz przeczytany z pliku. Po przeczytaniu wszystkich wierszy pliku kolejne wywołanie zwraca pusty napis.\n",
    "- `readlines()` – Zwraca liste napisów, którymi są kolejne wiersze pliku, od pierwszego do ostatniego.\n",
    "- `f.seek(offset, whence=SEEK_SET)` – Zmiana pozycji w pliku. `offset` liczony względem pozycji wskazanej przez `whence`: `SEEK_SET` lub `0` - początek strumienia (domyślnie); przesunięcie powinno być zerowe lub dodatnie; `SEEK_CUR` lub `1` - aktualna pozycja strumienia; przesunięcie może być ujemne; `SEEK_END` lub `2` - koniec strumienia; offset jest zwykle ujemny\n",
    "- `tell( )` – Zwraca aktualną pozycję strumienia.\n"
   ]
  },
  {
   "cell_type": "code",
   "execution_count": null,
   "metadata": {},
   "outputs": [],
   "source": [
    "# otwarcie pliku do zapisu\n",
    "f = open('plik.txt','w')\n",
    "# zapisujemy w pliku 5 lini tekstu\n",
    "f.write('linia 1\\n')\n",
    "f.write('linia 2\\n')\n",
    "f.write('linia 3\\n')\n",
    "f.write('linia 4\\n')\n",
    "f.write('linia 5\\n')\n",
    "# zapisujemy w pliku zawartość listy\n",
    "f.writelines(['linia 6\\n', 'linia 7\\n', 'linia 8\\n'])\n",
    "# zamykamy plik\n",
    "f.close()"
   ]
  },
  {
   "cell_type": "code",
   "execution_count": null,
   "metadata": {},
   "outputs": [],
   "source": [
    "# otwarcie pliku do odczytu\n",
    "f = open('plik.txt','r')\n",
    "# czytanie całego pliku\n",
    "tekst = f.read()\n",
    "# zamykamy plik\n",
    "f.close()\n",
    "print(tekst)"
   ]
  },
  {
   "cell_type": "code",
   "execution_count": null,
   "metadata": {},
   "outputs": [],
   "source": [
    "# otwarcie pliku do odczytu\n",
    "f = open('plik.txt','r')\n",
    "# czytanie linia po lini\n",
    "print(f.readline())\n",
    "print(f.readline())\n",
    "print(f.readline())\n",
    "print(f.readline())\n",
    "print(f.readline())\n",
    "print(f.readline())  \n",
    "print(f.readline())  \n",
    "# zamykamy plik\n",
    "f.close()"
   ]
  },
  {
   "cell_type": "code",
   "execution_count": null,
   "metadata": {},
   "outputs": [],
   "source": [
    "# otwarcie pliku do odczytu\n",
    "f = open('plik.txt','r')\n",
    "# czytanie i wypisywanie linia po linii pętla for - iteracja po obiekcie file\n",
    "for line in f:\n",
    "    text = line\n",
    "    print(text)\n",
    "# zamykamy plik\n",
    "f.close()"
   ]
  },
  {
   "cell_type": "code",
   "execution_count": null,
   "metadata": {},
   "outputs": [],
   "source": [
    "# otwarcie pliku do odczytu\n",
    "f = open('plik.txt','r')\n",
    "print(f.writable())  # sprawdzenie czy plik otwarty do zapisu\n",
    "print(f.readable())  # sprawdzenie czy plik otwarty do odczytu\n",
    "print(f.readlines()) # czytanie całego pliku - lista napisów\n",
    "# zamykamy plik\n",
    "f.close()"
   ]
  },
  {
   "cell_type": "code",
   "execution_count": null,
   "metadata": {},
   "outputs": [],
   "source": [
    "# otwarcie pliku do edycji (dopisywanie)\n",
    "f = open('plik.txt','a')\n",
    "f.write('linia 9\\n')\n",
    "f.write('linia 10\\n')\n",
    "f.close()\n",
    "\n",
    "f = open('plik.txt','r')\n",
    "tekst = f.read()\n",
    "f.close()\n",
    "print(tekst)"
   ]
  },
  {
   "cell_type": "code",
   "execution_count": null,
   "metadata": {},
   "outputs": [],
   "source": [
    "f = open('plik2.txt','wb')\n",
    "print(f.write(b'01234567abcdefgh')) #16\n",
    "f.close()\n",
    "\n",
    "f = open('plik2.txt','rb')\n",
    "print(f.read(1)) # b'0'\n",
    "print(f.seek(4)) #idź do 4-tego bajtu w pliku\n",
    "print(f.read(1)) # b'4'\n",
    "print(f.seek(-5,2)) #idź do 4-tego bajtu od końca\n",
    "print(f.read(1)) # b'd'\n",
    "f.close()"
   ]
  },
  {
   "cell_type": "markdown",
   "metadata": {
    "deletable": false,
    "editable": false,
    "nbgrader": {
     "cell_type": "markdown",
     "checksum": "15cceb181f22c1987ab232800d084878",
     "grade": false,
     "grade_id": "cell-4d2be82e17a4b8c0",
     "locked": true,
     "schema_version": 3,
     "solution": false
    }
   },
   "source": [
    "### Klauzula `with as`\n",
    "Aby nie musieć zawsze pamiętać o zamykaniu pliku można użyć klauzuli `with as`, wówczas po wyjściu z bloku `with` plik automatycznie zostanie zamknięty. Pamiętaj o wcięciach!."
   ]
  },
  {
   "cell_type": "code",
   "execution_count": null,
   "metadata": {},
   "outputs": [],
   "source": [
    "with open('plik.txt','r') as f:\n",
    "    tekst = f.read()\n",
    "print(tekst)\n",
    "f.read()  #error - plik już jest zamkniety "
   ]
  },
  {
   "cell_type": "markdown",
   "metadata": {
    "deletable": false,
    "editable": false,
    "nbgrader": {
     "cell_type": "markdown",
     "checksum": "23163d00c6d25e237724cccd80a94f23",
     "grade": false,
     "grade_id": "cell-bf8dddfe327e7dec",
     "locked": true,
     "schema_version": 3,
     "solution": false
    }
   },
   "source": [
    "### Ćwiczenie 3\n",
    "Otwórz plik tekstowy o nazwie `lab_5.txt`. \n",
    "Napisz program, który w wybranym pliku zamieni każde wystąpienie tekstu `\"Python\"` na tekst `\"Anaconda\"` i te zmiany zapisze w pliku `wynik.txt`."
   ]
  },
  {
   "cell_type": "code",
   "execution_count": 16,
   "metadata": {
    "deletable": false,
    "nbgrader": {
     "cell_type": "code",
     "checksum": "07007e12a3d9c3fc8e432b52f696e55b",
     "grade": false,
     "grade_id": "cell-625b50ad5d4e5ddd",
     "locked": false,
     "schema_version": 3,
     "solution": true
    }
   },
   "outputs": [
    {
     "name": "stdout",
     "output_type": "stream",
     "text": [
      "Anaconda â€“ jÄ™zyk programowania wysokiego poziomu ogĂłlnego przeznaczenia[2], o rozbudowanym pakiecie bibliotek standardowych[3], ktĂłrego ideÄ… przewodniÄ… jest czytelnoĹ›Ä‡ i klarownoĹ›Ä‡ kodu ĹşrĂłdĹ‚owego. Jego skĹ‚adnia cechuje siÄ™ przejrzystoĹ›ciÄ… i zwiÄ™zĹ‚oĹ›ciÄ…[4][5].\n",
      "\n",
      "Anaconda wspiera rĂłĹĽne paradygmaty programowania: obiektowy, imperatywny oraz w mniejszym stopniu funkcyjny. Posiada w peĹ‚ni dynamiczny system typĂłw i automatyczne zarzÄ…dzanie pamiÄ™ciÄ…, bÄ™dÄ…c w tym podobnym do jÄ™zykĂłw Perl, Ruby, Scheme czy Tcl. Podobnie jak inne jÄ™zyki dynamiczne jest czÄ™sto uĹĽywany jako jÄ™zyk skryptowy. Interpretery Pythona sÄ… dostÄ™pne na wiele systemĂłw operacyjnych.\n",
      "\n",
      "Anaconda rozwijany jest jako projekt Open Source zarzÄ…dzany przez Anaconda Software Foundation, ktĂłra jest organizacjÄ… non-profit. StandardowÄ… implementacja jÄ™zyka jest CPython (napisany w C), ale istniejÄ… teĹĽ inne, np. Jython (napisany w Javie), CLPython napisany w Common Lisp, IronPython (na platformÄ™ .NET) i PyPy (napisany w Pythonie, zob. bootstrap).\n"
     ]
    }
   ],
   "source": [
    "# YOUR CODE HERE\n",
    "\n",
    "def solution(text):\n",
    "    lines = text.splitlines()\n",
    "    modified_lines = []\n",
    "    for line in lines:\n",
    "        words = line.split()\n",
    "        modified_words = [\"Anaconda\" if word == \"Python\" else word for word in words]\n",
    "        modified_lines.append(' '.join(modified_words))\n",
    "    return '\\n'.join(modified_lines)\n",
    "\n",
    "f = open('lab_5.txt', 'r')\n",
    "w = open('wynik.txt', 'w')\n",
    "\n",
    "fileData = f.read()\n",
    "print(solution(fileData))\n",
    "w.write(solution(fileData))\n",
    "f.close()\n",
    "w.close()"
   ]
  },
  {
   "cell_type": "markdown",
   "metadata": {
    "deletable": false,
    "editable": false,
    "nbgrader": {
     "cell_type": "markdown",
     "checksum": "b89f5e70e23de01552e31b1b94a34cc6",
     "grade": false,
     "grade_id": "cell-7360cbcdbd921647",
     "locked": true,
     "schema_version": 3,
     "solution": false
    }
   },
   "source": [
    "### Ćwiczenie 4\n",
    "Napisz program (funkcję), który bazując na pliku tekstowym `dane.txt` zwróci liczbę wszystkich wierszy w tym pliku. Dla ustalonego wzorca (ciągu znaków) funkcja wypisze nr wiersza w którym występuje podany wzorzec oraz liczbę wierszy w których występuje wzorzec."
   ]
  },
  {
   "cell_type": "code",
   "execution_count": 4,
   "metadata": {
    "deletable": false,
    "nbgrader": {
     "cell_type": "code",
     "checksum": "13f4df275424728793731ff3a889e6b4",
     "grade": false,
     "grade_id": "cell-f8a91ff31ea65291",
     "locked": false,
     "schema_version": 3,
     "solution": true,
     "task": false
    }
   },
   "outputs": [
    {
     "name": "stdout",
     "output_type": "stream",
     "text": [
      "Ilosc wierszy:  4 \n",
      "Linie z powtorzeniami:  [1, 3] \n",
      "Ilosc powtorzen:  2\n"
     ]
    }
   ],
   "source": [
    "wzorzec = 'przez' #szukany ciąg znaków\n",
    "# YOUR CODE HERE\n",
    "\n",
    "def solution(text):\n",
    "    rowsCount = 0\n",
    "    retValue = []\n",
    "    textCount = 0\n",
    "    with open('dane.txt', 'r') as f:\n",
    "        for line in f:\n",
    "            rowsCount += 1\n",
    "            lineList = line.split()\n",
    "            if text in lineList:\n",
    "                retValue.append(rowsCount)\n",
    "                textCount += 1\n",
    "    \n",
    "    print(\"Ilosc wierszy: \", rowsCount, \"\\nLinie z powtorzeniami: \",retValue, \"\\nIlosc powtorzen: \",textCount)\n",
    "\n",
    "solution(wzorzec)\n"
   ]
  },
  {
   "cell_type": "markdown",
   "metadata": {
    "deletable": false,
    "editable": false,
    "nbgrader": {
     "cell_type": "markdown",
     "checksum": "e60e1b5e1abb7d3d5598db728554b2fe",
     "grade": false,
     "grade_id": "cell-16d4c94e4bf1db7c",
     "locked": true,
     "schema_version": 3,
     "solution": false
    }
   },
   "source": [
    "## Zadanie 1\n",
    "Utwórz moduł o nazwie np. `text.py` zawierający trzy funkcje:\n",
    "1. Wypisującą tekst wyrównany do lewej strony ekranu, przyjmującą jako argument maksymalną liczbę znaków mieszczącą się w linii (np. 80),\n",
    "2. Wypisującą tekst wyrównany do prawej strony ekranu, przyjmującą argument taki, jak w funkcji pierwszej,\n",
    "3. Wypisującą tekst wyrównany do środka ekranu, przyjmującą argument taki, jak w funkcji pierwszej.\n",
    "\n",
    "Zaimplementuj funkcje przy uzyciu najprostszych konstrukcji jezyka bez użycia dedykowanych - wbudowanych funkcji lub metod działających na stringach (dopuszczalne są tylko funkcje: `print`, `int`, `len`, `range`)\n",
    "\n",
    "Napisz program importujący ten moduł a następnie wypisujący tekst na kształt rozmowy dwóch osób w komunikatorze: \n",
    "- wycentrowany nagłówek \"Rozmowa z: Mietek\", \n",
    "- wyrównane do lewej wiadomości Mietka, \n",
    "- wyrównane do prawej wiadomości użytkownika.\n",
    "\n",
    "Przykład:\n",
    "```\n",
    "                               Rozmowa z: Mietek                               \n",
    "Mietek: Witaj, mój ulubiony kolego!\n",
    "                                                            Ja: Witaj nieznajomy\n",
    "                                       Ja: Jak mogę ci pomóc tego pięknego dnia?\n",
    "Mietek: Jeśli nie chcesz mojej zguby\n",
    "Mietek: To gotowca daj mi luby!\n",
    "                                                                        Ja: Nie.\n",
    "Mietek: To nie.\n",
    "```"
   ]
  },
  {
   "cell_type": "code",
   "execution_count": 6,
   "metadata": {
    "deletable": false,
    "nbgrader": {
     "cell_type": "code",
     "checksum": "10772d5b3d9dbe5588bf1090e80f127a",
     "grade": true,
     "grade_id": "cell-b753b0808ed69c27",
     "locked": false,
     "points": 1,
     "schema_version": 3,
     "solution": true
    }
   },
   "outputs": [
    {
     "name": "stdout",
     "output_type": "stream",
     "text": [
      "                               Rozmowa z: Mietek                                \n",
      "Mietek: Witaj, mój ulubiony kolego!\n",
      "                                                            Ja: Witaj nieznajomy\n",
      "                                       Ja: Jak mogę ci pomóc tego pięknego dnia?\n",
      "Mietek: Jeśli nie chcesz mojej zguby\n",
      "Mietek: To gotowca daj mi luby!\n",
      "                                                                        Ja: Nie.\n",
      "Mietek: To nie.\n"
     ]
    }
   ],
   "source": [
    "# YOUR CODE HERE\n",
    "\n",
    "# uwagi:\n",
    "#  - długość przekazywanego tekstu może przekroczyć w niektórych przypadkach zadaną maksymalną liczbę znaków w linii\n",
    "#  - przykładowe wywołanie z tekstem takim jak w przytoczonym w przykładzie może wyglądać następująco:\n",
    "        \n",
    "import pakiet.text as text\n",
    "\n",
    "n = 80\n",
    "text.center(\"Rozmowa z: Mietek\", n)\n",
    "text.left(\"Mietek: Witaj, mój ulubiony kolego!\", n)\n",
    "text.right(\"Ja: Witaj nieznajomy\", n)\n",
    "text.right(\"Ja: Jak mogę ci pomóc tego pięknego dnia?\", n)\n",
    "text.left(\"Mietek: Jeśli nie chcesz mojej zguby\", n)\n",
    "text.left(\"Mietek: To gotowca daj mi luby!\", n)\n",
    "text.right(\"Ja: Nie.\", n)\n",
    "text.left(\"Mietek: To nie.\", n)\n"
   ]
  },
  {
   "cell_type": "markdown",
   "metadata": {
    "deletable": false,
    "editable": false,
    "nbgrader": {
     "cell_type": "markdown",
     "checksum": "8de7d81f9a6a6e733381350d6bb9beda",
     "grade": false,
     "grade_id": "cell-3c31f3a88a5ee2df",
     "locked": true,
     "schema_version": 3,
     "solution": false
    }
   },
   "source": [
    "## Zadanie 2\n",
    "\n",
    "Zmodyfikuj moduł z `zadania 1` tak, aby wykonanie pliku z nim powodowało wypisanie opisu i listy funkcji zdefiniowanych w nim (funkcja `dir()`), oraz prezentację funkcji w nim zawartych, np.:\n",
    "```\n",
    "Moduł \"text\" definiuje funkcje center, left right i służy do: \n",
    "Wypisania tekstu wyrównanego do lewej,\n",
    "                                                                      do prawej,\n",
    "                              lub wycentrowanego.                              \n",
    "Dodatkowo ten moduł zawiera: ['__builtins__', '__cached__', '__doc__', '__file__\n",
    "', '__loader__', '__name__', '__package__', '__spec__', 'center', 'left', 'right\n",
    "']\n",
    "```\n",
    "\n",
    "\n",
    "Wykorzystaj zmienną `__name__`:\n",
    "```python\n",
    "if _name_ == '__main__':\n",
    "    #kod został uruchomiony jako program\n",
    "    blok_instrukcji program\n",
    "else:\n",
    "    #plik został zaimportowany jako moduł\n",
    "    blok_instrukcji moduł\n",
    "```"
   ]
  },
  {
   "cell_type": "code",
   "execution_count": 9,
   "metadata": {
    "deletable": false,
    "nbgrader": {
     "cell_type": "code",
     "checksum": "a038d47911ddd78a9c4a9770c4db5ae8",
     "grade": true,
     "grade_id": "cell-8d5e1cb71dac421e",
     "locked": false,
     "points": 1,
     "schema_version": 3,
     "solution": true
    }
   },
   "outputs": [
    {
     "name": "stdout",
     "output_type": "stream",
     "text": [
      "                               Rozmowa z: Mietek                                \n",
      "Mietek: Witaj, mój ulubiony kolego!\n",
      "                                                            Ja: Witaj nieznajomy\n",
      "                                       Ja: Jak mogę ci pomóc tego pięknego dnia?\n",
      "Mietek: Jeśli nie chcesz mojej zguby\n",
      "Mietek: To gotowca daj mi luby!\n",
      "                                                                        Ja: Nie.\n",
      "Mietek: To nie.\n"
     ]
    }
   ],
   "source": [
    "# YOUR CODE HERE\n",
    "\n",
    "import pakiet.text as text\n",
    "\n",
    "n = 80\n",
    "text.center(\"Rozmowa z: Mietek\", n)\n",
    "text.left(\"Mietek: Witaj, mój ulubiony kolego!\", n)\n",
    "text.right(\"Ja: Witaj nieznajomy\", n)\n",
    "text.right(\"Ja: Jak mogę ci pomóc tego pięknego dnia?\", n)\n",
    "text.left(\"Mietek: Jeśli nie chcesz mojej zguby\", n)\n",
    "text.left(\"Mietek: To gotowca daj mi luby!\", n)\n",
    "text.right(\"Ja: Nie.\", n)\n",
    "text.left(\"Mietek: To nie.\", n)\n"
   ]
  },
  {
   "cell_type": "markdown",
   "metadata": {
    "deletable": false,
    "editable": false,
    "nbgrader": {
     "cell_type": "markdown",
     "checksum": "825af310b966867549743fd628fe25ed",
     "grade": false,
     "grade_id": "cell-7da1d14f018653b2",
     "locked": true,
     "schema_version": 3,
     "solution": false,
     "task": false
    }
   },
   "source": [
    "## Zadanie 3\n",
    "\n",
    "Napisz moduł o nazwie np. `fibonacci.py` zawierający dwie funkcje liczące podany wyraz ciągu Fibonacciego, pierwsza iteracyjnie, druga rekurencyjnie. Utwórz pakiet o nazwie `pakiet53`, zawierający ten moduł, oraz moduł z zadań 1. i 2. Napisz program prezentujący działanie wszystkich funkcji tego pakietu.\n",
    "Napisz plik `__init__.py` pozwalający zaimportować wszystkie moduły pakietu przy użyciu:\n",
    "```python \n",
    "from pakiet import *\n",
    "```"
   ]
  },
  {
   "cell_type": "code",
   "execution_count": null,
   "metadata": {
    "deletable": false,
    "nbgrader": {
     "cell_type": "code",
     "checksum": "665da3388f1b33fb692223fa0371002c",
     "grade": true,
     "grade_id": "cell-98db7f7d5da5f8a4",
     "locked": false,
     "points": 1,
     "schema_version": 3,
     "solution": true,
     "task": false
    }
   },
   "outputs": [],
   "source": [
    "from pakiet import *\n",
    "\n",
    "# YOUR CODE HERE\n",
    "\n",
    "print(fibonacci_iterative(10))\n",
    "print(fibonacci_recursive(10))\n",
    "text.left('Wypisania tekstu wyrównanego do lewej,', 100)\n",
    "text.right('do prawej,', 100)\n",
    "text.center('lub wycentrowanego.', 100)\n"
   ]
  },
  {
   "cell_type": "markdown",
   "metadata": {
    "deletable": false,
    "editable": false,
    "nbgrader": {
     "cell_type": "markdown",
     "checksum": "95c90a266ad278e772bbfcda63a9864e",
     "grade": false,
     "grade_id": "cell-64e350e06a96f1cb",
     "locked": true,
     "schema_version": 3,
     "solution": false,
     "task": false
    }
   },
   "source": [
    "## Zadanie 4\n",
    "\n",
    "Dane są cztery pliki umieszczone w katalogu `lab5_zad4`:\n",
    "1. `01_kto.txt`\n",
    "2. `02_co_zrobil.txt`\n",
    "3. `03_jaki.txt`\n",
    "4. `04_co.txt`\n",
    "\n",
    "Wczytaj zawartość każdego do osobnej listy (każda linia pliku jako osobny element). Napisz funkcję generującą losowe zdania używając linii wczytanych z powyższych plików. Zdania powinny mieć postać `{kto} {co_zrobił} {jaki} {co}`. Wykorzystaj funkcję `format` lub f-stringi. Pamiętaj o obcięciu znaków nowej linii z końców linii wczytanych plików (np. używając metody `strip`). Program powinien tworzyć w katalogu `lab5_zad4` plik `wynik.txt` i wpisywać do niego 100 wygenerowanych linii. Wykorzystaj słowo kluczowe `with` przy otwieraniu plików oraz pętlę `for` iterującą po liniach pliku. \n",
    "\n",
    "Przykład formatowania z użyciem `format`:\n",
    "```python\n",
    "print(\"{kto} {co_zrobil} {jaki} {co}\".format(kto = random.choice(akto), co_zrobil = random.choice(acozrobil), \n",
    "                                                 jaki = random.choice(ajaki), co = random.choice(aco) ))\n",
    "```"
   ]
  },
  {
   "cell_type": "code",
   "execution_count": 22,
   "metadata": {
    "deletable": false,
    "nbgrader": {
     "cell_type": "code",
     "checksum": "c325a792276a8867a089eb8619e634cc",
     "grade": true,
     "grade_id": "cell-14c6fbab1c345c71",
     "locked": false,
     "points": 1,
     "schema_version": 3,
     "solution": true,
     "task": false
    }
   },
   "outputs": [
    {
     "name": "stdout",
     "output_type": "stream",
     "text": [
      "Beniamin\n",
      " wybudował dom, w którym zamieszkał\n",
      " nieeuklidesowy\n",
      " auto\n",
      "\n"
     ]
    }
   ],
   "source": [
    "import random\n",
    "akto = []; acozrobil = []; ajaki = []; aco = []\n",
    "\n",
    "# YOUR CODE HERE\n",
    "\n",
    "def solution():\n",
    "    return \"{kto} {co_zrobil} {jaki} {co}\".format(kto = random.choice(akto), co_zrobil = random.choice(acozrobil), jaki = random.choice(ajaki), co = random.choice(aco))\n",
    "\n",
    "with open('lab5_zad4\\\\01_kto.txt') as f1:\n",
    "    for line in f1:\n",
    "        akto.append(line)\n",
    "\n",
    "with open('lab5_zad4\\\\02_co_zrobil.txt') as f2:\n",
    "    for line in f2:\n",
    "        acozrobil.append(line)\n",
    "\n",
    "with open('lab5_zad4\\\\03_jaki.txt') as f3:\n",
    "    for line in f3:\n",
    "        ajaki.append(line)\n",
    "\n",
    "with open('lab5_zad4\\\\04_co.txt') as f4:\n",
    "    for line in f4:\n",
    "        aco.append(line)\n",
    "\n",
    "with open('wynik.txt', 'w') as f5:\n",
    "    for i in range(100):\n",
    "        f5.write(solution())\n",
    "\n",
    "print(solution())\n",
    "\n"
   ]
  },
  {
   "cell_type": "markdown",
   "metadata": {
    "deletable": false,
    "editable": false,
    "nbgrader": {
     "cell_type": "markdown",
     "checksum": "579484b3d52097905124d4b9a9b7cbc2",
     "grade": false,
     "grade_id": "cell-39caf50a76aeae19",
     "locked": true,
     "schema_version": 3,
     "solution": false,
     "task": false
    }
   },
   "source": [
    " ## Zadanie 5\n",
    " \n",
    " \n",
    " Utwórz plik o nazwie `z5_pl.py` zawierający słownik o nazwie `lang`:\n",
    " ```python\n",
    "lang={}\n",
    "lang['hello'] = 'Witaj, nieznajomy!'\n",
    "lang['info'] = 'Podaj dowolną liczbę, policzę dla Ciebie pierwiastek : '\n",
    "lang['error'] = 'Podane dane są nieprawidłowe'\n",
    "lang['bye'] = 'Żegnaj !'\n",
    "```\n",
    " \n",
    "Utwórz kolejny plik o nazwie np. `z5_en.py` zawierający taki sam słownik, ale z tekstem przetłumaczonym na język obcy (np. angielski).\n",
    "Napisz program, który po uruchomieniu prosi użytkownika o wybranie języka. Jeśli użytkownik wpisze `pl`, importowany jest moduł __z5_pl__. Jeśli wpisze `en`, importowany jest moduł __z5_en__. Import może być używany wewnątrz instrukcji warunkowych. Następnie, po załadowaniu odpowiedniego modułu, program liczy pierwiastek liczby podanej przez użytkownika. Wszystkie wiadomości wypisywane po wyborze języka powinny być odczytywane ze słownika `lang`. Na początek wypisywane jest powitanie oraz prośba o wpisanie liczby. Jeśli użytkownik wpisze liczbę ujemną, wypisywany jest błąd. W przeciwnym razie, wypisywany jest wynik i pożegnanie."
   ]
  },
  {
   "cell_type": "code",
   "execution_count": 25,
   "metadata": {
    "deletable": false,
    "nbgrader": {
     "cell_type": "code",
     "checksum": "738d25d3dcc19a5734bf876603d04e79",
     "grade": true,
     "grade_id": "cell-d2603671d82f278b",
     "locked": false,
     "points": 1,
     "schema_version": 3,
     "solution": true,
     "task": false
    }
   },
   "outputs": [
    {
     "name": "stdout",
     "output_type": "stream",
     "text": [
      "Error\n",
      "Witaj, nieznajomy!\n",
      "5.830951894845301\n",
      "Żegnaj !\n"
     ]
    },
    {
     "ename": "",
     "evalue": "",
     "output_type": "error",
     "traceback": [
      "\u001b[1;31mThe Kernel crashed while executing code in the current cell or a previous cell. \n",
      "\u001b[1;31mPlease review the code in the cell(s) to identify a possible cause of the failure. \n",
      "\u001b[1;31mClick <a href='https://aka.ms/vscodeJupyterKernelCrash'>here</a> for more info. \n",
      "\u001b[1;31mView Jupyter <a href='command:jupyter.viewOutput'>log</a> for further details."
     ]
    }
   ],
   "source": [
    "# YOUR CODE HERE\n",
    "\n",
    "choice = input(\"Jaki modul importujesz? (en/pl)\")\n",
    "\n",
    "if choice == 'pl':\n",
    "    import z5_pl as module\n",
    "elif choice == 'en':\n",
    "    import z5_en as module\n",
    "else:\n",
    "    print(\"Error\")\n",
    "    exit()\n",
    "\n",
    "print(module.lang['hello'])\n",
    "number = float(input(module.lang['info']))\n",
    "\n",
    "if number < 0:\n",
    "    print(module.lang['error'])\n",
    "else:\n",
    "    root = number ** (0.5)\n",
    "    print(root)\n",
    "\n",
    "print(module.lang['bye'])"
   ]
  },
  {
   "cell_type": "code",
   "execution_count": null,
   "metadata": {},
   "outputs": [],
   "source": []
  }
 ],
 "metadata": {
  "kernelspec": {
   "display_name": "Python 3 (ipykernel)",
   "language": "python",
   "name": "python3"
  },
  "language_info": {
   "codemirror_mode": {
    "name": "ipython",
    "version": 3
   },
   "file_extension": ".py",
   "mimetype": "text/x-python",
   "name": "python",
   "nbconvert_exporter": "python",
   "pygments_lexer": "ipython3",
   "version": "3.11.2"
  }
 },
 "nbformat": 4,
 "nbformat_minor": 2
}
