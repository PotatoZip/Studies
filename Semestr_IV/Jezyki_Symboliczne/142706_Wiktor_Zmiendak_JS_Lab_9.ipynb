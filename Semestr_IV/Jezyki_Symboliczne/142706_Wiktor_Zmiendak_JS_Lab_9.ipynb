{
  "cells": [
    {
      "cell_type": "markdown",
      "metadata": {
        "id": "Ua3OuXeclWIv"
      },
      "source": [
        "## Języki symboliczne - rok akademicki 2022/2023\n",
        "\n",
        "Przed rozpoczęciem pracy z notatnikiem zmień jego nazwę zgodnie z wzorem: `NrAlbumu_Nazwisko_Imie_PoprzedniaNazwa`\n",
        "\n",
        "Przed wysłaniem notatnika **upewnij się jeszcze raz** że zmieniłeś nazwę i że rozwiązałeś wszystkie zadania/ćwiczenia, w szczególności, że uzupełniłeś wszystkie pola `YOUR CODE HERE` oraz `YOUR ANSWER HERE`."
      ]
    },
    {
      "cell_type": "markdown",
      "metadata": {
        "deletable": false,
        "editable": false,
        "nbgrader": {
          "cell_type": "markdown",
          "checksum": "25a5a2b9be1558411c00e794a647580d",
          "grade": false,
          "grade_id": "cell-51d5c973082f0959",
          "locked": true,
          "schema_version": 3,
          "solution": false
        },
        "id": "bFb4_1T2lWIx"
      },
      "source": [
        "# Temat: Operatory i dekoratory.\n",
        "Zapoznaj się z treścią niniejszego notatnika czytając i wykonując go komórka po komórce. Wykonaj napotkane zadania/ćwiczenia.\n",
        "\n",
        "\n",
        "\n",
        "## Operatory, przeciążanie operatorów.\n",
        "\n",
        "### Emulowanie typów liczbowych.\n",
        "\n",
        "Obiekty zdefiniowane przez użytkownika mogą korzystać ze wszystkich operatorów wbudowanych (`+`, `-`, `*` itd.), jeżeli w ich klasach zdefinuje się odpowiednie metody specjalne. Metody specjalne muszą być implementowane przez obiekty emulujace liczby.\n",
        "\n",
        "Lista metod specjalnych patrz link: https://docs.python.org/3/reference/datamodel.html#special-method-names ,\n",
        "\n",
        "lub: https://pl.python.org/docs/ref/node15.html\n",
        "\n",
        "Dla typów liczbowych wykorzystujemy operatory matematyczne i sprowadzania do zgodności typów.\n",
        "\n",
        "Lista metod specjalnych dla typów liczbowych patrz link: https://pl.python.org/docs/ref/node15.html#SECTION005370000000000000000\n",
        "\n",
        "Wybrane specjalne atrybuty, metody do użycia:\n",
        "\n",
        "- `__add__(self, other)` przeciążony operator `self + other`\n",
        "- `__sub__(self, other)` przeciążony operator `self - other`\n",
        "- `__mul__(self, other)` przeciążony operator `self * other`\n",
        "- `__div__(self, other)` przeciążony operator `self / other`\n",
        "- `__mod__(self, other)`  przeciążony operator `self % other`\n",
        "- `__pow__(self, other[, modulo])`  przeciążony operator `self ** other`, `pow(self, other, modulo)`\n",
        "- `__iadd__(self, other)` przeciążony operator `self += other`\n",
        "- `__isub__(self, other)` przeciążony operator `self -= other`\n",
        "- `__neg__(self)` przeciążony jednoargumentowy operator zmiany znaku `-self`\n",
        "- `__pos__(self)` przeciążony jednoargumentowy operator `+self`\n",
        "- `__int__(self)` przeciążony operator rzutowania na typ `int`\n",
        "- `__float__(self)` przeciążony operator rzutowania na typ `float`\n",
        "\n",
        "Metody specjalne o nazwach rozpoczynających się od litery \"r\" przeznaczone są do operacji o odwróconej kolejności operandów. Przykłady:\n",
        "\n",
        "- `__radd__(self, other)` przeciążony operator `other + self`\n",
        "- `__rsub__(self, other)` przeciążony operator `other - self`\n",
        "- `__rmul__(self, other)` przeciążony operator `other * self`\n",
        "- `__rmod__(self, other)`  przeciążony operator `other % self`\n",
        "\n",
        "\n",
        "#### Przykład.\n",
        "\n",
        "Tworzymy dwie instancje klasy `MY_POINT`. Jako wynik chcemy otrzymać nowy punkt, którego współrzędne są sumą obu wcześniej utworzonych instancji."
      ]
    },
    {
      "cell_type": "code",
      "execution_count": 1,
      "metadata": {
        "id": "lzkB_Y39lWIy"
      },
      "outputs": [],
      "source": [
        "class MY_POINT:\n",
        "    def __init__(self, x, y):\n",
        "        self.x = x\n",
        "        self.y = y\n",
        "\n",
        "    def disp(self):  # metoda klasy - wypisuje wartość składowych x,y\n",
        "        \"\"\"Metoda klasy wypisująca wartości składowych i, k\"\"\"\n",
        "        print('x = %f, y = %f' % (self.x,self.y))\n",
        "    def setp(self, xx, yy):  # metoda klasy - ustawia wartości x, y\n",
        "        \"\"\"Metoda klasy ustawiająca nową wartość składowych x, y\"\"\"\n",
        "        self.x = xx\n",
        "        self.y = yy"
      ]
    },
    {
      "cell_type": "code",
      "execution_count": 2,
      "metadata": {
        "id": "OSGUc6P0lWIy"
      },
      "outputs": [],
      "source": [
        "a = MY_POINT(1, 1)\n",
        "b = MY_POINT(2, 2)"
      ]
    },
    {
      "cell_type": "markdown",
      "metadata": {
        "deletable": false,
        "editable": false,
        "nbgrader": {
          "cell_type": "markdown",
          "checksum": "0307b190a6fee3a98c976f6cb8df2cc8",
          "grade": false,
          "grade_id": "cell-f7ea14ef92a1a1f3",
          "locked": true,
          "schema_version": 3,
          "solution": false
        },
        "id": "ta_X95l9lWIz"
      },
      "source": [
        "Próba dodania obiektów do siebie zwraca błąd."
      ]
    },
    {
      "cell_type": "code",
      "execution_count": 3,
      "metadata": {
        "colab": {
          "base_uri": "https://localhost:8080/",
          "height": 141
        },
        "id": "DwlxD8lXlWIz",
        "outputId": "56c99008-8e0e-4c99-ba28-b9bda4767126"
      },
      "outputs": [
        {
          "output_type": "error",
          "ename": "TypeError",
          "evalue": "unsupported operand type(s) for +: 'MY_POINT' and 'MY_POINT'",
          "traceback": [
            "\u001b[0;31m---------------------------------------------------------------------------\u001b[0m",
            "\u001b[0;31mTypeError\u001b[0m                                 Traceback (most recent call last)",
            "\u001b[0;32m<ipython-input-3-220ec3af78e8>\u001b[0m in \u001b[0;36m<cell line: 1>\u001b[0;34m()\u001b[0m\n\u001b[0;32m----> 1\u001b[0;31m \u001b[0mc\u001b[0m \u001b[0;34m=\u001b[0m \u001b[0ma\u001b[0m \u001b[0;34m+\u001b[0m \u001b[0mb\u001b[0m  \u001b[0;31m# błąd\u001b[0m\u001b[0;34m\u001b[0m\u001b[0;34m\u001b[0m\u001b[0m\n\u001b[0m",
            "\u001b[0;31mTypeError\u001b[0m: unsupported operand type(s) for +: 'MY_POINT' and 'MY_POINT'"
          ]
        }
      ],
      "source": [
        "c = a + b  # błąd"
      ]
    },
    {
      "cell_type": "markdown",
      "metadata": {
        "deletable": false,
        "editable": false,
        "nbgrader": {
          "cell_type": "markdown",
          "checksum": "507ed476fdeab2bc7f0b3ba4c90f3d90",
          "grade": false,
          "grade_id": "cell-878e9f3381cdaaaf",
          "locked": true,
          "schema_version": 3,
          "solution": false
        },
        "id": "eXnTicJmlWIz"
      },
      "source": [
        "W obrębie klasy definujemy metodę specjalną `__add__()`."
      ]
    },
    {
      "cell_type": "code",
      "execution_count": 6,
      "metadata": {
        "id": "bppqeRV6lWIz"
      },
      "outputs": [],
      "source": [
        "class MY_POINT:\n",
        "    def __init__(self, x,y):\n",
        "        self.x = x\n",
        "        self.y = y\n",
        "\n",
        "    def __add__(self, other):\n",
        "        \"\"\"Przeciążony operator + \"\"\"\n",
        "        return MY_POINT(self.x + other.x, self.y + other.y)\n",
        "\n",
        "    def disp(self):  # metoda klasy - wypisuje wartość składowych x,y\n",
        "        \"\"\"Metoda klasy wypisująca wartości składowych i,k\"\"\"\n",
        "        print('x = %f, y = %f' % (self.x,self.y))\n",
        "\n",
        "    def setp(self, xx, yy):  # metoda klasy - ustawia wartości x, y\n",
        "        \"\"\"Metoda klasy ustawiająca nową wartość składowych x, y\"\"\"\n",
        "        self.x = xx\n",
        "        self.y = yy"
      ]
    },
    {
      "cell_type": "code",
      "execution_count": 7,
      "metadata": {
        "colab": {
          "base_uri": "https://localhost:8080/"
        },
        "id": "lPXrjWI2lWIz",
        "outputId": "91a6b53d-df41-4118-c7b6-20a5f501ab4f"
      },
      "outputs": [
        {
          "output_type": "stream",
          "name": "stdout",
          "text": [
            "x = 3.000000, y = 3.000000\n"
          ]
        }
      ],
      "source": [
        "a = MY_POINT(1, 1)\n",
        "b = MY_POINT(2, 2)\n",
        "c = a + b  # teraz jest ok - możemy obiekty dodawać do siebie.\n",
        "c.disp()"
      ]
    },
    {
      "cell_type": "markdown",
      "metadata": {
        "deletable": false,
        "editable": false,
        "nbgrader": {
          "cell_type": "markdown",
          "checksum": "f1ee6169fed858ca38149bcb5882d0a4",
          "grade": false,
          "grade_id": "cell-45d38774196ab2d3",
          "locked": true,
          "schema_version": 3,
          "solution": false
        },
        "id": "rwyAzru4lWIz"
      },
      "source": [
        "### Ćwiczenie 1.\n",
        "\n",
        "Utwórz klasę `MY_VECTOR`, której składowymi będą dwa obiekty klasy `MY_POINT`. Klasa zawiera:\n",
        "\n",
        "I. składowe:\n",
        "- `PointStart` - obiekt klasy `MY_POINT`, punkt początkowy wektora\n",
        "- `PointEnd` - obiekt klasy `MY_POINT`, punkt końcowy wektora\n",
        "- `coord_x` - współrzędna x wektora\n",
        "- `coord_y` - współrzędna y wektora\n",
        "\n",
        "II. metody:\n",
        "- `disp()` - wypisuje współrzędne punktów zaczepienia wektora, zawiera odwołanie do metody `disp()` w klasie `MY_POINT` oraz współrzędne wektora\n",
        "- `length()` - zwraca długość wektora\n",
        "- `rotate()` - zmienia zwrot (współrzędne) wektora\n",
        "- `get_rotate()` - zwraca nowy, odwrócony wektor\n",
        "\n",
        "III. metody specjalne:\n",
        "- `__add__()` zwraca współrzędne wektora będącego sumą dwóch wektorów\n",
        "- `__mul__()` zwraca iloczyn skalarny wektorów"
      ]
    },
    {
      "cell_type": "code",
      "execution_count": 43,
      "metadata": {
        "deletable": false,
        "nbgrader": {
          "cell_type": "code",
          "checksum": "9b5ef83c5cb08076e7fc9e407f1134f7",
          "grade": false,
          "grade_id": "cell-d1c40f0907a97717",
          "locked": false,
          "schema_version": 3,
          "solution": true
        },
        "colab": {
          "base_uri": "https://localhost:8080/"
        },
        "id": "lgDjVBAAlWIz",
        "outputId": "2d998e4a-77fe-48de-f66d-75d3882e56cc"
      },
      "outputs": [
        {
          "output_type": "stream",
          "name": "stdout",
          "text": [
            "Start Point:\n",
            "Point: (0, 0)\n",
            "End Point:\n",
            "Point: (1, 0)\n",
            "Vector Coordinates: (1, 0)\n",
            "After rotation:\n",
            "Start Point:\n",
            "Point: (0, 0)\n",
            "End Point:\n",
            "Point: (1, 0)\n",
            "Vector Coordinates: (0, 1)\n",
            "Rotated vector:\n",
            "Start Point:\n",
            "Point: (0, 0)\n",
            "End Point:\n",
            "Point: (0, 1)\n",
            "Vector Coordinates: (0, 1)\n",
            "Sum of vectors:\n",
            "Start Point:\n",
            "Point: (0, 0)\n",
            "End Point:\n",
            "Point: (1, 1)\n",
            "Vector Coordinates: (1, 1)\n",
            "Dot product of vectors:\n",
            "1\n"
          ]
        }
      ],
      "source": [
        "import math\n",
        "\n",
        "class MY_POINT:\n",
        "    def __init__(self, x, y):\n",
        "        self.x = x\n",
        "        self.y = y\n",
        "\n",
        "    def disp(self):\n",
        "        print(f\"Point: ({self.x}, {self.y})\")\n",
        "\n",
        "class MY_VECTOR:\n",
        "    def __init__(self, PointStart, PointEnd):\n",
        "        self.PointStart = PointStart\n",
        "        self.PointEnd = PointEnd\n",
        "        self.coord_x = self.PointEnd.x - self.PointStart.x\n",
        "        self.coord_y = self.PointEnd.y - self.PointStart.y\n",
        "\n",
        "    def disp(self):\n",
        "        print(\"Start Point:\")\n",
        "        self.PointStart.disp()\n",
        "        print(\"End Point:\")\n",
        "        self.PointEnd.disp()\n",
        "        print(f\"Vector Coordinates: ({self.coord_x}, {self.coord_y})\")\n",
        "\n",
        "    def length(self):\n",
        "        return math.sqrt(self.coord_x**2 + self.coord_y**2)\n",
        "\n",
        "    def rotate(self):\n",
        "        self.coord_x, self.coord_y = -self.coord_y, self.coord_x\n",
        "\n",
        "    def get_rotate(self):\n",
        "        rotated_vector = MY_VECTOR(self.PointStart, MY_POINT(self.PointStart.x + self.coord_x, self.PointStart.y + self.coord_y))\n",
        "        return rotated_vector\n",
        "\n",
        "    def __add__(self, other):\n",
        "        new_vector = MY_VECTOR(self.PointStart, MY_POINT(self.PointEnd.x + other.coord_x, self.PointEnd.y + other.coord_y))\n",
        "        return new_vector\n",
        "\n",
        "    def __mul__(self, other):\n",
        "        return self.coord_x * other.coord_x + self.coord_y * other.coord_y\n",
        "\n",
        "# Przykładowe użycie:\n",
        "if __name__ == \"__main__\":\n",
        "    p1 = MY_POINT(0, 0)\n",
        "    p2 = MY_POINT(1, 0)\n",
        "    p3 = MY_POINT(0, 1)\n",
        "    p4 = MY_POINT(0, 2)\n",
        "\n",
        "    w1 = MY_VECTOR(p1, p2)\n",
        "    w1.disp()\n",
        "    w1.rotate()\n",
        "    print(\"After rotation:\")\n",
        "    w1.disp()\n",
        "\n",
        "    w2 = w1.get_rotate()\n",
        "    print(\"Rotated vector:\")\n",
        "    w2.disp()\n",
        "\n",
        "    w3 = MY_VECTOR(p3, p4)\n",
        "    print(\"Sum of vectors:\")\n",
        "    (w1 + w3).disp()\n",
        "\n",
        "    print(\"Dot product of vectors:\")\n",
        "    print(w1 * w3)\n"
      ]
    },
    {
      "cell_type": "markdown",
      "metadata": {
        "deletable": false,
        "editable": false,
        "nbgrader": {
          "cell_type": "markdown",
          "checksum": "f69626558403309a5303a370cfffdccb",
          "grade": false,
          "grade_id": "cell-5d0c14c46da8bf56",
          "locked": true,
          "schema_version": 3,
          "solution": false,
          "task": false
        },
        "id": "rZkvBo9mlWI0"
      },
      "source": [
        "### Porównywanie egzemplarzy.\n",
        "\n",
        "Wybrane metody do użycia:\n",
        "- `__lt__(self, other)` przeciążony operator `self < other`\n",
        "- `__le__(self, other)` przeciążony operator `self <= other`\n",
        "- `__eq__(self, other)` przeciążony operator `self == other`\n",
        "- `__ne__(self, other)` przeciążony operator `self != other`\n",
        "- `__gt__(self, other)` przeciążony operator `self > other`\n",
        "- `__ge__(self, other)` przeciążony operator `self >= other`\n",
        "\n",
        "Metody te mogą zwracać dowolne wartości, lecz jeśli operator porównania zostanie użyty w kontekście logicznym, zwracana wartość powinna dać się zinterpretować jako wartość logiczna `True` lub `False`, w przeciwnym bowiem wypadku wystąpi wyjątek `TypeError`.\n",
        "\n",
        "Pomiędzy operatorami porównań nie występują żadne zależności mające charakter ogólny. Prawdziwość porównania `x==y` nie musi pociągać za sobą nieprawdziwości porównania `x!=y`. Analogicznie, przy definiowaniu metody `__eq__` należy również zdefiniować `__ne__`, tak aby operatory zachowywały się w oczekiwany sposób.\n",
        "\n",
        "- `__cmp__(self, other)` wywoływana przy operacjach porównań, jeśli porównanie szczegółowe (patrz wyżej) nie jest zdefiniowane. Jeśli `self < other`, funkcja powinna zwrócić całkowitą liczbę ujemną, jeśli `self == other` - zero, jeśli zaś `self > other` - całkowitą liczbę dodatnią. Jeśli klasa nie definiuje operacji `__cmp__()`, `__eq__()`, ani `__ne__()`, jej instancje są porównywane według tożsamości (\"adresów\") obiektów.\n",
        "\n",
        "Przykład.\n",
        "Tworzymy dwie instancje klasy MY_POINT. Jako wynik chcemy informację, czy punkty mają takie same współrzędne."
      ]
    },
    {
      "cell_type": "code",
      "execution_count": 10,
      "metadata": {
        "id": "pSjbcak4lWI0"
      },
      "outputs": [],
      "source": [
        "class MY_POINT:\n",
        "    def __init__(self, x,y):\n",
        "        self.x = x\n",
        "        self.y = y\n",
        "\n",
        "    def disp(self):  # metoda klasy - wypisuje wartość składowych x,y\n",
        "        \"\"\"Metoda klasy wypisująca wartości składowych i,k\"\"\"\n",
        "        print('x = %f, y = %f' % (self.x,self.y))\n",
        "\n",
        "    def setp(self, xx, yy):  # metoda klasy - ustawia wartości x, y\n",
        "        \"\"\"Metoda klasy ustawiająca nową wartość składowych x, y\"\"\"\n",
        "        self.x = xx\n",
        "        self.y = yy"
      ]
    },
    {
      "cell_type": "code",
      "execution_count": 11,
      "metadata": {
        "colab": {
          "base_uri": "https://localhost:8080/"
        },
        "id": "nHs1A6FxlWI0",
        "outputId": "18aac374-7b0a-4227-b586-bd4ff819e6d3"
      },
      "outputs": [
        {
          "output_type": "execute_result",
          "data": {
            "text/plain": [
              "False"
            ]
          },
          "metadata": {},
          "execution_count": 11
        }
      ],
      "source": [
        "# Klasa MY_POINT nie definiuje operacji __cmp__(), __eq__(), __ne__()\n",
        "a = MY_POINT(1,1)\n",
        "b = MY_POINT(1,1)\n",
        "a == b # Porównanie tożsamości obiektów"
      ]
    },
    {
      "cell_type": "markdown",
      "metadata": {
        "deletable": false,
        "editable": false,
        "nbgrader": {
          "cell_type": "markdown",
          "checksum": "35fff6405b0491e5f8744f0873ee8b83",
          "grade": false,
          "grade_id": "cell-64999ee5bdb70d99",
          "locked": true,
          "schema_version": 3,
          "solution": false,
          "task": false
        },
        "id": "yXRyytqGlWI0"
      },
      "source": [
        "W obrębie klasy definujemy metodę specjalną `__eq__()` ( oraz `__ne__()`)."
      ]
    },
    {
      "cell_type": "code",
      "execution_count": 12,
      "metadata": {
        "id": "2H0cEI2SlWI0"
      },
      "outputs": [],
      "source": [
        "class MY_POINT:\n",
        "    def __init__(self, x,y):\n",
        "        self.x = x\n",
        "        self.y = y\n",
        "\n",
        "    def __eq__(self, other):\n",
        "        \"\"\"Przeciążony operator + \"\"\"\n",
        "        return self.x == other.x and self.y == other.y\n",
        "\n",
        "    def __ne__(self, other):\n",
        "        \"\"\"Przeciążony operator + \"\"\"\n",
        "        return self.x != other.x or self.y != other.y\n",
        "\n",
        "    def disp(self):  # metoda klasy - wypisuje wartość składowych x,y\n",
        "        \"\"\"Metoda klasy wypisująca wartości składowych i,k\"\"\"\n",
        "        print('x = %f, y = %f' % (self.x,self.y))\n",
        "\n",
        "    def setp(self, xx, yy):  # metoda klasy - ustawia wartości x, y\n",
        "        \"\"\"Metoda klasy ustawiająca nową wartość składowych x, y\"\"\"\n",
        "        self.x = xx\n",
        "        self.y = yy"
      ]
    },
    {
      "cell_type": "code",
      "execution_count": 13,
      "metadata": {
        "colab": {
          "base_uri": "https://localhost:8080/"
        },
        "id": "XPmQrKmolWI1",
        "outputId": "feef7dd1-bfbd-4161-d999-00ae0dbdae31"
      },
      "outputs": [
        {
          "output_type": "execute_result",
          "data": {
            "text/plain": [
              "True"
            ]
          },
          "metadata": {},
          "execution_count": 13
        }
      ],
      "source": [
        "a = MY_POINT(1,1)\n",
        "b = MY_POINT(1,1)\n",
        "a == b # Porównanie tożsamości obiektów"
      ]
    },
    {
      "cell_type": "markdown",
      "metadata": {
        "deletable": false,
        "editable": false,
        "nbgrader": {
          "cell_type": "markdown",
          "checksum": "90a2c5cd07e9c5ffd21f735954dfb829",
          "grade": false,
          "grade_id": "cell-2a4312e96272800d",
          "locked": true,
          "schema_version": 3,
          "solution": false,
          "task": false
        },
        "id": "giHrP3TvlWI1"
      },
      "source": [
        "### Emulowanie obiektów wywoływalnych.\n",
        "\n",
        "- `__call__( self [ , args ... ] )` Wywoływana przy operacji \"wywołania\" instancji jak funkcji; jeśli jest ona zdefiniowana, to `x(arg1, arg2, ...`) jest odpowiednikiem `x.__call__(arg1, arg2, ...)`.  "
      ]
    },
    {
      "cell_type": "code",
      "execution_count": 14,
      "metadata": {
        "id": "nLMdneDalWI1"
      },
      "outputs": [],
      "source": [
        "class MY_POINT:\n",
        "    def __init__(self, x,y):\n",
        "        self.x = x\n",
        "        self.y = y\n",
        "\n",
        "    def __call__(self, *args, **kwargs):\n",
        "        print(\"Jestem Punktem ({},{})\".format(self.x, self.y),'\\notrzymałem: ', *args)"
      ]
    },
    {
      "cell_type": "code",
      "execution_count": 15,
      "metadata": {
        "colab": {
          "base_uri": "https://localhost:8080/"
        },
        "id": "nV6zUo7olWI1",
        "outputId": "d0619270-7eb1-4dca-b27a-66f32906c96f"
      },
      "outputs": [
        {
          "output_type": "stream",
          "name": "stdout",
          "text": [
            "Jestem Punktem (1,1) \n",
            "otrzymałem:  a b c\n"
          ]
        }
      ],
      "source": [
        "a = MY_POINT(1,1)\n",
        "a('a','b','c')"
      ]
    },
    {
      "cell_type": "markdown",
      "metadata": {
        "deletable": false,
        "editable": false,
        "nbgrader": {
          "cell_type": "markdown",
          "checksum": "3e9f02448ea0631f3b6cc6d2ae71c830",
          "grade": false,
          "grade_id": "cell-88bfed78dca0811f",
          "locked": true,
          "schema_version": 3,
          "solution": false,
          "task": false
        },
        "id": "5ooC0SoplWI1"
      },
      "source": [
        "## Dekoratory - czyli opakowywanie funkcji.\n",
        "\n",
        "Funkcje w Pythonie mogą być przekazywane jako parametry wywołania innych funkcji oraz mogą być też wartościami zwracanymi przez te funkcje.  Dekoratory opakowują funkcję, modyfikując jej zachowanie.\n",
        "\n",
        "Poniższa funkcja pobiera jako argument inną funkcję i wyświetla nazwę podanej funkcji:"
      ]
    },
    {
      "cell_type": "code",
      "execution_count": 16,
      "metadata": {
        "colab": {
          "base_uri": "https://localhost:8080/"
        },
        "id": "8nN1nx0alWI1",
        "outputId": "153ef469-c663-4490-8b6b-2dbc4f7bceca"
      },
      "outputs": [
        {
          "output_type": "stream",
          "name": "stdout",
          "text": [
            "Nazwa funkcji: foo\n"
          ]
        }
      ],
      "source": [
        "def nazwa_funkcji(f):\n",
        "    print('Nazwa funkcji:', f.__name__)\n",
        "\n",
        "def foo():\n",
        "    print('Funkcja foo')\n",
        "\n",
        "nazwa_funkcji(foo)"
      ]
    },
    {
      "cell_type": "markdown",
      "metadata": {
        "deletable": false,
        "editable": false,
        "nbgrader": {
          "cell_type": "markdown",
          "checksum": "ca1cb975cf266c688837f990dae15690",
          "grade": false,
          "grade_id": "cell-4bc5dddd63bb543b",
          "locked": true,
          "schema_version": 3,
          "solution": false,
          "task": false
        },
        "id": "50QJE9ZElWI1"
      },
      "source": [
        "Poniżej przykład funkcji, która tworzy nową funkcję i zwraca ją jako wynik. W tym wypadku `utworz_dodawanie` tworzy funkcję, która dodaje stałą do jej argumentu:"
      ]
    },
    {
      "cell_type": "code",
      "execution_count": 17,
      "metadata": {
        "colab": {
          "base_uri": "https://localhost:8080/"
        },
        "id": "FCseBAFvlWI1",
        "outputId": "7a019ee8-a54c-405b-a3a9-8b372ed66aea"
      },
      "outputs": [
        {
          "output_type": "stream",
          "name": "stdout",
          "text": [
            "<function utworz_dodawanie.<locals>.dodaj at 0x797eb834ae60>\n"
          ]
        }
      ],
      "source": [
        "def utworz_dodawanie(x):\n",
        "    def dodaj(y):\n",
        "        return x + y\n",
        "    return dodaj\n",
        "\n",
        "dodaj5 = utworz_dodawanie(5)\n",
        "print(dodaj5)"
      ]
    },
    {
      "cell_type": "code",
      "execution_count": 18,
      "metadata": {
        "colab": {
          "base_uri": "https://localhost:8080/"
        },
        "id": "6KxBX6dhlWI1",
        "outputId": "653566de-ba0d-41ac-a0a1-9659ca945109"
      },
      "outputs": [
        {
          "output_type": "execute_result",
          "data": {
            "text/plain": [
              "15"
            ]
          },
          "metadata": {},
          "execution_count": 18
        }
      ],
      "source": [
        "dodaj5(10)"
      ]
    },
    {
      "cell_type": "markdown",
      "metadata": {
        "deletable": false,
        "editable": false,
        "nbgrader": {
          "cell_type": "markdown",
          "checksum": "8e7d6f72ecd45295c04b314804e0d603",
          "grade": false,
          "grade_id": "cell-7b328ea4b660b71e",
          "locked": true,
          "schema_version": 3,
          "solution": false,
          "task": false
        },
        "id": "D64He092lWI2"
      },
      "source": [
        "Łącząc obie powyższe możliwości możemy zdefiniować funkcję, która będzie pobierała inną funkcję w parametrze i zwracała jakąś funkcję utworzoną w sposób zależny od podanego parametru.\n",
        "\n",
        "Możemy utworzyć funkcję __opakowującą__ przekazaną funkcję, która będzie pokazywała informacje o każdym wywołaniu tej funkcji:"
      ]
    },
    {
      "cell_type": "code",
      "execution_count": 19,
      "metadata": {
        "id": "dMeyXGWElWI2"
      },
      "outputs": [],
      "source": [
        "def foo():                        # dekorowana funkcja\n",
        "    print('Funkcja foo')\n",
        "\n",
        "def pokaz_wywolanie(f):            # dekorator\n",
        "    def opakowanie(*args, **kargs):\n",
        "        print('Wywołuje:', f.__name__)\n",
        "        return f(*args, **kargs)\n",
        "    return opakowanie"
      ]
    },
    {
      "cell_type": "code",
      "execution_count": 20,
      "metadata": {
        "colab": {
          "base_uri": "https://localhost:8080/"
        },
        "id": "LCh1FJIQlWI2",
        "outputId": "f301af96-7f1d-4350-9774-ae7f0ef275af"
      },
      "outputs": [
        {
          "output_type": "stream",
          "name": "stdout",
          "text": [
            "Wywołuje: foo\n",
            "Funkcja foo\n"
          ]
        }
      ],
      "source": [
        "bar = pokaz_wywolanie(foo)\n",
        "bar()"
      ]
    },
    {
      "cell_type": "markdown",
      "metadata": {
        "deletable": false,
        "editable": false,
        "nbgrader": {
          "cell_type": "markdown",
          "checksum": "dfdc1db0136a19418c769d627764ce3f",
          "grade": false,
          "grade_id": "cell-2293284ef2e97b17",
          "locked": true,
          "schema_version": 3,
          "solution": false,
          "task": false
        },
        "id": "yr6bq9uqlWI2"
      },
      "source": [
        "Jeśli przypiszemy rezultat wywołania funkcji `pokaz_wywolanie` do tej samej nazwy co jej argument, to tym samym zastąpimy oryginalną wersję funkcji naszym opakowaniem:"
      ]
    },
    {
      "cell_type": "code",
      "execution_count": 21,
      "metadata": {
        "colab": {
          "base_uri": "https://localhost:8080/"
        },
        "id": "yNr2_xk8lWI2",
        "outputId": "575a3ecb-f008-43e8-f614-0dd4e97fae58"
      },
      "outputs": [
        {
          "output_type": "stream",
          "name": "stdout",
          "text": [
            "Wywołuje: foo\n",
            "Funkcja foo\n"
          ]
        }
      ],
      "source": [
        "foo = pokaz_wywolanie(foo)\n",
        "foo()"
      ]
    },
    {
      "cell_type": "markdown",
      "metadata": {
        "deletable": false,
        "editable": false,
        "nbgrader": {
          "cell_type": "markdown",
          "checksum": "083c34599afe83e4bca537ea34c666a1",
          "grade": false,
          "grade_id": "cell-d17195476dc43964",
          "locked": true,
          "schema_version": 3,
          "solution": false,
          "task": false
        },
        "id": "qwGNrJCblWI2"
      },
      "source": [
        "Zamiast pisać:\n",
        "```python\n",
        "foo = pokaz_wywolanie(foo)\n",
        "```\n",
        "python pozwala na prostrze używanie dekoratorów  z wykorzystaniem symbolu `@pokaz_wywolanie` przed defnicją funkcji, np:\n",
        "```python\n",
        "@pokaz_wywolanie\n",
        "def foo():\n",
        "    print('Funkcja foo')\n",
        "```\n"
      ]
    },
    {
      "cell_type": "code",
      "execution_count": 22,
      "metadata": {
        "colab": {
          "base_uri": "https://localhost:8080/"
        },
        "id": "uI2l8dnAlWI2",
        "outputId": "d9028342-488a-4117-fd48-fac741eec263"
      },
      "outputs": [
        {
          "output_type": "stream",
          "name": "stdout",
          "text": [
            "Wywołuje: func\n",
            "Funkcja func została opakowana\n"
          ]
        }
      ],
      "source": [
        "def pokaz_wywolanie(f): # dekorator\n",
        "    def opakowanie(*args, **kargs):\n",
        "        print('Wywołuje:', f.__name__)\n",
        "        return f(*args, **kargs)\n",
        "    return opakowanie\n",
        "\n",
        "@pokaz_wywolanie\n",
        "def func():  # dekorowana funkcja\n",
        "    print('Funkcja func została opakowana')\n",
        "\n",
        "func()"
      ]
    },
    {
      "cell_type": "markdown",
      "metadata": {
        "deletable": false,
        "editable": false,
        "nbgrader": {
          "cell_type": "markdown",
          "checksum": "4d61191beff99907533259cdc89ecd09",
          "grade": false,
          "grade_id": "cell-544691e26b59955c",
          "locked": true,
          "schema_version": 3,
          "solution": false,
          "task": false
        },
        "id": "CwjXK4UulWI2"
      },
      "source": [
        "### Dekorator `wraps`\n",
        "W poprzednich przykładach pominięto, istotny podczas tworzenia własnego dekoratora, dekorator `wraps`. Jego pominięcie powoduje utratę metadanych dekorowanej funkcji (np. docstringa). Zalecane jest, by był on dodawany do tworzonych dekoratorów.\n",
        "\n",
        "Wersja bez dekoratora `wraps`:"
      ]
    },
    {
      "cell_type": "code",
      "execution_count": 23,
      "metadata": {
        "id": "tsi6CVWPlWI3"
      },
      "outputs": [],
      "source": [
        "def my_decorator(f):\n",
        "    def wrapper(*args, **kargs):\n",
        "        print('Wywołanie opakowania')\n",
        "        return f(*args, **kargs)\n",
        "    return wrapper\n",
        "\n",
        "@my_decorator\n",
        "def przyklad():\n",
        "    \"\"\"Docstring\"\"\"\n",
        "    print('Wywołanie przykładowej funkcji')"
      ]
    },
    {
      "cell_type": "code",
      "execution_count": 24,
      "metadata": {
        "colab": {
          "base_uri": "https://localhost:8080/"
        },
        "id": "bDe_k0izlWI3",
        "outputId": "b10d97ac-9e46-4495-a7cf-cdd139581c51"
      },
      "outputs": [
        {
          "output_type": "stream",
          "name": "stdout",
          "text": [
            "Wywołanie opakowania\n",
            "Wywołanie przykładowej funkcji\n",
            "wrapper\n",
            "None\n"
          ]
        }
      ],
      "source": [
        "przyklad()\n",
        "print(przyklad.__name__)\n",
        "print(przyklad.__doc__)"
      ]
    },
    {
      "cell_type": "markdown",
      "metadata": {
        "deletable": false,
        "editable": false,
        "nbgrader": {
          "cell_type": "markdown",
          "checksum": "35f325b97e687eb6e8f20537cfd1ca12",
          "grade": false,
          "grade_id": "cell-e244f908b56c2613",
          "locked": true,
          "schema_version": 3,
          "solution": false,
          "task": false
        },
        "id": "auaD_x3VlWI3"
      },
      "source": [
        "Wersja z użyciem dekoratora `wraps`:"
      ]
    },
    {
      "cell_type": "code",
      "execution_count": 25,
      "metadata": {
        "id": "aDe1jRYzlWI3"
      },
      "outputs": [],
      "source": [
        "from functools import wraps        # import functools\n",
        "\n",
        "def my_decorator(f):\n",
        "    @wraps(f)                      # @functools.wraps(f)\n",
        "    def wrapper(*args, **kargs):\n",
        "        print('Wywołanie opakowania')\n",
        "        return f(*args, **kargs)\n",
        "    return wrapper\n",
        "\n",
        "@my_decorator\n",
        "def przyklad():\n",
        "    \"\"\"Docstring\"\"\"\n",
        "    print('Wywołanie przykładowej funkcji')"
      ]
    },
    {
      "cell_type": "code",
      "execution_count": 26,
      "metadata": {
        "colab": {
          "base_uri": "https://localhost:8080/"
        },
        "id": "XqsAXKs1lWI3",
        "outputId": "90dc216c-6328-45aa-f4ab-2a38dcfe5f15"
      },
      "outputs": [
        {
          "output_type": "stream",
          "name": "stdout",
          "text": [
            "Wywołanie opakowania\n",
            "Wywołanie przykładowej funkcji\n",
            "przyklad\n",
            "Docstring\n"
          ]
        }
      ],
      "source": [
        "przyklad()\n",
        "print(przyklad.__name__)\n",
        "print(przyklad.__doc__)"
      ]
    },
    {
      "cell_type": "markdown",
      "metadata": {
        "deletable": false,
        "editable": false,
        "nbgrader": {
          "cell_type": "markdown",
          "checksum": "2d150e89daf45f9c551aa0b9e69a0ceb",
          "grade": false,
          "grade_id": "cell-3fddf66b9a25cea4",
          "locked": true,
          "schema_version": 3,
          "solution": false,
          "task": false
        },
        "id": "Hua50fwelWI3"
      },
      "source": [
        "### Dekoratory z argumentami\n",
        "\n",
        "Liczbę wykonań dekorowanej funkcji możemy podać jako argument dekoratora.\n"
      ]
    },
    {
      "cell_type": "code",
      "execution_count": 27,
      "metadata": {
        "id": "7nkvn-ThlWJA"
      },
      "outputs": [],
      "source": [
        "from functools import wraps        # import functools\n",
        "\n",
        "def repeat(n):\n",
        "    def my_decorator(f):\n",
        "        @wraps(f)                      # @functools.wraps(f)\n",
        "        def wrapper(*args, **kargs):\n",
        "            for i in range (n):\n",
        "                print('\\tWywołanie opakowania po raz: {}'.format(i))\n",
        "                value = f(*args, **kargs)\n",
        "            return value\n",
        "        return wrapper\n",
        "    return my_decorator\n",
        "\n",
        "@repeat(4)\n",
        "def przyklad():\n",
        "    \"\"\"Docstring\"\"\"\n",
        "    print('Wywołanie przykładowej funkcji')"
      ]
    },
    {
      "cell_type": "code",
      "execution_count": 28,
      "metadata": {
        "colab": {
          "base_uri": "https://localhost:8080/"
        },
        "id": "Yk_IRffplWJA",
        "outputId": "8b69417a-19b5-404a-ed1f-099f1ae865e2"
      },
      "outputs": [
        {
          "output_type": "stream",
          "name": "stdout",
          "text": [
            "\tWywołanie opakowania po raz: 0\n",
            "Wywołanie przykładowej funkcji\n",
            "\tWywołanie opakowania po raz: 1\n",
            "Wywołanie przykładowej funkcji\n",
            "\tWywołanie opakowania po raz: 2\n",
            "Wywołanie przykładowej funkcji\n",
            "\tWywołanie opakowania po raz: 3\n",
            "Wywołanie przykładowej funkcji\n"
          ]
        }
      ],
      "source": [
        "przyklad()"
      ]
    },
    {
      "cell_type": "markdown",
      "metadata": {
        "deletable": false,
        "editable": false,
        "nbgrader": {
          "cell_type": "markdown",
          "checksum": "bd683de6acc3e3c3e98d0664af292c1d",
          "grade": false,
          "grade_id": "cell-229d3fc3a0951c12",
          "locked": true,
          "schema_version": 3,
          "solution": false,
          "task": false
        },
        "id": "CweglFD7lWJA"
      },
      "source": [
        "### Dekoratory w klasach (wybrane).\n",
        "\n",
        "#### Dekorator `@property`\n",
        "- dekorator `@property` identyfikuje metodę jako `getter`\n",
        "- `Gettry` i `settery` nazywane też `akcesorami/mutatorami`, wykorzystywane są odpowiednio do pobierania i ustawiania wartości atrybutu obiektu.\n"
      ]
    },
    {
      "cell_type": "code",
      "execution_count": 29,
      "metadata": {
        "id": "k6FuVP3FlWJA"
      },
      "outputs": [],
      "source": [
        "class Osoba:\n",
        "    def __init__(self, name):\n",
        "        self.__name = name\n",
        "\n",
        "    def get_name(self):\n",
        "        return(self.__name)\n",
        "\n",
        "    def set_name(self, name):\n",
        "        self.__name = name"
      ]
    },
    {
      "cell_type": "code",
      "execution_count": 30,
      "metadata": {
        "colab": {
          "base_uri": "https://localhost:8080/"
        },
        "id": "hutOB2dslWJA",
        "outputId": "287074ce-e86c-4215-cc4a-dc19445437d8"
      },
      "outputs": [
        {
          "output_type": "stream",
          "name": "stdout",
          "text": [
            "Adam \n"
          ]
        }
      ],
      "source": [
        "a = Osoba('Adam')\n",
        "b = Osoba('')\n",
        "print(a.get_name(), b.get_name())"
      ]
    },
    {
      "cell_type": "code",
      "execution_count": 31,
      "metadata": {
        "colab": {
          "base_uri": "https://localhost:8080/"
        },
        "id": "hdlPO1ERlWJB",
        "outputId": "f9780d88-1788-44ff-a0d3-caab4216358d"
      },
      "outputs": [
        {
          "output_type": "stream",
          "name": "stdout",
          "text": [
            "Adam Basia\n"
          ]
        }
      ],
      "source": [
        "b.set_name('Basia')\n",
        "print(a.get_name(), b.get_name())"
      ]
    },
    {
      "cell_type": "markdown",
      "metadata": {
        "deletable": false,
        "editable": false,
        "nbgrader": {
          "cell_type": "markdown",
          "checksum": "7238d52bdea73aba96723f3574ba2e02",
          "grade": false,
          "grade_id": "cell-aed7650963ec5fdb",
          "locked": true,
          "schema_version": 3,
          "solution": false,
          "task": false
        },
        "id": "sFyLOPqelWJB"
      },
      "source": [
        "- Możliwe jest zdefiniowanie `getterów` i `setterów` dla zmiennych prywatnych w taki sposób aby móc wywoływać je za pomocą składni `zmienna.pole=wartosc`.\n",
        "- Służy do tego dekorator `@property`, który identyfikuje metodę jako `getter`. Aby dodać `setter` należy użyć `@name.setter`, gdzie `name` musi być takie samo jak nazwa pola."
      ]
    },
    {
      "cell_type": "code",
      "execution_count": 32,
      "metadata": {
        "id": "Q-bmSdC3lWJB"
      },
      "outputs": [],
      "source": [
        "class Osoba:\n",
        "    def __init__(self, name):\n",
        "        self.__name = name\n",
        "\n",
        "    @property\n",
        "    def name(self):\n",
        "        return(self.__name)\n",
        "\n",
        "    @name.setter\n",
        "    def name(self, name):\n",
        "        self.__name = name"
      ]
    },
    {
      "cell_type": "code",
      "execution_count": 33,
      "metadata": {
        "colab": {
          "base_uri": "https://localhost:8080/"
        },
        "id": "HVa4e3mWlWJB",
        "outputId": "878e6a86-483e-4137-ce12-f1f9e37c1d1c"
      },
      "outputs": [
        {
          "output_type": "stream",
          "name": "stdout",
          "text": [
            "Adam \n"
          ]
        }
      ],
      "source": [
        "a = Osoba('Adam')\n",
        "b = Osoba('')\n",
        "print(a.name, b.name)"
      ]
    },
    {
      "cell_type": "code",
      "execution_count": 34,
      "metadata": {
        "colab": {
          "base_uri": "https://localhost:8080/"
        },
        "id": "Sb1MS9BNlWJB",
        "outputId": "f1d7f59d-41db-4d7c-9267-491ae4e013cc"
      },
      "outputs": [
        {
          "output_type": "stream",
          "name": "stdout",
          "text": [
            "Adam Basia\n"
          ]
        }
      ],
      "source": [
        "b.name = 'Basia'\n",
        "print(a.name, b.name)"
      ]
    },
    {
      "cell_type": "markdown",
      "metadata": {
        "deletable": false,
        "editable": false,
        "nbgrader": {
          "cell_type": "markdown",
          "checksum": "5ce8ae9f4dc01ef8bac45e693b93c195",
          "grade": false,
          "grade_id": "cell-328153119659cf60",
          "locked": true,
          "schema_version": 3,
          "solution": false,
          "task": false
        },
        "id": "peFHpUUulWJB"
      },
      "source": [
        "#### Dekorator `@staticmethod`  i `@classmethod`\n",
        "- pozwalają wywołać funkcję z klasy bez dostępu do konkretnej instancji.\n",
        "-__Metoda statyczna__ to metoda utworzona wewnątrz klasy, która nie operuje na konkretnej instancji klasy. Nie posiadają one argumentu `self`, lecz opatrzone są dekoratorem `@staticmethod`.\n",
        "- Statyczną metodę można wywołać zarówno przy pomocy nazwy klasy, jak i jej obiektu, ale w obu przypadkach rezultat będzie ten sam. Technicznie jest to bowiem zwyczajna funkcja umieszczona po prostu w zasięgu klasy zamiast w zasięgu globalnym.\n",
        "\n",
        "- __Metoda klasy__ to metoda utworzona wewnątrz klasy, która wywoływana jest na rzecz całej klasy i przyjmuje ową klasę jako swój pierwszy argument (argument ten jest często nazywany `cls` (lub `klass`)), opatrzona jest dekoratorem `@classmethod`. Często wykorzystywane np. do tworzenia dodatkowych konstruktorów.\n",
        "- Podobnie jak metody statyczne, można je wywoływać na dwa sposoby – przy pomocy klasy lub obiektu – ale w obu przypadkach do `cls` trafi wyłącznie klasa."
      ]
    },
    {
      "cell_type": "code",
      "execution_count": 35,
      "metadata": {
        "id": "5guAYYVWlWJB"
      },
      "outputs": [],
      "source": [
        "class Osoba:\n",
        "    def __init__(self, name):\n",
        "        self.name = name\n",
        "\n",
        "    @staticmethod\n",
        "    def przywitanie():\n",
        "        print('Witaj!!!')"
      ]
    },
    {
      "cell_type": "code",
      "execution_count": 36,
      "metadata": {
        "colab": {
          "base_uri": "https://localhost:8080/"
        },
        "id": "3zb5OvzplWJB",
        "outputId": "d03af670-82ca-431c-f349-c09014f1eb70"
      },
      "outputs": [
        {
          "output_type": "stream",
          "name": "stdout",
          "text": [
            "Witaj!!!\n",
            "Witaj!!!\n"
          ]
        }
      ],
      "source": [
        "o = Osoba('Adam')\n",
        "o.przywitanie()\n",
        "Osoba.przywitanie()"
      ]
    },
    {
      "cell_type": "code",
      "execution_count": 37,
      "metadata": {
        "id": "Ms4zobp_lWJC"
      },
      "outputs": [],
      "source": [
        "class Osoba:\n",
        "    def __init__(self, name):\n",
        "        self.name = name\n",
        "\n",
        "    @classmethod\n",
        "    def empty(cls):\n",
        "        return(cls(''))"
      ]
    },
    {
      "cell_type": "code",
      "execution_count": 38,
      "metadata": {
        "colab": {
          "base_uri": "https://localhost:8080/"
        },
        "id": "CAN6fKb1lWJC",
        "outputId": "3e746830-2659-48b5-dc4f-6248cd17b0b4"
      },
      "outputs": [
        {
          "output_type": "execute_result",
          "data": {
            "text/plain": [
              "('Adam', '', '')"
            ]
          },
          "metadata": {},
          "execution_count": 38
        }
      ],
      "source": [
        "x = Osoba('Adam')\n",
        "y = x.empty()\n",
        "z = Osoba.empty()\n",
        "x.name, y.name, z.name"
      ]
    },
    {
      "cell_type": "markdown",
      "metadata": {
        "deletable": false,
        "editable": false,
        "nbgrader": {
          "cell_type": "markdown",
          "checksum": "82eacebee107a7d874ad34ff852e0b55",
          "grade": false,
          "grade_id": "cell-b1074664c1789a10",
          "locked": true,
          "schema_version": 3,
          "solution": false,
          "task": false
        },
        "id": "qGgxOTW9lWJC"
      },
      "source": [
        "### Dekoratory definiowane jako klasy.\n",
        "\n",
        "- dekorator to obiekt, który można wywołać jak funkcję;\n",
        "- dla klas należy zdefiniować metodę `__call__()` (oraz `__init__()`), jej dodanie pozwala użyć obiekt danej klasy jak funkcji (z argumentami);\n",
        "- operacja wywołania dokonana na klasie powoduje stworzenie nowego obiektu i wywołanie `__init__()`;\n",
        "- natomiast operacja wywołania dokonana na obiekcie powoduje wywołanie `__call__()`."
      ]
    },
    {
      "cell_type": "code",
      "execution_count": 39,
      "metadata": {
        "id": "uPcdMHJWlWJC"
      },
      "outputs": [],
      "source": [
        "class MY_POINT:\n",
        "    def __init__(self, x,y):\n",
        "        print('init')\n",
        "        self.x = x\n",
        "        self.y = y\n",
        "\n",
        "    def __call__(self, *args, **kwargs):\n",
        "        print('call')\n",
        "        print(\"Jestem Punktem ({},{})\".format(self.x, self.y),'\\notrzymałem: ', *args)"
      ]
    },
    {
      "cell_type": "code",
      "execution_count": 40,
      "metadata": {
        "colab": {
          "base_uri": "https://localhost:8080/"
        },
        "id": "C5TYq1WHlWJC",
        "outputId": "ee2dd680-fc90-44d4-a2b0-627e14f9a38c"
      },
      "outputs": [
        {
          "output_type": "stream",
          "name": "stdout",
          "text": [
            "init\n",
            "call\n",
            "Jestem Punktem (1,1) \n",
            "otrzymałem:  a b c\n"
          ]
        }
      ],
      "source": [
        "a = MY_POINT(1,1) # operacja wywołania dokonana na klasie\n",
        "a('a','b','c')    # operacja wywołania dokonana na obiekcie"
      ]
    },
    {
      "cell_type": "markdown",
      "metadata": {
        "deletable": false,
        "editable": false,
        "nbgrader": {
          "cell_type": "markdown",
          "checksum": "1b15171f7f274c52981e6babe890f8da",
          "grade": false,
          "grade_id": "cell-fdeaec3754cafded",
          "locked": true,
          "schema_version": 3,
          "solution": false,
          "task": false
        },
        "id": "WicQAKqglWJC"
      },
      "source": [
        "Napisz dekorator `my_decorator` jako klasę.\n",
        "\n",
        "```python\n",
        "def my_decorator(f):\n",
        "    def wrapper(*args, **kargs):\n",
        "        print('Wywołanie opakowania')\n",
        "        return f(*args, **kargs)\n",
        "    return wrapper\n",
        "\n",
        "@my_decorator\n",
        "def przyklad():\n",
        "    \"\"\"Docstring\"\"\"\n",
        "    print('Wywołanie przykładowej funkcji')\n",
        "```\n"
      ]
    },
    {
      "cell_type": "code",
      "execution_count": 41,
      "metadata": {
        "id": "MjSeRwRVlWJD"
      },
      "outputs": [],
      "source": [
        "class my_decorator:\n",
        "    def __init__(self, f):\n",
        "        self.f = f\n",
        "\n",
        "    def __call__(self, *args, **kargs):\n",
        "        print('Wywołanie opakowania')\n",
        "        return self.f(*args, **kargs)\n",
        "\n",
        "@my_decorator\n",
        "def przyklad():\n",
        "    \"\"\"Docstring\"\"\"\n",
        "    print('Wywołanie przykładowej funkcji')"
      ]
    },
    {
      "cell_type": "code",
      "execution_count": 42,
      "metadata": {
        "colab": {
          "base_uri": "https://localhost:8080/"
        },
        "id": "X62zM7h6lWJD",
        "outputId": "ca203a5c-2f85-4be9-a4bb-a69b5838dc31"
      },
      "outputs": [
        {
          "output_type": "stream",
          "name": "stdout",
          "text": [
            "Wywołanie opakowania\n",
            "Wywołanie przykładowej funkcji\n"
          ]
        }
      ],
      "source": [
        "przyklad()"
      ]
    },
    {
      "cell_type": "markdown",
      "metadata": {
        "deletable": false,
        "editable": false,
        "nbgrader": {
          "cell_type": "markdown",
          "checksum": "08e949a050b3a7c38e768d1a4b787ae6",
          "grade": false,
          "grade_id": "cell-3feab9bcc0df6962",
          "locked": true,
          "schema_version": 3,
          "solution": false,
          "task": false
        },
        "id": "-c6dbEBklWJD"
      },
      "source": [
        "## Zadanie 1.\n",
        "\n",
        "Napisz klasę `Wielblad` posiadającą pola opisujące liczbę garbów oraz wysokość wielbłąda, których wartości przesyłane są jako argument konstruktora. Przeładuj operatory `<`, `>` oraz `==` (metody `__lt__`, `__gt__` oraz `__eq__`) tak, aby porównywały wielbłądy. Za większego uznajemy wielbłąda wyższego, a jeśli porównywane osobniki są tego samego wzrostu, to z większą liczbą garbów.\n",
        "\n",
        "https://docs.python.org/3/reference/datamodel.html#object.__lt__"
      ]
    },
    {
      "cell_type": "code",
      "execution_count": 44,
      "metadata": {
        "deletable": false,
        "nbgrader": {
          "cell_type": "code",
          "checksum": "be5cd90768fb893637d4dc0df002baad",
          "grade": true,
          "grade_id": "cell-2b08afa4d80495b9",
          "locked": false,
          "points": 1,
          "schema_version": 3,
          "solution": true,
          "task": false
        },
        "colab": {
          "base_uri": "https://localhost:8080/"
        },
        "id": "diD2TdWElWJD",
        "outputId": "44fd3655-a52f-41ff-9da9-07534348a982"
      },
      "outputs": [
        {
          "output_type": "stream",
          "name": "stdout",
          "text": [
            "True\n",
            "True\n",
            "True\n"
          ]
        }
      ],
      "source": [
        "class Wielblad:\n",
        "    def __init__(self, liczba_garbow, wysokosc):\n",
        "        self.liczba_garbow = liczba_garbow\n",
        "        self.wysokosc = wysokosc\n",
        "\n",
        "    def __lt__(self, other):\n",
        "        if self.wysokosc < other.wysokosc:\n",
        "            return True\n",
        "        elif self.wysokosc == other.wysokosc:\n",
        "            return self.liczba_garbow < other.liczba_garbow\n",
        "        else:\n",
        "            return False\n",
        "\n",
        "    def __gt__(self, other):\n",
        "        if self.wysokosc > other.wysokosc:\n",
        "            return True\n",
        "        elif self.wysokosc == other.wysokosc:\n",
        "            return self.liczba_garbow > other.liczba_garbow\n",
        "        else:\n",
        "            return False\n",
        "\n",
        "    def __eq__(self, other):\n",
        "        return self.wysokosc == other.wysokosc and self.liczba_garbow == other.liczba_garbow\n",
        "\n",
        "# Przykładowe użycie:\n",
        "if __name__ == \"__main__\":\n",
        "    wielblad1 = Wielblad(2, 180)\n",
        "    wielblad2 = Wielblad(1, 200)\n",
        "    wielblad3 = Wielblad(2, 180)\n",
        "\n",
        "    print(wielblad1 < wielblad2)  # True, bo wielblad1 ma mniej garbów i jest niższy\n",
        "    print(wielblad2 > wielblad3)  # True, bo wielblad2 ma więcej garbów i jest wyższy\n",
        "    print(wielblad1 == wielblad3)  # True, bo wielblad1 i wielblad3 mają taką samą wysokość i liczbę garbów\n"
      ]
    },
    {
      "cell_type": "markdown",
      "metadata": {
        "deletable": false,
        "editable": false,
        "nbgrader": {
          "cell_type": "markdown",
          "checksum": "bf0dafc75a346f2450ee2410831b87ec",
          "grade": false,
          "grade_id": "cell-824d504d547a710c",
          "locked": true,
          "schema_version": 3,
          "solution": false,
          "task": false
        },
        "id": "DMvU0xUslWJD"
      },
      "source": [
        "## Zadanie 2.\n",
        "\n",
        "Do klasy `Wielblad` dodaj metodę `__bool__` zwracającą prawdę, jeśli wielbłąd ma więcej niż 1 garb.\n",
        "\n",
        "https://docs.python.org/3/reference/datamodel.html#object.__bool__"
      ]
    },
    {
      "cell_type": "code",
      "execution_count": 45,
      "metadata": {
        "deletable": false,
        "nbgrader": {
          "cell_type": "code",
          "checksum": "5ac0ab6c0d5eb622ae56768d1b7c2c62",
          "grade": true,
          "grade_id": "cell-73d80a87588cc68e",
          "locked": false,
          "points": 1,
          "schema_version": 3,
          "solution": true,
          "task": false
        },
        "colab": {
          "base_uri": "https://localhost:8080/"
        },
        "id": "qwRYYY_XlWJD",
        "outputId": "43b82fa4-bb3f-40f7-966b-082fa6fb9d8d"
      },
      "outputs": [
        {
          "output_type": "stream",
          "name": "stdout",
          "text": [
            "True\n",
            "False\n"
          ]
        }
      ],
      "source": [
        "class Wielblad:\n",
        "    def __init__(self, liczba_garbow, wysokosc):\n",
        "        self.liczba_garbow = liczba_garbow\n",
        "        self.wysokosc = wysokosc\n",
        "\n",
        "    def __lt__(self, other):\n",
        "        if self.wysokosc < other.wysokosc:\n",
        "            return True\n",
        "        elif self.wysokosc == other.wysokosc:\n",
        "            return self.liczba_garbow < other.liczba_garbow\n",
        "        else:\n",
        "            return False\n",
        "\n",
        "    def __gt__(self, other):\n",
        "        if self.wysokosc > other.wysokosc:\n",
        "            return True\n",
        "        elif self.wysokosc == other.wysokosc:\n",
        "            return self.liczba_garbow > other.liczba_garbow\n",
        "        else:\n",
        "            return False\n",
        "\n",
        "    def __eq__(self, other):\n",
        "        return self.wysokosc == other.wysokosc and self.liczba_garbow == other.liczba_garbow\n",
        "\n",
        "    def __bool__(self):\n",
        "        return self.liczba_garbow > 1\n",
        "\n",
        "# Przykładowe użycie:\n",
        "if __name__ == \"__main__\":\n",
        "    wielblad1 = Wielblad(2, 180)\n",
        "    wielblad2 = Wielblad(1, 200)\n",
        "\n",
        "    print(bool(wielblad1))  # True, bo wielblad1 ma więcej niż 1 garb\n",
        "    print(bool(wielblad2))  # False, bo wielblad2 ma tylko 1 garb\n"
      ]
    },
    {
      "cell_type": "markdown",
      "metadata": {
        "deletable": false,
        "editable": false,
        "nbgrader": {
          "cell_type": "markdown",
          "checksum": "e15564b317728e610a544340561a7bae",
          "grade": false,
          "grade_id": "cell-e0253968897f60d9",
          "locked": true,
          "schema_version": 3,
          "solution": false,
          "task": false
        },
        "id": "q8AkD1LalWJE"
      },
      "source": [
        "## Zadanie 3.\n",
        "\n",
        "Napisz klasę `Sluzacy` zawierającą metodę `__call__`, wypisującą tekst \"Tak, panie?\". Utwórz obiekt klasy `Sluzacy`, przypisz go do zmiennej o nazwie `marian` i wywołaj ją tak, jakby była funkcją.\n",
        "\n",
        "https://docs.python.org/3/reference/datamodel.html#emulating-callable-objects"
      ]
    },
    {
      "cell_type": "code",
      "execution_count": 46,
      "metadata": {
        "deletable": false,
        "nbgrader": {
          "cell_type": "code",
          "checksum": "08d3026e9f310fd96e63c0079d124c38",
          "grade": true,
          "grade_id": "cell-52694a0ea51fcfb5",
          "locked": false,
          "points": 1,
          "schema_version": 3,
          "solution": true,
          "task": false
        },
        "colab": {
          "base_uri": "https://localhost:8080/"
        },
        "id": "gNBeh5-LlWJE",
        "outputId": "d7ed3efa-8014-4b55-8066-bcdcccd5667e"
      },
      "outputs": [
        {
          "output_type": "stream",
          "name": "stdout",
          "text": [
            "Tak, panie?\n"
          ]
        }
      ],
      "source": [
        "class Sluzacy:\n",
        "    def __call__(self):\n",
        "        print(\"Tak, panie?\")\n",
        "\n",
        "# Tworzymy obiekt klasy Sluzacy\n",
        "marian = Sluzacy()\n",
        "\n",
        "# Wywołujemy obiekt marian jak funkcję\n",
        "marian()\n"
      ]
    },
    {
      "cell_type": "markdown",
      "metadata": {
        "deletable": false,
        "editable": false,
        "nbgrader": {
          "cell_type": "markdown",
          "checksum": "f748a559875963a162d739ab3ea0e149",
          "grade": false,
          "grade_id": "cell-04103807777c217e",
          "locked": true,
          "schema_version": 3,
          "solution": false,
          "task": false
        },
        "id": "yTVegxL8lWJE"
      },
      "source": [
        "## Zadanie 4.\n",
        "\n",
        "Napisz klasę `OgraniczonaLiczba`, zawierająca pole z wartością liczbową oraz przeładowane operatory dodawania, odejmowania i mnożenia. Operatory powinny wykonywać zwykłe operacje na przechowywanej wartości, wynik ograniczając do zakresu od -128 do 127.\n",
        "\n",
        "https://docs.python.org/3/reference/datamodel.html#emulating-numeric-types"
      ]
    },
    {
      "cell_type": "code",
      "execution_count": 47,
      "metadata": {
        "deletable": false,
        "nbgrader": {
          "cell_type": "code",
          "checksum": "15a44ba1c0301ab39babd336f0bf43e5",
          "grade": true,
          "grade_id": "cell-2f528ead4ab3d8e4",
          "locked": false,
          "points": 1,
          "schema_version": 3,
          "solution": true,
          "task": false
        },
        "colab": {
          "base_uri": "https://localhost:8080/"
        },
        "id": "oey_CZAtlWJE",
        "outputId": "166c3d14-1c79-4672-d5f7-3a35f3db662a"
      },
      "outputs": [
        {
          "output_type": "stream",
          "name": "stdout",
          "text": [
            "127\n",
            "-128\n",
            "127\n"
          ]
        }
      ],
      "source": [
        "class OgraniczonaLiczba:\n",
        "    def __init__(self, value):\n",
        "        self.value = value\n",
        "\n",
        "    def __add__(self, other):\n",
        "        result = self.value + other\n",
        "        return OgraniczonaLiczba(max(-128, min(result, 127)))\n",
        "\n",
        "    def __radd__(self, other):\n",
        "        return self.__add__(other)\n",
        "\n",
        "    def __sub__(self, other):\n",
        "        result = self.value - other\n",
        "        return OgraniczonaLiczba(max(-128, min(result, 127)))\n",
        "\n",
        "    def __rsub__(self, other):\n",
        "        return self.__sub__(other)\n",
        "\n",
        "    def __mul__(self, other):\n",
        "        result = self.value * other\n",
        "        return OgraniczonaLiczba(max(-128, min(result, 127)))\n",
        "\n",
        "    def __rmul__(self, other):\n",
        "        return self.__mul__(other)\n",
        "\n",
        "    def __str__(self):\n",
        "        return str(self.value)\n",
        "\n",
        "# Przykładowe użycie:\n",
        "if __name__ == \"__main__\":\n",
        "    liczba1 = OgraniczonaLiczba(100)\n",
        "    liczba2 = OgraniczonaLiczba(-50)\n",
        "\n",
        "    print(liczba1 + 50)  # Powinno wypisać: 127, bo 100 + 50 = 150, ale jest ograniczone do 127\n",
        "    print(liczba2 - 80)  # Powinno wypisać: -128, bo -50 - 80 = -130, ale jest ograniczone do -128\n",
        "    print(liczba1 * 3)   # Powinno wypisać: 127, bo 100 * 3 = 300, ale jest ograniczone do 127\n"
      ]
    },
    {
      "cell_type": "markdown",
      "metadata": {
        "deletable": false,
        "editable": false,
        "nbgrader": {
          "cell_type": "markdown",
          "checksum": "53358e2f19ba9b6b50ee3985ec927b99",
          "grade": false,
          "grade_id": "cell-f54e6801ed9672e6",
          "locked": true,
          "schema_version": 3,
          "solution": false,
          "task": false
        },
        "id": "JTFeEuYrlWJE"
      },
      "source": [
        "## Zadanie 5.\n",
        "\n",
        "Napisz funkcję `fibonacci`, która rekurencyjnie wyznacza n-ty wyraz ciągu Fibonacciego.\n",
        "Napisz dekorator dla funkcji `fibonacci` o nazwie `zapamietaj`, który modyfikuje funkcje spamiętując jej wartości (słownik - `n-ty wyraz : odpowiadająca wartość z ciągu`). Porównaj czas działania rekurencyjnej implementacji liczenia wyrazów ciągu Fibonacciego ze spamiętywaniem (z użyciem napisanego dekoratora) i bez.\n",
        "\n",
        "https://realpython.com/primer-on-python-decorators/\n",
        "\n",
        "Pomiar czasu:\n",
        "\n",
        "https://docs.python.org/3/library/timeit.html"
      ]
    },
    {
      "cell_type": "code",
      "execution_count": 48,
      "metadata": {
        "deletable": false,
        "nbgrader": {
          "cell_type": "code",
          "checksum": "3a9006327ed9fcb3d072c2832166b1b6",
          "grade": true,
          "grade_id": "cell-41b622b55fcf0fbb",
          "locked": false,
          "points": 1,
          "schema_version": 3,
          "solution": true,
          "task": false
        },
        "colab": {
          "base_uri": "https://localhost:8080/"
        },
        "id": "k7mQMXpqlWJE",
        "outputId": "8e9f0a36-b88d-4d04-a5a4-793c9162ff42"
      },
      "outputs": [
        {
          "output_type": "stream",
          "name": "stdout",
          "text": [
            "Rekurencyjne fibonacci(35) wynosi: 9227465\n",
            "Czas wykonania: 3.9947354793548584 sekund\n",
            "Rekurencyjne fibonacci(35) z dekoratorem wynosi: 9227465\n",
            "Czas wykonania z dekoratorem: 0.0001068115234375 sekund\n",
            "Rekurencyjne fibonacci(35) wynosi: 9227465\n",
            "Czas wykonania bez dekoratora: 5.53131103515625e-05 sekund\n",
            "Rekurencyjne fibonacci(35) z dekoratorem wynosi: 9227465\n",
            "Czas wykonania z dekoratorem: 5.054473876953125e-05 sekund\n"
          ]
        }
      ],
      "source": [
        "import time\n",
        "\n",
        "def fibonacci(n):\n",
        "    if n <= 1:\n",
        "        return n\n",
        "    else:\n",
        "        return fibonacci(n-1) + fibonacci(n-2)\n",
        "\n",
        "# Przykładowe użycie:\n",
        "n = 35\n",
        "\n",
        "start = time.time()\n",
        "fib_result = fibonacci(n)\n",
        "end = time.time()\n",
        "\n",
        "print(f\"Rekurencyjne fibonacci({n}) wynosi: {fib_result}\")\n",
        "print(f\"Czas wykonania: {end - start} sekund\")\n",
        "\n",
        "def zapamietaj(f):\n",
        "    cache = {}\n",
        "    def wrapped(n):\n",
        "        if n not in cache:\n",
        "            cache[n] = f(n)\n",
        "        return cache[n]\n",
        "    return wrapped\n",
        "\n",
        "# Dekorujemy funkcję fibonacci za pomocą dekoratora zapamietaj\n",
        "fibonacci = zapamietaj(fibonacci)\n",
        "\n",
        "# Ponowne użycie funkcji fibonacci po zastosowaniu dekoratora\n",
        "\n",
        "start_cached = time.time()\n",
        "fib_result_cached = fibonacci(n)\n",
        "end_cached = time.time()\n",
        "\n",
        "print(f\"Rekurencyjne fibonacci({n}) z dekoratorem wynosi: {fib_result_cached}\")\n",
        "print(f\"Czas wykonania z dekoratorem: {end_cached - start_cached} sekund\")\n",
        "\n",
        "n = 35\n",
        "\n",
        "# Bez dekoratora\n",
        "start = time.time()\n",
        "fib_result = fibonacci(n)\n",
        "end = time.time()\n",
        "\n",
        "print(f\"Rekurencyjne fibonacci({n}) wynosi: {fib_result}\")\n",
        "print(f\"Czas wykonania bez dekoratora: {end - start} sekund\")\n",
        "\n",
        "# Z dekoratorem\n",
        "start_cached = time.time()\n",
        "fib_result_cached = fibonacci(n)\n",
        "end_cached = time.time()\n",
        "\n",
        "print(f\"Rekurencyjne fibonacci({n}) z dekoratorem wynosi: {fib_result_cached}\")\n",
        "print(f\"Czas wykonania z dekoratorem: {end_cached - start_cached} sekund\")\n"
      ]
    },
    {
      "cell_type": "markdown",
      "metadata": {
        "deletable": false,
        "editable": false,
        "nbgrader": {
          "cell_type": "markdown",
          "checksum": "8caf599bddab1a2a57b064c2f6626bff",
          "grade": false,
          "grade_id": "cell-5bdc91055932ea5e",
          "locked": true,
          "schema_version": 3,
          "solution": false,
          "task": false
        },
        "id": "hNUHJ64ElWJE"
      },
      "source": [
        "## Zadanie 6.\n",
        "\n",
        "Napisz dekorator dla funkcji o nazwie `zapamietajTroche` którego pamięć na wartości funkcji jest ograniczona do podanej jako argument liczby wpisów. W momencie przepełnienia najstarsze wpisy powinny być usuwane."
      ]
    },
    {
      "cell_type": "code",
      "execution_count": 49,
      "metadata": {
        "deletable": false,
        "nbgrader": {
          "cell_type": "code",
          "checksum": "d0e34c33c67614be81c6f6c7bea729f9",
          "grade": true,
          "grade_id": "cell-0cbdf2bf7c4b41fa",
          "locked": false,
          "points": 1,
          "schema_version": 3,
          "solution": true,
          "task": false
        },
        "colab": {
          "base_uri": "https://localhost:8080/"
        },
        "id": "uRwRtRoElWJF",
        "outputId": "be1df91d-4e86-43d4-f0e9-0c82a21ceeca"
      },
      "outputs": [
        {
          "output_type": "stream",
          "name": "stdout",
          "text": [
            "Fibonacci(0) = 0, czas wykonania: 0.000010 s\n",
            "Fibonacci(1) = 1, czas wykonania: 0.000013 s\n",
            "Fibonacci(2) = 1, czas wykonania: 0.000016 s\n",
            "Fibonacci(3) = 2, czas wykonania: 0.000019 s\n",
            "Fibonacci(4) = 3, czas wykonania: 0.000018 s\n",
            "Fibonacci(5) = 5, czas wykonania: 0.000018 s\n",
            "Fibonacci(6) = 8, czas wykonania: 0.000018 s\n",
            "Fibonacci(7) = 13, czas wykonania: 0.000014 s\n",
            "Fibonacci(8) = 21, czas wykonania: 0.000013 s\n",
            "Fibonacci(9) = 34, czas wykonania: 0.000017 s\n"
          ]
        }
      ],
      "source": [
        "import functools\n",
        "import time\n",
        "\n",
        "def zapamietajTroche(max_entries):\n",
        "    def decorator(func):\n",
        "        cache = {}\n",
        "\n",
        "        @functools.wraps(func)\n",
        "        def wrapped(*args, **kwargs):\n",
        "            key = (args, frozenset(kwargs.items()))\n",
        "            if key in cache:\n",
        "                return cache[key]['value']\n",
        "            else:\n",
        "                result = func(*args, **kwargs)\n",
        "                cache[key] = {'value': result, 'timestamp': time.time()}\n",
        "\n",
        "                # Usuwanie najstarszych wpisów po przekroczeniu limitu\n",
        "                if len(cache) > max_entries:\n",
        "                    oldest_key = min(cache, key=lambda k: cache[k]['timestamp'])\n",
        "                    del cache[oldest_key]\n",
        "\n",
        "                return result\n",
        "\n",
        "        return wrapped\n",
        "    return decorator\n",
        "\n",
        "# Przykład użycia:\n",
        "@zapamietajTroche(max_entries=3)\n",
        "def fibonacci(n):\n",
        "    if n <= 1:\n",
        "        return n\n",
        "    else:\n",
        "        return fibonacci(n-1) + fibonacci(n-2)\n",
        "\n",
        "# Przykładowe wywołania:\n",
        "n = 10\n",
        "for i in range(n):\n",
        "    start = time.time()\n",
        "    fib_result = fibonacci(i)\n",
        "    end = time.time()\n",
        "    print(f\"Fibonacci({i}) = {fib_result}, czas wykonania: {end - start:.6f} s\")\n"
      ]
    },
    {
      "cell_type": "code",
      "execution_count": null,
      "metadata": {
        "id": "iKxZ-3T9lWJF"
      },
      "outputs": [],
      "source": []
    }
  ],
  "metadata": {
    "kernelspec": {
      "display_name": "Python 3 (ipykernel)",
      "language": "python",
      "name": "python3"
    },
    "language_info": {
      "codemirror_mode": {
        "name": "ipython",
        "version": 3
      },
      "file_extension": ".py",
      "mimetype": "text/x-python",
      "name": "python",
      "nbconvert_exporter": "python",
      "pygments_lexer": "ipython3",
      "version": "3.9.7"
    },
    "colab": {
      "provenance": []
    }
  },
  "nbformat": 4,
  "nbformat_minor": 0
}