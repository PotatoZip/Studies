{
  "cells": [
    {
      "cell_type": "markdown",
      "source": [
        "## Zadanie\n",
        "z d1 usuń elementy których klucze nie zawierają żadnej cyfry z Twojego nr indeksu\n",
        "a ich wartości nie zawierają żadnej litery z Twojego imienia ani nazwiska\n",
        "i utwórz z nich nowy słownik d2\n",
        "\n",
        "utwórz zbiór z1 zawierający wszystkie cyfry wystąpujące w kluczach d2\n",
        "oraz litery występujące w wartościach d2\n",
        "\n",
        "zwróć liczebność zbioru z1 jako w1\n"
      ],
      "metadata": {
        "collapsed": false,
        "id": "e999df4355d36e7a"
      },
      "id": "e999df4355d36e7a"
    },
    {
      "cell_type": "code",
      "outputs": [
        {
          "output_type": "stream",
          "name": "stdout",
          "text": [
            "w1 = 19\n"
          ]
        }
      ],
      "source": [
        "nr_indeksu, imie, nazwisko = '142706', 'Wiktor', 'Zmiendak'\n",
        "\n",
        "d1 = {'224': 'weer', '213': 'asgfd', '234': 'asdf', '233': 'ads'}\n",
        "d1[(0, 1, 2)] = 'jeden'\n",
        "d1[(1, 2, 3)] = 'dwa'\n",
        "d1[(1, 2, 4)] = ['a', 'b', 'p']\n",
        "d1[tuple([1, 2, 3, '5'])] = set(['a', 'b', 'c', 'e', 's', 'e', 'c', 'a'])\n",
        "\n",
        "d2 = {}\n",
        "\n",
        "for key, value in d1.items():\n",
        "    if any(digit in str(key) for digit in str(nr_indeksu)):\n",
        "        if any(letter.lower() in str(value).lower() for letter in imie + nazwisko):\n",
        "            d2[key] = value\n",
        "\n",
        "z1 = set()\n",
        "\n",
        "for key, value in d2.items():\n",
        "    z1.update(set(c for c in str(key) if c.isdigit()))\n",
        "    z1.update(set(c for c in str(value) if c.isalpha()))\n",
        "\n",
        "\n",
        "w1 = len(z1)\n",
        "\n",
        "print(f\"w1 = {w1}\")"
      ],
      "metadata": {
        "colab": {
          "base_uri": "https://localhost:8080/"
        },
        "id": "dc39d271d1108ec3",
        "outputId": "8499b8c5-f127-49d6-e6a4-ef4ccde0bb6a"
      },
      "id": "dc39d271d1108ec3",
      "execution_count": 11
    },
    {
      "cell_type": "code",
      "outputs": [],
      "source": [
        "print(f'lab6a___w1_{w1}.ipynb')"
      ],
      "metadata": {
        "id": "433f570e2b0d7b76"
      },
      "id": "433f570e2b0d7b76",
      "execution_count": null
    }
  ],
  "metadata": {
    "kernelspec": {
      "display_name": "Python 3",
      "language": "python",
      "name": "python3"
    },
    "language_info": {
      "codemirror_mode": {
        "name": "ipython",
        "version": 2
      },
      "file_extension": ".py",
      "mimetype": "text/x-python",
      "name": "python",
      "nbconvert_exporter": "python",
      "pygments_lexer": "ipython2",
      "version": "2.7.6"
    },
    "colab": {
      "provenance": []
    }
  },
  "nbformat": 4,
  "nbformat_minor": 5
}