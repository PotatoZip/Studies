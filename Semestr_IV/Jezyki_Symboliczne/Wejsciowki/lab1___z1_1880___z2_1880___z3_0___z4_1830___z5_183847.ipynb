{
 "cells": [
  {
   "cell_type": "markdown",
   "id": "3247e1487b6b1f80",
   "metadata": {
    "collapsed": false
   },
   "source": [
    "### Uwagi wstępne: \n",
    "Na początku zainicjuj zmienne `album` (nr indexu), `imie`, `nazwisko`, `person` odpowiednimi wartościami (Twoje personalia). \n",
    "`person = str(album) + '_' + imie + '_' + nazwisko`\n",
    "\n",
    "W dajszej części tego notebooka wszelkie odwołania do tych zmiennych będą odwołaniami do tych wartości.\n",
    "\n",
    "Zaleca się co jakiś czas zapisywać (lub sprawdzić ustawienia autozapisu) wypełnianego notebooka aby \"niespodziewanie\" nie \"zniknął\" przed oddaniem.\n",
    "\n",
    "### Ocena:  \n",
    "Ocena będzie wystawiona na postawie nazwy zwracanego notebooka, dlatego proszę koniecznie zadbać o to aby była prawidłowa.\n",
    "Nazwę tą wygenerujecie Państwo na podstawie otrzymanych wyników.\n",
    "\n",
    "### Oddanie zadania:\n",
    "Notebooka z rozwiązaniem wysyłamy na Deltę nazywając go wg. wzoru zamieszczonego poniżej:\n",
    "*Nazwa zwracanego notebooka*  =  <font color=\"red\">labX___z1_w1___z2_w2___z3_w3___z4_w4___z5_w5.ipynb</font>\n",
    "\n",
    "gdzie:\n",
    "- labX - oznacza laboratorium którego dotyczy notebook np.: dla pierwszego laboratorium (X=1) to: lab1\n",
    "- z1, z2, z3, z4, z5 - identyfikują nr. zadań lub nazwy zmiennych których wartości mają być wyznaczone, z1, z2, z3, z4, z5 są zawsze w nazwie notebooka i nie zmieniamy tego\n",
    "- `w1`, `w2`, `w3`, `w4`, `w5` to wartości które należy wyznaczyć - mogą to być w przyszłości liczby lub stringi w zależności od zadań\n",
    "- oznaczenia: `_`: podkreślnik, `___`: trzy podkreślinki, `-` znak minus (w przypadku liczb ujemnych) \n",
    "- w przypadku gdy nie udało się znaleźć którejś z wartości nadaj jej wartość `null` (słownie)\n",
    "\n",
    "Nazwę można utworzyć korzystając z poniższego f-stringa (najlepiej skopiować poniższe):\n",
    "`nazwa_notebooka = f'lab{X}___z1_{w1}___z2_{w2}___z3_{w3}___z4_{w4}___z5_{w5}.ipynb'`\n",
    "\n",
    "*przykład kodu drukującego nazwę:*\n",
    "```\n",
    "X = 1\n",
    "w1 = \"Kłełełe\"\n",
    "w2 = 22\n",
    "w3 = -33\n",
    "w4 = '44'\n",
    "w5 = 'null'\n",
    "\n",
    "nazwa_notebooka = f'lab{X}___z1_{w1}___z2_{w2}___z3_{w3}___z4_{w4}___z5_{w5}.ipynb'\n",
    "print(f'nazwa_notebooka: {nazwa_notebooka}')\n",
    "\n",
    "Out:\n",
    "nazwa_notebooka: lab1___z1_Kłełełe___z2_22___z3_-33___z4_44___z5_null.ipynb\n",
    "```"
   ]
  },
  {
   "cell_type": "code",
   "execution_count": 51,
   "id": "f2891b979a44117d",
   "metadata": {
    "ExecuteTime": {
     "end_time": "2024-03-13T14:08:45.569222700Z",
     "start_time": "2024-03-13T14:08:45.566083400Z"
    },
    "collapsed": false
   },
   "outputs": [],
   "source": [
    "# podmień wartości poniższych zmiennych na Twoje personalia:\n",
    "\n",
    "album, imie, nazwisko = 99, 'Wiktor', 'Zmiendak'\n",
    "person = str(album) + '_' + imie + '_' + nazwisko\n"
   ]
  },
  {
   "cell_type": "markdown",
   "id": "e999df4355d36e7a",
   "metadata": {
    "collapsed": false
   },
   "source": [
    "## Zadanie\n",
    "\n",
    "Napisz program który utworzy następujęce stringi (każdy ze stringów ma być nowym stringiem na bazie jednego z wcześniejszych):\n",
    "\n",
    "`s1`: jest powtórzeniem `person` tyle razy ile wynosi wartość `album`, wszystkie słowa mają być rozdzielone znakiem `_`\n",
    "`s2`: \n",
    "- (na bazie `s1`) z `s1` wyeliminuj wszystkie samogłoski i w ich miejsce wstaw literę `X` (duże X), oraz\n",
    "- zamiast znaku `_` wstaw `|`, oraz\n",
    "- zamiast znaku następującego po `_` wstaw `Q` (duże Q)\n",
    "\n",
    "`s3`: zawiera liczbę wystąpień wszystkich znaków `Q` od połowy `s1` włącznie do końca `s1` (połowa to - liczba całkowita z połowy długości `s1`)\n",
    "`s4`: zamień `s2` na identyfikator w konwencji \"snake_case\" (zastąp duże litery małymi i znaki `|` (pionowa kreska) znakami `_` (podkreślnik))\n",
    "`s5`: string zawierający sumę wartości kodów ASCII wsztstkich znaków z `s1`\n",
    "\n",
    "**Nadaj odpowiednią nazwę temu notebookowi wyliczając `w1`, `w2`, `w3`, `w4`, `w5`, które mają być długością odpowiednio stringów `s1`, `s2`, `s3`, `s4`, `s5`**"
   ]
  },
  {
   "cell_type": "code",
   "execution_count": 53,
   "id": "53dd0de1283fdffb",
   "metadata": {
    "ExecuteTime": {
     "end_time": "2024-03-12T16:03:30.842443200Z",
     "start_time": "2024-03-12T16:03:30.825431600Z"
    },
    "collapsed": false
   },
   "outputs": [
    {
     "name": "stdout",
     "output_type": "stream",
     "text": [
      "1880\n",
      "1880\n",
      "0\n",
      "1880\n",
      "183847\n"
     ]
    }
   ],
   "source": [
    "# YOUR CODE HERE\n",
    "\n",
    "s1 = '_'.join([person] * album)\n",
    "samogloski = 'aeiouAEIOU'\n",
    "s2 = ''\n",
    "notChar = False\n",
    "for x in s1:\n",
    "    if notChar:\n",
    "        notChar = False\n",
    "        continue\n",
    "    if x in samogloski:\n",
    "        s2 += 'X'\n",
    "    elif x == '_':\n",
    "        s2 += '|'\n",
    "        s2 += 'Q'\n",
    "        notChar = True\n",
    "    else:\n",
    "        s2 += x\n",
    "halpLength = len(s1) // 2\n",
    "s3 = s1[halpLength:].count('Q')\n",
    "s4 = s2.lower().replace('|', '_')\n",
    "s5 = sum(ord(char) for char in s1)\n",
    "\n",
    "print(len(s1))\n",
    "print(len(s2))\n",
    "print(s3)\n",
    "print(len(s4))\n",
    "print(s5)"
   ]
  },
  {
   "cell_type": "code",
   "execution_count": null,
   "id": "be35d5f9",
   "metadata": {},
   "outputs": [],
   "source": []
  }
 ],
 "metadata": {
  "kernelspec": {
   "display_name": "Python 3",
   "language": "python",
   "name": "python3"
  },
  "language_info": {
   "codemirror_mode": {
    "name": "ipython",
    "version": 3
   },
   "file_extension": ".py",
   "mimetype": "text/x-python",
   "name": "python",
   "nbconvert_exporter": "python",
   "pygments_lexer": "ipython3",
   "version": "3.11.2"
  }
 },
 "nbformat": 4,
 "nbformat_minor": 5
}
