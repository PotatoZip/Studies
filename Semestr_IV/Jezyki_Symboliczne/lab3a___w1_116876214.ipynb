{
  "cells": [
    {
      "cell_type": "code",
      "outputs": [],
      "source": [
        "# Podmień wartości poniższych zmiennych na Twoje personalia.\n",
        "# Imie i Nazwisko proszę pisać z polskimi literami i zaczynać od dużej litery.\n",
        "nr_indeksu, imie, nazwisko = 142706, 'Wiktor', 'Zmiendak'"
      ],
      "metadata": {
        "id": "f2891b979a44117d"
      },
      "id": "f2891b979a44117d",
      "execution_count": 1
    },
    {
      "cell_type": "markdown",
      "source": [
        "## Zadanie\n",
        "Napisz funkcję `moja_funkcja(moja_wartosc)`, gdzie `moja_wartosc` jest parametrem wejściowym;\n",
        "\n",
        "`moja_funkcja` ma za zadanie zwrócić funkcję `lambda` która:\n",
        "- przyjmuje jako argument string `s1` i\n",
        "- sumuje wartości kodów `ASCII` liter z `s1` pomnożonych przez `moja_wartosc`. (kod każdej litery jest mnożony przez `moja_wartosc` i to wszystko zsumowane)\n",
        "\n",
        "Oblicz wartość `w1 = fn(nazwisko)` (Twoje nazwisko), gdzie `fn` to funkcja zwrócona przez `moja_funkcja` dla `moja_wartosc = nr_indeksu` (Twój nr_indeksu)\n",
        "\n",
        "przykład:\n",
        "```\n",
        "w1 = fn(nazwisko)\n",
        "w1: 539000\n",
        "```"
      ],
      "metadata": {
        "collapsed": false,
        "id": "e999df4355d36e7a"
      },
      "id": "e999df4355d36e7a"
    },
    {
      "cell_type": "code",
      "outputs": [],
      "source": [
        "# YOUR CODE HERE\n",
        "\n",
        "def moja_funkcja(moja_wartosc):\n",
        "  return lambda s1: sum(ord(c) * moja_wartosc for c in s1)\n"
      ],
      "metadata": {
        "id": "53dd0de1283fdffb"
      },
      "id": "53dd0de1283fdffb",
      "execution_count": 4
    },
    {
      "cell_type": "code",
      "outputs": [
        {
          "output_type": "stream",
          "name": "stdout",
          "text": [
            "lab3a___w1_116876214.ipynb\n"
          ]
        }
      ],
      "source": [
        "# przykład generowania zwracaanej nazwy tego notebooka\n",
        "# zamiast 999 wpisz obliczoną przez Ciebie wartość\n",
        "\n",
        "fn = moja_funkcja(nr_indeksu)\n",
        "w1 = fn(nazwisko)\n",
        "print(f'lab3a___w1_{w1}.ipynb')"
      ],
      "metadata": {
        "colab": {
          "base_uri": "https://localhost:8080/"
        },
        "id": "433f570e2b0d7b76",
        "outputId": "03b9b132-95b0-4e8a-e883-0dde6ed505a6"
      },
      "id": "433f570e2b0d7b76",
      "execution_count": 8
    },
    {
      "cell_type": "code",
      "source": [],
      "metadata": {
        "id": "UYP0o25Nr24N"
      },
      "id": "UYP0o25Nr24N",
      "execution_count": null,
      "outputs": []
    }
  ],
  "metadata": {
    "kernelspec": {
      "display_name": "Python 3",
      "language": "python",
      "name": "python3"
    },
    "language_info": {
      "codemirror_mode": {
        "name": "ipython",
        "version": 2
      },
      "file_extension": ".py",
      "mimetype": "text/x-python",
      "name": "python",
      "nbconvert_exporter": "python",
      "pygments_lexer": "ipython2",
      "version": "2.7.6"
    },
    "colab": {
      "provenance": []
    }
  },
  "nbformat": 4,
  "nbformat_minor": 5
}