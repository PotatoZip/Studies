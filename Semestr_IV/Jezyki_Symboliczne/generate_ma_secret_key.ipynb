{
 "cells": [
  {
   "cell_type": "markdown",
   "id": "e999df4355d36e7a",
   "metadata": {
    "collapsed": false
   },
   "source": [
    "### Generowanie indywidualnego klucza do rozkodowania pliku z wynikami test lab \n",
    "Proszę wygenerować plik z kluczem i przesłac zwrotnie w ramach tego zadania. \n",
    "\n",
    "Zwracamy tylko plik z kluczem o nazwie \"my_secret_key.dat\" a nie tego notebooka!\n",
    "\n",
    "Po tym jak Państwo wygenerujecie klucze pojawi się kolejna zakładka na Delcie gdzie będzie można znaleźć i rozkodować swoje odpowiedzi tymi kluczami, proszę zachować ostrożność i usunąć z dysku plik z Państwa kluczem po przesaniu jeśli nie pracujecie Państwo na swoim sprzęcie. Zawsze będzie można go sobie pobrać z tej zakładki"
   ]
  },
  {
   "cell_type": "code",
   "execution_count": null,
   "id": "53dd0de1283fdffb",
   "metadata": {
    "collapsed": false
   },
   "outputs": [],
   "source": [
    "from cryptography.fernet import Fernet\n",
    "\n",
    "my_secret_key = Fernet.generate_key()\n",
    "\n",
    "with open(\"my_secret_key.dat\", \"wb\") as f:\n",
    "    f.write(my_secret_key)\n",
    "    \n",
    "print(my_secret_key)"
   ]
  }
 ],
 "metadata": {
  "kernelspec": {
   "display_name": "Python 3",
   "language": "python",
   "name": "python3"
  },
  "language_info": {
   "codemirror_mode": {
    "name": "ipython",
    "version": 2
   },
   "file_extension": ".py",
   "mimetype": "text/x-python",
   "name": "python",
   "nbconvert_exporter": "python",
   "pygments_lexer": "ipython2",
   "version": "2.7.6"
  }
 },
 "nbformat": 4,
 "nbformat_minor": 5
}
