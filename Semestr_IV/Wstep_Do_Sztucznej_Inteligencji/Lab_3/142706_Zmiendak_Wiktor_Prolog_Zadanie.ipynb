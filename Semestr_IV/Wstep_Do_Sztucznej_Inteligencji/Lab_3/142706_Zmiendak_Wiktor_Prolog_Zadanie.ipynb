{
 "cells": [
  {
   "cell_type": "markdown",
   "metadata": {
    "id": "AMMXLENOd7V-"
   },
   "source": [
    "# Wstęp do Sztucznej Inteligencji - rok akademicki 2022/2023\n",
    "\n",
    "Przed rozpoczęciem pracy z notatnikiem zmień jego nazwę zgodnie z wzorem: `NrAlbumu_Nazwisko_Imie_PoprzedniaNazwa`.\n",
    "\n",
    "Przed wysłaniem notatnika upewnij się, że rozwiązałeś wszystkie zadania/ćwiczenia."
   ]
  },
  {
   "cell_type": "markdown",
   "metadata": {
    "id": "4ZZF68t-kiQ8"
   },
   "source": [
    "## Zadanie 1  (obowiązkowe, 10pkt.)\n",
    "\n",
    "### Aby wygenerować treść zadania wprowadź swój nr albumu i wykonaj poniższe komórki (Shift + Enter) "
   ]
  },
  {
   "cell_type": "code",
   "execution_count": null,
   "metadata": {
    "id": "1wWZXA_2tilS"
   },
   "outputs": [],
   "source": [
    "nr_albumu = '142706'"
   ]
  },
  {
   "cell_type": "code",
   "execution_count": null,
   "metadata": {
    "id": "cDbahmaQtvHm"
   },
   "outputs": [],
   "source": [
    "#import sys\n",
    "#from google.colab import drive\n",
    "#drive.mount('/content/drive')\n",
    "# upewniej się że poniższa ścieżka jest poprawna\n",
    "#path_nb = r'/content/drive/My Drive/Colab Notebooks/WdSI_2022/T1_Lab_Prolog/'\n",
    "#sys.path.append(path_nb)"
   ]
  },
  {
   "cell_type": "code",
   "execution_count": 1,
   "metadata": {
    "id": "xdA2ZUhKtvRO"
   },
   "outputs": [
    {
     "ename": "NameError",
     "evalue": "name 'nr_albumu' is not defined",
     "output_type": "error",
     "traceback": [
      "\u001b[1;31m---------------------------------------------------------------------------\u001b[0m",
      "\u001b[1;31mNameError\u001b[0m                                 Traceback (most recent call last)",
      "Cell \u001b[1;32mIn[1], line 6\u001b[0m\n\u001b[0;32m      4\u001b[0m \u001b[38;5;66;03m#zadania = pickle.load(open(path_nb+'zadania.pkl', 'rb'))\u001b[39;00m\n\u001b[0;32m      5\u001b[0m zadania \u001b[38;5;241m=\u001b[39m pickle\u001b[38;5;241m.\u001b[39mload(\u001b[38;5;28mopen\u001b[39m(\u001b[38;5;124m'\u001b[39m\u001b[38;5;124mzadania.pkl\u001b[39m\u001b[38;5;124m'\u001b[39m, \u001b[38;5;124m'\u001b[39m\u001b[38;5;124mrb\u001b[39m\u001b[38;5;124m'\u001b[39m))\n\u001b[1;32m----> 6\u001b[0m nr \u001b[38;5;241m=\u001b[39m \u001b[38;5;28mint\u001b[39m(\u001b[43mnr_albumu\u001b[49m) \u001b[38;5;241m%\u001b[39m \u001b[38;5;28mlen\u001b[39m(zadania)\n\u001b[0;32m      7\u001b[0m przyjaciele \u001b[38;5;241m=\u001b[39m zadania[nr][\u001b[38;5;124m'\u001b[39m\u001b[38;5;124mprzyjaciele\u001b[39m\u001b[38;5;124m'\u001b[39m]\n\u001b[0;32m      8\u001b[0m zwierzeta \u001b[38;5;241m=\u001b[39m zadania[nr][\u001b[38;5;124m'\u001b[39m\u001b[38;5;124mzwierzeta\u001b[39m\u001b[38;5;124m'\u001b[39m]\n",
      "\u001b[1;31mNameError\u001b[0m: name 'nr_albumu' is not defined"
     ]
    }
   ],
   "source": [
    "import pickle\n",
    "from IPython.display import HTML\n",
    "\n",
    "#zadania = pickle.load(open(path_nb+'zadania.pkl', 'rb'))\n",
    "zadania = pickle.load(open('zadania.pkl', 'rb'))\n",
    "nr = int(nr_albumu) % len(zadania)\n",
    "przyjaciele = zadania[nr]['przyjaciele']\n",
    "zwierzeta = zadania[nr]['zwierzeta']\n",
    "fakty = ['{}. {}'.format(i+1, s) for i,s in enumerate(zadania[nr]['fakty'])]\n",
    "\n",
    "tresc = \"\"\"<HTML><BODY><H3>Zadanie dla numeru albumu: {}.<br>Zadanie nr {}.</H3><br>\n",
    "Przyjaciele:<br>\n",
    "<b>{}</b> <br> mieszkają w jednym budynku, każdy na innym piętrze (0, 1, 2, ...).\n",
    "<br><br>\n",
    "Każdy z nich ma inne zwierzę:<br>\n",
    "<b>{}</b><br><br>\n",
    "Na którym piętrze mieszka każdy z nich i jakie ma zwierzę, jeśli następujące zdania są prawdą?<br>\n",
    "<b>{}</b></BODY></HTML>\"\"\".format(nr_albumu, nr+1, ' '.join(przyjaciele),' '.join(zwierzeta),'<br>'.join(fakty))\n",
    "HTML(tresc)"
   ]
  },
  {
   "cell_type": "markdown",
   "metadata": {
    "id": "8ODf7GQ2eLho"
   },
   "source": [
    "### Instrukcje\n",
    "\n",
    "- Rozwiąż przydzielone sobie zadanie za pomocą odpowiedniego programu w Prologu.\n",
    "- W komórce TWÓJ PROGRAM przedstaw ten program.\n",
    "- W komórce ODPOWIEDŹ podaj rozwiązanie w postaci:\n",
    "```\n",
    "Jarek 0 kot\n",
    "Franek 3 chomik\n",
    "Stefan 1 rybka\n",
    "...\n",
    "```"
   ]
  },
  {
   "cell_type": "markdown",
   "metadata": {
    "id": "9B7YUblnktrz"
   },
   "source": [
    "### TWÓJ PROGRAM:"
   ]
  },
  {
   "cell_type": "markdown",
   "metadata": {
    "id": "lFD4AIrBffbv"
   },
   "source": [
    "```prolog\n",
    "floor(0).\n",
    "floor(1).\n",
    "floor(2).\n",
    "floor(3).\n",
    "floor(4).\n",
    "floor(5).\n",
    "floor(6).\n",
    "floor(Jarek, Franek, Stefan, Albert, Szymon, Robert, Marcin) :-\n",
    "    floor(J),\n",
    "    floor(F),\n",
    "    floor(S),\n",
    "    floor(A),\n",
    "    floor(Sz),\n",
    "    floor(R),\n",
    "    floor(M),\n",
    "    Jarek = J,\n",
    "    Franek = F,\n",
    "    Stefan = S,\n",
    "    Albert = A,\n",
    "    Szymon = Sz,\n",
    "    Robert = R,\n",
    "    Marcin = M,\n",
    "    S < J,\n",
    "    Sz > F,\n",
    "    S > R,\n",
    "    R < Sz,\n",
    "    M < F,\n",
    "    A > M,\n",
    "    J > A,\n",
    "    Sz < S,\n",
    "    F > R,\n",
    "    F < S,\n",
    "    R < J,\n",
    "    F > A,\n",
    "    J > M,\n",
    "    M > R,\n",
    "    M < S,\n",
    "    A < Sz,\n",
    "    S > A,\n",
    "    Sz > M,\n",
    "    A > R,\n",
    "    J > Sz,\n",
    "    J > F.\n",
    "\n",
    "person(jarek).\n",
    "person(franek).\n",
    "person(stefan).\n",
    "person(albert).\n",
    "person(szymon).\n",
    "person(robert).\n",
    "person(marcin).\n",
    "\n",
    "animal(pies).\n",
    "animal(kot).\n",
    "animal(rybka).\n",
    "animal(chomik).\n",
    "animal(papuga).\n",
    "animal(waz).\n",
    "animal(kanarek).\n",
    "\n",
    "condition(Item) :-\n",
    "    Item = [X, 5, pies],\n",
    "    X \\= szymon,\n",
    "    X \\= jarek,\n",
    "    X \\= franek,\n",
    "    X \\= robert,\n",
    "    X \\= marcin.\n",
    "condition(Item) :-\n",
    "    Item = [X, 6, chomik],\n",
    "    X \\= robert,\n",
    "    X \\= marcin,\n",
    "    X \\= szymon,\n",
    "    X \\= franek.\n",
    "condition(Item) :-\n",
    "    Item = [X, 0, papuga],\n",
    "    X \\= szymon,\n",
    "    X \\= marcin,\n",
    "    X \\= jarek,\n",
    "    X \\= stefan,\n",
    "    X \\= franek.\n",
    "condition(Item) :-\n",
    "    Item = [X, 2, waz],\n",
    "\tX \\= jarek,\n",
    "    X \\= marcin,\n",
    "    X \\= szymon,\n",
    "    X \\= stefan,\n",
    "    X \\= robert,\n",
    "    X \\= franek.\n",
    "condition(Item) :-\n",
    "    Item = [X, 3, kanarek],\n",
    "    X \\= marcin,\n",
    "    X \\= stefan,\n",
    "    X \\= robert,\n",
    "    X \\= szymon,\n",
    "    X \\= jarek.\n",
    "condition(Item) :-\n",
    "    Item = [X, 4, rybka],\n",
    "    X \\= marcin,\n",
    "    X \\= robert,\n",
    "    X \\= jarek,\n",
    "    X \\= albert,\n",
    "    X \\= franek.\n",
    "condition(Item) :-\n",
    "    Item = [X, 1, kot],\n",
    "\tX \\= robert,\n",
    "    X \\= stefan,\n",
    "    X \\= szymon,\n",
    "    X \\= albert,\n",
    "    X \\= jarek,\n",
    "    X \\= franek.\n",
    "\n",
    "apartment(List, Final_Result) :-\n",
    "    List = [Person, Floor, Animal],\n",
    "    person(Person),\n",
    "    floor(Floor),\n",
    "    animal(Animal),\n",
    "    condition(List),\n",
    "    Final_Result = List.\n",
    "\n",
    "finalResult(Results) :-\n",
    "    floor(Ja, Fr, St, Al, Szy, Ro, Ma),\n",
    "    apartment([jarek, Ja, _], Result_1),\n",
    "    apartment([franek, Fr, _], Result_2),\n",
    "    apartment([stefan, St, _], Result_3),\n",
    "    apartment([albert, Al, _], Result_4),\n",
    "    apartment([szymon, Szy, _], Result_5),\n",
    "    apartment([robert, Ro, _], Result_6),\n",
    "    apartment([marcin, Ma, _], Result_7),\n",
    "    Results = [Result_1, Result_2, Result_3, Result_4, Result_5, Result_6, Result_7].\n",
    "```\n",
    "    "
   ]
  },
  {
   "cell_type": "markdown",
   "metadata": {
    "id": "l_vcZLlxh19H"
   },
   "source": [
    "### ODPOWIEDŹ:"
   ]
  },
  {
   "cell_type": "markdown",
   "metadata": {
    "id": "l-OhAVorh9ow"
   },
   "source": [
    "```prolog\n",
    "? - finalResult(R).\n",
    "\n",
    "R = [[jarek, 6, chomik], [franek, 3, kanarek], [stefan, 5, pies], [albert, 2, waz], [szymon, 4, rybka], [robert, 0, papuga], [marcin, 1, kot]]\n",
    "```"
   ]
  },
  {
   "cell_type": "markdown",
   "metadata": {
    "id": "C57dALyNj4Se"
   },
   "source": [
    "&copy; Katedra Informatyki, Politechnika Krakowska"
   ]
  }
 ],
 "metadata": {
  "colab": {
   "authorship_tag": "ABX9TyPIKwg7+zP2UWOjbAVk8fop",
   "collapsed_sections": [],
   "name": "Prolog_Zadanie.ipynb",
   "provenance": [],
   "toc_visible": true
  },
  "kernelspec": {
   "display_name": "Python 3 (ipykernel)",
   "language": "python",
   "name": "python3"
  },
  "language_info": {
   "codemirror_mode": {
    "name": "ipython",
    "version": 3
   },
   "file_extension": ".py",
   "mimetype": "text/x-python",
   "name": "python",
   "nbconvert_exporter": "python",
   "pygments_lexer": "ipython3",
   "version": "3.11.2"
  }
 },
 "nbformat": 4,
 "nbformat_minor": 4
}
