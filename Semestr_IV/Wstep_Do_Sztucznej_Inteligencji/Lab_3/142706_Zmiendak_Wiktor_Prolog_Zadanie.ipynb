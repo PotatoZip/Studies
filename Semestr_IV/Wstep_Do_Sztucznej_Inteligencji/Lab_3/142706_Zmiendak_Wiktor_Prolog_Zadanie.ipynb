{
 "cells": [
  {
   "cell_type": "markdown",
   "metadata": {
    "id": "AMMXLENOd7V-"
   },
   "source": [
    "# Wstęp do Sztucznej Inteligencji - rok akademicki 2022/2023\n",
    "\n",
    "Przed rozpoczęciem pracy z notatnikiem zmień jego nazwę zgodnie z wzorem: `NrAlbumu_Nazwisko_Imie_PoprzedniaNazwa`.\n",
    "\n",
    "Przed wysłaniem notatnika upewnij się, że rozwiązałeś wszystkie zadania/ćwiczenia."
   ]
  },
  {
   "cell_type": "markdown",
   "metadata": {
    "id": "4ZZF68t-kiQ8"
   },
   "source": [
    "## Zadanie 1  (obowiązkowe, 10pkt.)\n",
    "\n",
    "### Aby wygenerować treść zadania wprowadź swój nr albumu i wykonaj poniższe komórki (Shift + Enter) "
   ]
  },
  {
   "cell_type": "code",
   "execution_count": null,
   "metadata": {
    "id": "1wWZXA_2tilS"
   },
   "outputs": [],
   "source": [
    "nr_albumu = '142706'"
   ]
  },
  {
   "cell_type": "code",
   "execution_count": null,
   "metadata": {
    "id": "cDbahmaQtvHm"
   },
   "outputs": [],
   "source": [
    "#import sys\n",
    "#from google.colab import drive\n",
    "#drive.mount('/content/drive')\n",
    "# upewniej się że poniższa ścieżka jest poprawna\n",
    "#path_nb = r'/content/drive/My Drive/Colab Notebooks/WdSI_2022/T1_Lab_Prolog/'\n",
    "#sys.path.append(path_nb)"
   ]
  },
  {
   "cell_type": "code",
   "execution_count": 15,
   "metadata": {
    "id": "xdA2ZUhKtvRO"
   },
   "outputs": [
    {
     "data": {
      "text/html": [
       "<HTML><BODY><H3>Zadanie dla numeru albumu: 142706.<br>Zadanie nr 24.</H3><br>\n",
       "Przyjaciele:<br>\n",
       "<b>Jarek, Franek, Stefan, Albert, Szymon, Robert, Marcin</b> <br> mieszkają w jednym budynku, każdy na innym piętrze (0, 1, 2, ...).\n",
       "<br><br>\n",
       "Każdy z nich ma inne zwierzę:<br>\n",
       "<b>psa, kota, rybkę, chomika, papugę, węża, kanarka.</b><br><br>\n",
       "Na którym piętrze mieszka każdy z nich i jakie ma zwierzę, jeśli następujące zdania są prawdą?<br>\n",
       "<b>1. Stefan mieszka niżej niż Jarek.<br>2. Właściciel chomika mieszka na piętrze 6.<br>3. Właściciel papugi mieszka na piętrze 0.<br>4. Szymon mieszka wyżej niż Franek.<br>5. Stefan mieszka wyżej niż Robert.<br>6. Właściciel kota mieszka na piętrze 1.<br>7. Właściciel psa mieszka na piętrze 5.<br>8. Szymon nie ma psa.<br>9. Robert mieszka niżej niż Szymon.<br>10. Właściciel rybki mieszka na piętrze 4.<br>11. Marcin nie ma rybki.<br>12. Marcin nie ma kanarka.<br>13. Właściciel kanarka mieszka na piętrze 3.<br>14. Marcin mieszka niżej niż Franek.<br>15. Właściciel węża mieszka na piętrze 2.<br>16. Albert mieszka wyżej niż Marcin.<br>17. Jarek mieszka wyżej niż Albert.<br>18. Jarek nie ma psa.<br>19. Jarek nie ma węża.<br>20. Stefan nie ma kanarka.<br>21. Marcin nie ma węża.<br>22. Szymon nie ma papugi.<br>23. Szymon nie ma węża.<br>24. Szymon mieszka niżej niż Stefan.<br>25. Franek mieszka wyżej niż Robert.<br>26. Robert nie ma kota.<br>27. Franek mieszka niżej niż Stefan.<br>28. Robert mieszka niżej niż Jarek.<br>29. Stefan nie ma węża.<br>30. Franek nie ma psa.<br>31. Robert nie ma chomika.<br>32. Franek mieszka wyżej niż Albert.<br>33. Jarek mieszka wyżej niż Marcin.<br>34. Robert nie ma kanarka.<br>35. Robert nie ma węża.<br>36. Marcin mieszka wyżej niż Robert.<br>37. Marcin nie ma chomika.<br>38. Marcin mieszka niżej niż Stefan.<br>39. Albert mieszka niżej niż Szymon.<br>40. Stefan mieszka wyżej niż Albert.<br>41. Szymon mieszka wyżej niż Marcin.<br>42. Albert mieszka wyżej niż Robert.<br>43. Jarek mieszka wyżej niż Szymon.<br>44. Szymon nie ma chomika.<br>45. Jarek mieszka wyżej niż Franek.<br>46. Robert nie ma rybki.<br>47. Stefan nie ma kota.<br>48. Robert nie ma psa.<br>49. Szymon nie ma kanarka.<br>50. Szymon nie ma kota.<br>51. Jarek nie ma rybki.<br>52. Marcin nie ma papugi.<br>53. Albert nie ma rybki.<br>54. Marcin nie ma psa.<br>55. Albert nie ma kota.<br>56. Jarek nie ma papugi.<br>57. Jarek nie ma kanarka.<br>58. Stefan nie ma papugi.<br>59. Jarek nie ma kota.<br>60. Franek nie ma papugi.<br>61. Franek nie ma chomika.<br>62. Franek nie ma kota.<br>63. Franek nie ma rybki.<br>64. Franek nie ma węża.</b></BODY></HTML>"
      ],
      "text/plain": [
       "<IPython.core.display.HTML object>"
      ]
     },
     "execution_count": 15,
     "metadata": {},
     "output_type": "execute_result"
    }
   ],
   "source": [
    "import pickle\n",
    "from IPython.display import HTML\n",
    "\n",
    "#zadania = pickle.load(open(path_nb+'zadania.pkl', 'rb'))\n",
    "zadania = pickle.load(open('zadania.pkl', 'rb'))\n",
    "nr = int(nr_albumu) % len(zadania)\n",
    "przyjaciele = zadania[nr]['przyjaciele']\n",
    "zwierzeta = zadania[nr]['zwierzeta']\n",
    "fakty = ['{}. {}'.format(i+1, s) for i,s in enumerate(zadania[nr]['fakty'])]\n",
    "\n",
    "tresc = \"\"\"<HTML><BODY><H3>Zadanie dla numeru albumu: {}.<br>Zadanie nr {}.</H3><br>\n",
    "Przyjaciele:<br>\n",
    "<b>{}</b> <br> mieszkają w jednym budynku, każdy na innym piętrze (0, 1, 2, ...).\n",
    "<br><br>\n",
    "Każdy z nich ma inne zwierzę:<br>\n",
    "<b>{}</b><br><br>\n",
    "Na którym piętrze mieszka każdy z nich i jakie ma zwierzę, jeśli następujące zdania są prawdą?<br>\n",
    "<b>{}</b></BODY></HTML>\"\"\".format(nr_albumu, nr+1, ' '.join(przyjaciele),' '.join(zwierzeta),'<br>'.join(fakty))\n",
    "HTML(tresc)"
   ]
  },
  {
   "cell_type": "markdown",
   "metadata": {
    "id": "8ODf7GQ2eLho"
   },
   "source": [
    "### Instrukcje\n",
    "\n",
    "- Rozwiąż przydzielone sobie zadanie za pomocą odpowiedniego programu w Prologu.\n",
    "- W komórce TWÓJ PROGRAM przedstaw ten program.\n",
    "- W komórce ODPOWIEDŹ podaj rozwiązanie w postaci:\n",
    "```\n",
    "Jarek 0 kot\n",
    "Franek 3 chomik\n",
    "Stefan 1 rybka\n",
    "...\n",
    "```"
   ]
  },
  {
   "cell_type": "markdown",
   "metadata": {
    "id": "9B7YUblnktrz"
   },
   "source": [
    "### TWÓJ PROGRAM:"
   ]
  },
  {
   "cell_type": "markdown",
   "metadata": {
    "id": "lFD4AIrBffbv"
   },
   "source": [
    "```prolog\n",
    "floor(0).\n",
    "floor(1).\n",
    "floor(2).\n",
    "floor(3).\n",
    "floor(4).\n",
    "floor(5).\n",
    "floor(6).\n",
    "floor(Jarek, Franek, Stefan, Albert, Szymon, Robert, Marcin) :-\n",
    "    floor(J),\n",
    "    floor(F),\n",
    "    floor(S),\n",
    "    floor(A),\n",
    "    floor(Sz),\n",
    "    floor(R),\n",
    "    floor(M),\n",
    "    Jarek = J,\n",
    "    Franek = F,\n",
    "    Stefan = S,\n",
    "    Albert = A,\n",
    "    Szymon = Sz,\n",
    "    Robert = R,\n",
    "    Marcin = M,\n",
    "    S < J,\n",
    "    Sz > F,\n",
    "    S > R,\n",
    "    R < Sz,\n",
    "    M < F,\n",
    "    A > M,\n",
    "    J > A,\n",
    "    Sz < S,\n",
    "    F > R,\n",
    "    F < S,\n",
    "    R < J,\n",
    "    F > A,\n",
    "    J > M,\n",
    "    M > R,\n",
    "    M < S,\n",
    "    A < Sz,\n",
    "    S > A,\n",
    "    Sz > M,\n",
    "    A > R,\n",
    "    J > Sz,\n",
    "    J > F.\n",
    "\n",
    "person(jarek).\n",
    "person(franek).\n",
    "person(stefan).\n",
    "person(albert).\n",
    "person(szymon).\n",
    "person(robert).\n",
    "person(marcin).\n",
    "\n",
    "animal(pies).\n",
    "animal(kot).\n",
    "animal(rybka).\n",
    "animal(chomik).\n",
    "animal(papuga).\n",
    "animal(waz).\n",
    "animal(kanarek).\n",
    "\n",
    "condition(Item) :-\n",
    "    Item = [X, 5, pies],\n",
    "    X \\= szymon,\n",
    "    X \\= jarek,\n",
    "    X \\= franek,\n",
    "    X \\= robert,\n",
    "    X \\= marcin.\n",
    "condition(Item) :-\n",
    "    Item = [X, 6, chomik],\n",
    "    X \\= robert,\n",
    "    X \\= marcin,\n",
    "    X \\= szymon,\n",
    "    X \\= franek.\n",
    "condition(Item) :-\n",
    "    Item = [X, 0, papuga],\n",
    "    X \\= szymon,\n",
    "    X \\= marcin,\n",
    "    X \\= jarek,\n",
    "    X \\= stefan,\n",
    "    X \\= franek.\n",
    "condition(Item) :-\n",
    "    Item = [X, 2, waz],\n",
    "\tX \\= jarek,\n",
    "    X \\= marcin,\n",
    "    X \\= szymon,\n",
    "    X \\= stefan,\n",
    "    X \\= robert,\n",
    "    X \\= franek.\n",
    "condition(Item) :-\n",
    "    Item = [X, 3, kanarek],\n",
    "    X \\= marcin,\n",
    "    X \\= stefan,\n",
    "    X \\= robert,\n",
    "    X \\= szymon,\n",
    "    X \\= jarek.\n",
    "condition(Item) :-\n",
    "    Item = [X, 4, rybka],\n",
    "    X \\= marcin,\n",
    "    X \\= robert,\n",
    "    X \\= jarek,\n",
    "    X \\= albert,\n",
    "    X \\= franek.\n",
    "condition(Item) :-\n",
    "    Item = [X, 1, kot],\n",
    "\tX \\= robert,\n",
    "    X \\= stefan,\n",
    "    X \\= szymon,\n",
    "    X \\= albert,\n",
    "    X \\= jarek,\n",
    "    X \\= franek.\n",
    "\n",
    "flat(List, FRes) :-\n",
    "    List = [Person, Floor, Animal],\n",
    "    person(Person),\n",
    "    floor(Floor),\n",
    "    animal(Animal),\n",
    "    condition(List),\n",
    "    FRes = List.\n",
    "\n",
    "finalResult(Result) :-\n",
    "    floor(Ja, Fr, St, Al, Szy, Ro, Ma),\n",
    "    flat([jarek, Ja, _], Res1),\n",
    "    flat([franek, Fr, _], Res2),\n",
    "    flat([stefan, St, _], Res3),\n",
    "    flat([albert, Al, _], Res4),\n",
    "    flat([szymon, Szy, _], Res5),\n",
    "    flat([robert, Ro, _], Res6),\n",
    "    flat([marcin, Ma, _], Res7),\n",
    "    Result = [Res1, Res2, Res3, Res4, Res5, Res6, Res7].\n",
    "    "
   ]
  },
  {
   "cell_type": "markdown",
   "metadata": {
    "id": "l_vcZLlxh19H"
   },
   "source": [
    "### ODPOWIEDŹ:"
   ]
  },
  {
   "cell_type": "markdown",
   "metadata": {
    "id": "l-OhAVorh9ow"
   },
   "source": [
    "```\n",
    "? - finalResult(R).\n",
    "\n",
    "R = [[jarek, 6, chomik], [franek, 3, kanarek], [stefan, 5, pies], [albert, 2, waz], [szymon, 4, rybka], [robert, 0, papuga], [marcin, 1, kot]]"
   ]
  },
  {
   "cell_type": "markdown",
   "metadata": {
    "id": "C57dALyNj4Se"
   },
   "source": [
    "&copy; Katedra Informatyki, Politechnika Krakowska"
   ]
  }
 ],
 "metadata": {
  "colab": {
   "authorship_tag": "ABX9TyPIKwg7+zP2UWOjbAVk8fop",
   "collapsed_sections": [],
   "name": "Prolog_Zadanie.ipynb",
   "provenance": [],
   "toc_visible": true
  },
  "kernelspec": {
   "display_name": "Python 3 (ipykernel)",
   "language": "python",
   "name": "python3"
  },
  "language_info": {
   "codemirror_mode": {
    "name": "ipython",
    "version": 3
   },
   "file_extension": ".py",
   "mimetype": "text/x-python",
   "name": "python",
   "nbconvert_exporter": "python",
   "pygments_lexer": "ipython3",
   "version": "3.11.2"
  }
 },
 "nbformat": 4,
 "nbformat_minor": 4
}
