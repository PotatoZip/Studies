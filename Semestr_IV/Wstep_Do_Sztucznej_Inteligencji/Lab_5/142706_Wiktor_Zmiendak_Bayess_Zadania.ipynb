{
  "cells": [
    {
      "cell_type": "markdown",
      "metadata": {
        "id": "AMMXLENOd7V-"
      },
      "source": [
        "# Wstęp do Sztucznej Inteligencji - rok akademicki 2022/2023\n",
        "\n",
        "Przed rozpoczęciem pracy z notatnikiem zmień jego nazwę zgodnie z wzorem: `NrAlbumu_Nazwisko_Imie_PoprzedniaNazwa`.\n",
        "\n",
        "Przed wysłaniem notatnika upewnij się, że rozwiązałeś wszystkie zadania/ćwiczenia."
      ]
    },
    {
      "cell_type": "markdown",
      "metadata": {
        "id": "4ZZF68t-kiQ8"
      },
      "source": [
        "# Temat: Wnioskowanie oparte na wiedzy niepewnej. Wnioskowanie bayesowskie\n",
        "Zapoznaj się z treścią niniejszego notatnika czytając i wykonując go komórka po komórce. Wykonaj napotkane zadania/ćwiczenia."
      ]
    },
    {
      "cell_type": "code",
      "execution_count": 1,
      "metadata": {
        "id": "jMNPVnxKmRsa",
        "colab": {
          "base_uri": "https://localhost:8080/"
        },
        "outputId": "3f78ea35-55ae-4879-dcae-59326f72712b"
      },
      "outputs": [
        {
          "output_type": "stream",
          "name": "stdout",
          "text": [
            "Pymc version: 5.10.4\n",
            "Arviz version: 0.15.1\n",
            "Numpy version: 1.25.2\n"
          ]
        }
      ],
      "source": [
        "import pymc as pm\n",
        "import arviz as az\n",
        "import numpy as np\n",
        "print('Pymc version:', pm.__version__)\n",
        "print('Arviz version:', az.__version__)\n",
        "print('Numpy version:', np.__version__)"
      ]
    },
    {
      "cell_type": "markdown",
      "metadata": {
        "id": "9B7YUblnktrz"
      },
      "source": [
        "## Zadanie 1  (obowiązkowe, 5pkt.)\n",
        "Zapożyczone z ćwiczeń do wykładu [Arabas, Cichosz](http://wazniak.mimuw.edu.pl/index.php?title=Sztuczna_inteligencja/SI_%C4%86wiczenia_4)\n",
        "\n",
        "### Zamodeluj i odpowiedz na pytania.\n",
        "\n",
        "W śledztwie dotyczącym zabójstwa inspektor Bayes rozważa dwie hipotezy:\n",
        "\n",
        "- $H_1$ główny podejrzany zabił,\n",
        "- $H_2$ główny podejrzany nie zabił,\n",
        "\n",
        "oraz następujące możliwe fakty:\n",
        "\n",
        "- $E_1$ na miejscu zbrodni znaleziono odciski palców głównego podejrzanego,\n",
        "- $E_2$ główny podejrzany nie ma alibi na czas popełnienia zabójstwa,\n",
        "- $E_3$ główny podejrzany miał motyw zabicia ofiary,\n",
        "- $E_4$ główny podejrzany był widziany w sądziedztwie miejsca, w którym mieszka nielegalny handlarz bronią,\n",
        "- $E_5$ świadek zbrodni podał rysopis zabójcy nie pasujący do głównego podejrzanego.\n",
        "\n",
        "Zależności między takimi faktami a hipotezami opisują następujące prawdopodobieństwa:\n",
        "\n",
        "$P(E_1|H_1)=0.7,\\qquad P(E_1|H_2)=0.3,$\n",
        "\n",
        "$P(E_2|H_1)=0.8,\\qquad P(E_2|H_2)=0.4,$\n",
        "\n",
        "$P(E_3|H_1)=0.9,\\qquad P(E_3|H_2)=0.5,$\n",
        "\n",
        "$P(E_4|H_1)=0.4,\\qquad P(E_4|H_2)=0.2,$\n",
        "\n",
        "$P(E_5|H_1)=0.2,\\qquad P(E_5|H_2)=0.4.$\n",
        "\n",
        "__W którym przypadku prawdopodobieństwo popełnienia zabójstwa byłoby największe?__\n",
        "\n",
        "1. Gdyby znaleziono na miejscu zbrodni jego odciski palców.\n",
        "2. Gdyby stwierdzono, że nie miał alibi i miał motyw.\n",
        "3. Gdyby znaleziono na miejscu zbrodni jego odciski palców oraz stwierdzono, że był widziany w sąsiedztwie miejsca, w którym mieszka nielegalny handlarz bronią, ale świadek zbrodni podał rysopis zabójcy nie pasujący do głównego podejrzanego."
      ]
    },
    {
      "cell_type": "markdown",
      "metadata": {
        "id": "_WeSA3oZsqwD"
      },
      "source": [
        "### TWÓJ PROGRAM:"
      ]
    },
    {
      "cell_type": "code",
      "execution_count": 7,
      "metadata": {
        "id": "HbbAmNT8sqE1",
        "colab": {
          "base_uri": "https://localhost:8080/",
          "height": 91
        },
        "outputId": "0ccf5ee6-8335-43b1-ba3f-ad2df1be9fe6"
      },
      "outputs": [
        {
          "output_type": "display_data",
          "data": {
            "text/plain": [
              "<IPython.core.display.HTML object>"
            ],
            "text/html": [
              "\n",
              "<style>\n",
              "    /* Turns off some styling */\n",
              "    progress {\n",
              "        /* gets rid of default border in Firefox and Opera. */\n",
              "        border: none;\n",
              "        /* Needs to be in here for Safari polyfill so background images work as expected. */\n",
              "        background-size: auto;\n",
              "    }\n",
              "    progress:not([value]), progress:not([value])::-webkit-progress-bar {\n",
              "        background: repeating-linear-gradient(45deg, #7e7e7e, #7e7e7e 10px, #5c5c5c 10px, #5c5c5c 20px);\n",
              "    }\n",
              "    .progress-bar-interrupted, .progress-bar-interrupted::-webkit-progress-bar {\n",
              "        background: #F44336;\n",
              "    }\n",
              "</style>\n"
            ]
          },
          "metadata": {}
        },
        {
          "output_type": "display_data",
          "data": {
            "text/plain": [
              "<IPython.core.display.HTML object>"
            ],
            "text/html": [
              "\n",
              "    <div>\n",
              "      <progress value='11000' class='' max='11000' style='width:300px; height:20px; vertical-align: middle;'></progress>\n",
              "      100.00% [11000/11000 00:01&lt;00:00 Sampling chain 0, 0 divergences]\n",
              "    </div>\n",
              "    "
            ]
          },
          "metadata": {}
        },
        {
          "output_type": "stream",
          "name": "stdout",
          "text": [
            "pKillerPrints: 0.6998319731156986\n",
            "pKillerAlibiMotive: 0.7824725590133421\n",
            "pKillerPrintsSeenNotSimilar: 0.6998319731156984\n"
          ]
        }
      ],
      "source": [
        "#YOUR CODE HERE\n",
        "\n",
        "with pm.Model() as BayesModel:\n",
        "  killer = pm.Bernoulli('killer', 0.5)\n",
        "\n",
        "  killerPrints = pm.Deterministic('killerPrints', pm.math.switch(killer, 0.7, 0.3))\n",
        "  killerNotAlibi = pm.Deterministic('killerNotAlibi', pm.math.switch(killer, 0.8, 0.4))\n",
        "  killerMotive = pm.Deterministic('killerMotive', pm.math.switch(killer, 0.9, 0.5))\n",
        "  killerSeen = pm.Deterministic('killerSeen', pm.math.switch(killer, 0.4, 0.2))\n",
        "  killerNotSimilar = pm.Deterministic('killerNotSimilar', pm.math.switch(killer, 0.2, 0.4))\n",
        "\n",
        "  trace = pm.sample(10000, chains = 1, return_inferencedata = True)\n",
        "  trace.posterior['killer'].values\n",
        "\n",
        "  pKillerPrints = (trace.posterior['killer'].values[0]*trace.posterior['killerPrints'].values[0]).sum()/trace.posterior['killerPrints'].values[0].sum()\n",
        "  print('pKillerPrints:', pKillerPrints)\n",
        "\n",
        "  pKillerAlibiMotive = (trace.posterior['killer'].values[0]*trace.posterior['killerNotAlibi'].values[0]*trace.posterior['killerMotive'].values[0]).sum()/(trace.posterior['killerNotAlibi'].values[0]*trace.posterior['killerMotive'].values[0]).sum()\n",
        "  print('pKillerAlibiMotive:', pKillerAlibiMotive)\n",
        "\n",
        "  pKillerPrintsSeenNotSimilar = (trace.posterior['killer'].values[0]*trace.posterior['killerPrints'].values[0]*trace.posterior['killerSeen'].values[0]*trace.posterior['killerNotSimilar'].values[0]).sum()/(trace.posterior['killerPrints'].values[0]*trace.posterior['killerSeen'].values[0]*trace.posterior['killerNotSimilar'].values[0]).sum()\n",
        "  print('pKillerPrintsSeenNotSimilar:', pKillerPrintsSeenNotSimilar)"
      ]
    },
    {
      "cell_type": "markdown",
      "metadata": {
        "id": "OJCwrDffiEd9"
      },
      "source": [
        "### ODPOWIEDŹ:"
      ]
    },
    {
      "cell_type": "markdown",
      "metadata": {
        "id": "8Sry3tq8tLpk"
      },
      "source": [
        "YOUR ANSWER HERE"
      ]
    },
    {
      "cell_type": "markdown",
      "metadata": {
        "id": "aTJLCU6KiT-T"
      },
      "source": [
        "## Zadanie 2  (obowiązkowe, 5pkt.)\n",
        "\n",
        "### Zamodeluj i odpowiedz na pytania.\n",
        "System alarmowy w mieszkaniu, reaguje na włamania oraz, niestety, również na drobne trzęsienia (ziemi). Sąsiedzi John i Mary są umówieni, żeby zadzwonić do właściciela gdy usłyszą alarm. John jest nadgorliwy i bierze różne zdarzenia (np. dzwonek telefonu) za sygnał alarmowy (i wtedy zawsze dzwoni). Mary rozpoznaje alarm poprawnie, lecz często słucha głośnej muzyki i może go w ogóle nie usłyszeć.\n",
        "\n",
        "Sieć przekonań dla systemu alarmowego wygląda następująco:\n",
        "![bsiec.PNG](http://torus.uck.pk.edu.pl/~amarsz/images/bsiec.PNG)\n",
        "\n",
        "__Jakie jest prawdopodobieństwo, że:__\n",
        "1. włączy się alarm?\n",
        "2. doszło do włamanie jeśli wiadom, że włączył się alarm?\n",
        "3. zdarzyło się trzęsienie ziemi jeśli wiadomo, żę włączył się alarm?\n",
        "1. w razie włamania ktoś zadzwoni?\n",
        "2. zawiadomienie o włamaniu jest fałszywe?\n",
        "3. rozległ się alarm, przy czym nie wystąpiło ani trzęsienie ziemi ani włamanie, ale oboje John i Mary zadzwonili? (prawd. bezwarunkowe)"
      ]
    },
    {
      "cell_type": "markdown",
      "metadata": {
        "id": "ZiHzVQYYibOS"
      },
      "source": [
        "TWÓJ PROGRAM:"
      ]
    },
    {
      "cell_type": "code",
      "execution_count": 15,
      "metadata": {
        "id": "yXixd4Rotaq9",
        "colab": {
          "base_uri": "https://localhost:8080/",
          "height": 109
        },
        "outputId": "ce686290-aba0-492f-afc8-ef4e02d75d8a"
      },
      "outputs": [
        {
          "output_type": "display_data",
          "data": {
            "text/plain": [
              "<IPython.core.display.HTML object>"
            ],
            "text/html": [
              "\n",
              "<style>\n",
              "    /* Turns off some styling */\n",
              "    progress {\n",
              "        /* gets rid of default border in Firefox and Opera. */\n",
              "        border: none;\n",
              "        /* Needs to be in here for Safari polyfill so background images work as expected. */\n",
              "        background-size: auto;\n",
              "    }\n",
              "    progress:not([value]), progress:not([value])::-webkit-progress-bar {\n",
              "        background: repeating-linear-gradient(45deg, #7e7e7e, #7e7e7e 10px, #5c5c5c 10px, #5c5c5c 20px);\n",
              "    }\n",
              "    .progress-bar-interrupted, .progress-bar-interrupted::-webkit-progress-bar {\n",
              "        background: #F44336;\n",
              "    }\n",
              "</style>\n"
            ]
          },
          "metadata": {}
        },
        {
          "output_type": "display_data",
          "data": {
            "text/plain": [
              "<IPython.core.display.HTML object>"
            ],
            "text/html": [
              "\n",
              "    <div>\n",
              "      <progress value='11000' class='' max='11000' style='width:300px; height:20px; vertical-align: middle;'></progress>\n",
              "      100.00% [11000/11000 00:08&lt;00:00 Sampling chain 0, 0 divergences]\n",
              "    </div>\n",
              "    "
            ]
          },
          "metadata": {}
        },
        {
          "output_type": "stream",
          "name": "stdout",
          "text": [
            "pAlarm: 23.220000000000006\n",
            "pBurglaryAlarm: 0.2727272727272727\n",
            "pEarthquakeAlarm: 0.2727272727272727\n",
            "pCalledBurglary: 1.2857142857142858\n"
          ]
        }
      ],
      "source": [
        "#YOUR CODE HERE\n",
        "\n",
        "with pm.Model() as burglaryModel:\n",
        "  burglary = pm.Bernoulli('burglary', 0.001)\n",
        "  earthquake = pm.Bernoulli('earthquake', 0.002)\n",
        "\n",
        "  pAlarm = pm.Deterministic('pAlarm', pm.math.switch(earthquake, pm.math.switch(burglary, 0.95, 0.29), pm.math.switch(burglary, 0.94, 0.001)))\n",
        "  alarm = pm.Bernoulli('alarm', pAlarm)\n",
        "\n",
        "  pJohn = pm.Deterministic('pJohn', pm.math.switch(alarm, 0.9, 0.05))\n",
        "  john = pm.Bernoulli('john', pJohn)\n",
        "  pMary = pm.Deterministic('pMary', pm.math.switch(alarm, 0.7, 0.01))\n",
        "  mary = pm.Bernoulli('mary', pMary)\n",
        "\n",
        "  trace = pm.sample(10000, chains=1, return_inferencedata=True)\n",
        "  trace.posterior['alarm'].values\n",
        "\n",
        "  print('pAlarm:', trace.posterior['pAlarm'].values[0].sum())\n",
        "\n",
        "  pBurglaryAlarm = (trace.posterior['burglary'].values[0]*trace.posterior['alarm'].values[0]).sum()/trace.posterior['alarm'].values[0].sum()\n",
        "  print('pBurglaryAlarm:', pBurglaryAlarm)\n",
        "\n",
        "  pEarthquakeAlarm = (trace.posterior['earthquake'].values[0]*trace.posterior['alarm'].values[0]).sum()/trace.posterior['alarm'].values[0].sum()\n",
        "  print('pEarthquakeAlarm:', pEarthquakeAlarm)\n",
        "\n",
        "  pCalledBurglary = (trace.posterior['john'].values[0]*trace.posterior['burglary'].values[0]+trace.posterior['mary'].values[0]*trace.posterior['burglary'].values[0]).sum()/trace.posterior['burglary'].values[0].sum()\n",
        "  print('pCalledBurglary:', pCalledBurglary)\n",
        "\n"
      ]
    },
    {
      "cell_type": "markdown",
      "metadata": {
        "id": "QKWpMlq9iz-A"
      },
      "source": [
        "### ODPOWIEDŹ:"
      ]
    },
    {
      "cell_type": "markdown",
      "metadata": {
        "id": "D4QnaFVYi8bw"
      },
      "source": [
        "YOUR ANSWER HERE"
      ]
    },
    {
      "cell_type": "markdown",
      "metadata": {
        "id": "cZrTqu_LC5p_"
      },
      "source": [
        "__UWAGA:__ Zwróć uwagę na wielkości podanych prawdopodobieńst aby dobarć odpowiednią liczbę symulacji."
      ]
    },
    {
      "cell_type": "markdown",
      "metadata": {
        "id": "C57dALyNj4Se"
      },
      "source": [
        "&copy; Katedra Informatyki, Politechnika Krakowska"
      ]
    }
  ],
  "metadata": {
    "colab": {
      "provenance": []
    },
    "kernelspec": {
      "display_name": "Python 3 (ipykernel)",
      "language": "python",
      "name": "python3"
    },
    "language_info": {
      "codemirror_mode": {
        "name": "ipython",
        "version": 3
      },
      "file_extension": ".py",
      "mimetype": "text/x-python",
      "name": "python",
      "nbconvert_exporter": "python",
      "pygments_lexer": "ipython3",
      "version": "3.9.7"
    }
  },
  "nbformat": 4,
  "nbformat_minor": 0
}