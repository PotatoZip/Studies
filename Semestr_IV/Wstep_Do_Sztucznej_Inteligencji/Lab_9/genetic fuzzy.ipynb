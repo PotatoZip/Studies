{
 "cells": [
  {
   "cell_type": "markdown",
   "metadata": {
    "colab_type": "text",
    "id": "AMMXLENOd7V-"
   },
   "source": [
    "# Wstęp do Sztucznej Inteligencji\n",
    "## Ewolucyjne podejście do optymalizacji klasyfikatora opartego na zestawie reguł rozmytych"
   ]
  },
  {
   "cell_type": "markdown",
   "metadata": {},
   "source": [
    "Celem laboratorium jest implementacja klasyfikatora opartego na regułach rozmytych. Postać reguł rozmytych może być optymalizowana za pomocą algorytmu ewolucyjnego."
   ]
  },
  {
   "cell_type": "code",
   "execution_count": null,
   "metadata": {
    "colab": {},
    "colab_type": "code",
    "id": "Lptez4YKzym4"
   },
   "outputs": [],
   "source": [
    "import numpy as np\n",
    "import pandas as pd\n",
    "import matplotlib.pyplot as plt\n",
    "import copy"
   ]
  },
  {
   "cell_type": "markdown",
   "metadata": {},
   "source": [
    "Zaczniemy od prostego problemu klasyfikacyjnego irysów. Dane te opisują 150 przykładów kwiatów, każdy należący do jednego z trzech gatunków. Mamy zatem do czynienia z problemem klasyfikacyjnym z trzema klasami.\n",
    "\n",
    "Każdy przykład opisany jest czterema atrybutami (cechami). Na ich podstawie nasz klasyfikator ma podejmować decyzję, do której klasy przypisać dany przykład. \n",
    "\n",
    "Proces uczenia takiego modelu to przykład uczenia z nauczycielem (ang. supervised learning).\n"
   ]
  },
  {
   "cell_type": "code",
   "execution_count": null,
   "metadata": {},
   "outputs": [],
   "source": [
    "from sklearn.preprocessing import LabelEncoder\n",
    "\n",
    "data_path = 'iris.csv'\n",
    "data = pd.read_csv(data_path, header=None, delimiter=r\"\\s+\")\n",
    "data.columns = ['SepalLength', 'SepalWidth', 'PetalLength', 'PetalWidth', 'Species']\n",
    "print(data.head())\n",
    "\n",
    "# encode as np matrix\n",
    "X = features_matrix = data.iloc[:, 0:4].to_numpy()\n",
    "print(X.shape)\n",
    "Y = data['Species'].to_numpy()\n",
    "label_encoder = LabelEncoder()\n",
    "Y = label_encoder.fit_transform(Y)\n",
    "print(Y)\n",
    "\n"
   ]
  },
  {
   "cell_type": "markdown",
   "metadata": {},
   "source": [
    "Po wczytaniu danych, warto się im przyjrzeć i ocenić trudność problemu.\n",
    "\n",
    "Które atrybuty wydają się szczególnie przydatne w tym problemie? Zwróć uwagę, że przy takiej wizualizacji danych nie widzimy dokładnie jak dobrze te dane są odseparowane w oryginalnej przestrzeni (w tym przypadku 4D)."
   ]
  },
  {
   "cell_type": "code",
   "execution_count": null,
   "metadata": {},
   "outputs": [],
   "source": [
    "colors = ['red', 'green', 'blue']  \n",
    "data['Species'] = Y\n",
    "# Rysowanie wykresów dla każdej pary cech\n",
    "fig, axs = plt.subplots(4, 4, figsize=(15, 15))  # Ustawienie siatki wykresów\n",
    "for i in range(4):\n",
    "    for j in range(4):\n",
    "        if i != j:\n",
    "            axs[i, j].scatter(data.iloc[:, j], data.iloc[:, i], c=data['Species'].map(lambda x: colors[x]))\n",
    "            axs[i, j].set_xlabel(data.columns[j])\n",
    "            axs[i, j].set_ylabel(data.columns[i])\n",
    "        else:\n",
    "            axs[i, j].text(0.5, 0.5, data.columns[i], horizontalalignment='center', verticalalignment='center')\n",
    "            axs[i, j].set_xlabel('')\n",
    "            axs[i, j].set_ylabel('')\n",
    "        axs[i, j].set_xticks([])\n",
    "        axs[i, j].set_yticks([])\n",
    "\n",
    "plt.tight_layout()\n",
    "plt.show()"
   ]
  },
  {
   "cell_type": "markdown",
   "metadata": {},
   "source": [
    "Dane dzielimy na dane trenujące i testowe. Klasyfikator powinien być przetestowany na danych, z którymi nie miał styczności w czasie procesu uczenia."
   ]
  },
  {
   "cell_type": "code",
   "execution_count": null,
   "metadata": {},
   "outputs": [],
   "source": [
    "test_perc = 0.3 \n",
    "indxs = np.random.permutation(X.shape[0])\n",
    "ii = int(test_perc*X.shape[0])\n",
    "Xtest = X[indxs[:ii]]\n",
    "Ytest = Y[indxs[:ii]]\n",
    "X = X[indxs[ii:]]\n",
    "Y = Y[indxs[ii:]]\n",
    "print(X.shape, Xtest.shape)"
   ]
  },
  {
   "cell_type": "markdown",
   "metadata": {},
   "source": [
    "Do zdefiniowania funkcji przynależności potrzebne będą zakresy wartości zmiennych."
   ]
  },
  {
   "cell_type": "code",
   "execution_count": null,
   "metadata": {},
   "outputs": [],
   "source": [
    "mins = X.min(axis=0)\n",
    "maxs = X.max(axis=0)\n",
    "print(mins)\n",
    "print(maxs)"
   ]
  },
  {
   "cell_type": "markdown",
   "metadata": {},
   "source": [
    "Nasz przykładowy klasyfikator rozmyty będzie korzystał z trójkątnych funkcji przynależności."
   ]
  },
  {
   "cell_type": "code",
   "execution_count": null,
   "metadata": {},
   "outputs": [],
   "source": [
    "def trfun(x, a, b, c):\n",
    "    return 0 if (x < a or x > c) else ((x-a)/(b-a) if (x >= a and x <= b) else (c-x)/(c-b))"
   ]
  },
  {
   "cell_type": "markdown",
   "metadata": {},
   "source": [
    "Klasyfikator rozmyty podejmuje decyzję na podstawie zbioru reguł rozmytych w postaci:\n",
    "\n",
    "JEŚLI x1 jest MAŁE i x2 jest ŚREDNIE i x4 jest DUŻE wtedy KLASA_1\n",
    "\n",
    "Zwróć uwagę, że w powyższym przykładzie nie jest wykorzystane x3.\n",
    "\n",
    "Obiekt poniższej klasy FuzzyClassifier przechowuje dla każdego wymiaru (x1 do x4 w przypadku irysów) zadaną liczbę wartości lingwistycznych reprezentowanych przez trójkątne funkcje prznależności definiowane przez trzy parametry. Dla każdego wymiaru może to być różna liczba (parametr fnums).\n",
    "\n",
    "Reguły rozmyte zakodowane są w polu rules. Każda reguła to lista, której kolejne wartości wskazują, do której funkcji przynależności odnosi się ta reguła w danym wymiarze, a ostatni element to indeks klasy z wniosku reguły. Jeśli występuje wartość -1, to ten atrybut nie jest brany pod uwagę przez daną regułę.\n",
    "\n",
    "Przykład:\n",
    "\n",
    "[-1, -1, 0, 2, 2]\n",
    "\n",
    "Reguła ta odnosi się do x3 (pierwsza funckcja przynależności) oraz x4 (trzecia funkcja przynależności). We wniosku wskazuje klasę o indeksie 2 (trzecią).\n",
    "\n",
    "Podczas klasyfikacji sprawdzane są wartości odpowiednich funkcji przynależności dla konkretnych wartości x1 do x4. Stopień spełnialności części warunkowej danej reguły określany jest za pomocą odpowiedniej t-normy (minimum w tym przykładzie). Jeśli więcej niż jedna reguła ma we wniosku daną klasę, wartości stopni spełnialności warunków tych reguł agregowane są za pomocą odpowiedniej s-normy (maksimum w tym przykładzie). Ostatecznie wybierana jest klasa, na którą wskazuje maksymalna wartość."
   ]
  },
  {
   "cell_type": "code",
   "execution_count": null,
   "metadata": {},
   "outputs": [],
   "source": [
    "class FuzzyClassifier:\n",
    "    def __init__(self, nclass, dim, fnums, mins, maxs):\n",
    "        self.nclass = nclass #number of classes\n",
    "        self.dim = dim #number of input features\n",
    "        self.fnums = fnums #list: number of linguistic values for each feature\n",
    "        self.mins = mins #minimum values of features\n",
    "        self.maxs = maxs #maximum values of features\n",
    "        self.funs = None #parametry funkcji przynależności (tu: trójkątnej)\n",
    "        self.rules = None #reguły\n",
    "        self.tnorm_condition = None #t-norma używana do oceny części warunkowej reguły\n",
    "        self.snorm_aggregation = None #s-norma używana do agregacji\n",
    "\n",
    "    def init_triangular_funs(self):\n",
    "        \"\"\"\n",
    "        Dla każdego wymiaru generuje zadaną liczbę równomiernie rozłożonych trójkątnych funkcji przynależności\n",
    "        \"\"\"\n",
    "        self.funs = []\n",
    "        for i in range(self.dim):\n",
    "            step = (self.maxs[i] - self.mins[i])/(self.fnums[i] - 1)\n",
    "            tmp = []\n",
    "            for j in range(self.fnums[i]):\n",
    "                center = self.mins[i]+j*step\n",
    "                tmp.append((center - step, center, center + step))\n",
    "            self.funs.append(tmp)\n",
    "    \n",
    "    def gen_random_rules(self, n):\n",
    "        \"\"\"\n",
    "        Generuje zadaną liczbę losowych reguł\n",
    "        \"\"\"\n",
    "        return [[np.random.randint(-1, num) for num in self.fnums] + [np.random.randint(0, nclass)] for i in range(n)]\n",
    "    \n",
    "    def classify(self, x):\n",
    "        \"\"\"\n",
    "        Klasyfikuje pojedynczy przykład x\n",
    "        \"\"\"\n",
    "        votes = [[] for i in range(self.nclass)]\n",
    "        for r in self.rules:\n",
    "            conditions = []\n",
    "            for i, findx in enumerate(r[:-1]):\n",
    "                if findx == -1:\n",
    "                    continue\n",
    "                a, b, c = self.funs[i][findx]\n",
    "                conditions.append(trfun(x[i], a, b, c))\n",
    "            condition_sat_level = self.tnorm_condition(conditions) if len(conditions) > 0 else 0\n",
    "            votes[r[-1]].append(condition_sat_level)\n",
    "        votes = [self.snorm_aggregation(v) if len(v) > 0 else 0 for v in votes]\n",
    "        return np.argmax(votes)\n",
    "    \n",
    "    def classify_all(self, X):\n",
    "        \"\"\"\n",
    "        Klasyfikuje wszystkie przykłady - wiersze macierzy X\n",
    "        \"\"\"\n",
    "        return np.array([self.classify(x) for x in X])\n",
    "    \n",
    "    def test(self, X, Y):\n",
    "        \"\"\"\n",
    "        Klasyfikuje przykłady z X i porównuje z prawidłowymi etykietami klas z Y\n",
    "\n",
    "        Zwraca accuracy - odsetek poprawnych klasyfikacji\n",
    "        \"\"\"\n",
    "        return (Y == self.classify_all(X)).sum()/X.shape[0]\n",
    "                "
   ]
  },
  {
   "cell_type": "markdown",
   "metadata": {},
   "source": [
    "Ustawienia dla problemu irysów:"
   ]
  },
  {
   "cell_type": "code",
   "execution_count": null,
   "metadata": {},
   "outputs": [],
   "source": [
    "nclass = 3 #liczba klas\n",
    "dim = 4 #liczba atrybutów\n",
    "fnums = [3, 3, 3, 3] #liczba funcji przynależności (wartości lingwistycznych) dla każdego atrybutu"
   ]
  },
  {
   "cell_type": "markdown",
   "metadata": {},
   "source": [
    "Tworzymy obiekt FuzzyClassifier i wizualizujemy funkcje przynależności."
   ]
  },
  {
   "cell_type": "code",
   "execution_count": null,
   "metadata": {},
   "outputs": [],
   "source": [
    "fc = FuzzyClassifier(nclass, dim, fnums, mins, maxs)\n",
    "fc.init_triangular_funs()\n",
    "for i, f in enumerate(fc.funs):\n",
    "    xx = np.linspace(mins[i], maxs[i], 300)\n",
    "    plt.figure()\n",
    "    for ff in f:\n",
    "        a, b, c = ff\n",
    "        mfun = np.vectorize(lambda x: trfun(x, a, b, c), otypes=[float])\n",
    "        yy = mfun(xx)\n",
    "        plt.plot(xx, yy)\n",
    "plt.show()\n",
    "    "
   ]
  },
  {
   "cell_type": "markdown",
   "metadata": {},
   "source": [
    "Generujemy przykładowe reguły"
   ]
  },
  {
   "cell_type": "code",
   "execution_count": null,
   "metadata": {},
   "outputs": [],
   "source": [
    "r = fc.gen_random_rules(3)\n",
    "print(r)\n",
    "\n",
    "# Przy ustawieniach fnums = [5, 5, 5, 5] następujące reguły dają całkiem nieźle działajacy klasyfikator\n",
    "# fc.rules = [[-1, -1, -1, 4, 2], [-1, -1, -1, 3, 2], [-1, -1, -1, 2, 1], [-1, -1, 1, -1, 0]]"
   ]
  },
  {
   "cell_type": "markdown",
   "metadata": {},
   "source": [
    "Ustawiamy t-normę i s-normę"
   ]
  },
  {
   "cell_type": "code",
   "execution_count": null,
   "metadata": {},
   "outputs": [],
   "source": [
    "fc.tnorm_condition = lambda x: min(x)\n",
    "fc.snorm_aggregation = lambda x: max(x)"
   ]
  },
  {
   "cell_type": "markdown",
   "metadata": {},
   "source": [
    "Test klasyfikatora"
   ]
  },
  {
   "cell_type": "code",
   "execution_count": null,
   "metadata": {},
   "outputs": [],
   "source": [
    "fc.rules = r\n",
    "acc = fc.test(X, Y)\n",
    "print(acc)\n",
    "Z = fc.classify_all(X)\n",
    "print(Z)"
   ]
  },
  {
   "cell_type": "markdown",
   "metadata": {},
   "source": [
    "Mutacja będzie polegać na zmianie aktualnej wartości na losową, dozwoloną na danej pozycji (z pewnym prawdopodobieństwem)."
   ]
  },
  {
   "cell_type": "code",
   "execution_count": null,
   "metadata": {},
   "outputs": [],
   "source": [
    "def mutate(rule_set, prob_mut):\n",
    "    \"\"\"\n",
    "    Mutacja poprzez zmianę na losową wartość dopuszczalną na danej pozycji.\n",
    "    Klasa z wniosku reguły również może się zmienić.\n",
    "    \"\"\"\n",
    "    for r in rule_set:\n",
    "        for i in range(fc.dim):\n",
    "            if np.random.rand() < prob_mut:\n",
    "                r[i] = np.random.randint(-1, fc.fnums[i])\n",
    "        if np.random.rand() < prob_mut:\n",
    "            r[-1] = np.random.randint(0, fc.nclass)"
   ]
  },
  {
   "cell_type": "markdown",
   "metadata": {},
   "source": [
    "Generujemy losową początkową populację.\n",
    "\n",
    "Każdy osobnik koduje cały zestaw reguł rozmytych.\n",
    "\n",
    "Wszytkie osobniki korzystać będą z tego samego zestawu funkcji przynależności."
   ]
  },
  {
   "cell_type": "code",
   "execution_count": null,
   "metadata": {},
   "outputs": [],
   "source": [
    "nrules = 5\n",
    "pop_size = 10\n",
    "pop = [fc.gen_random_rules(nrules) for i in range(pop_size)]\n",
    "print(pop)"
   ]
  },
  {
   "cell_type": "markdown",
   "metadata": {},
   "source": [
    "Ewaluacja osobników i zapamiętanie najlepszego.\n",
    "\n",
    "Funkcją przystosowania jest odsetek poprawnych klasyfikacji na zbiorze trenującym."
   ]
  },
  {
   "cell_type": "code",
   "execution_count": null,
   "metadata": {},
   "outputs": [],
   "source": [
    "evals = []\n",
    "for rule_set in pop:\n",
    "    fc.rules = rule_set\n",
    "    evals.append(fc.test(X, Y))\n",
    "print(evals)\n",
    "\n",
    "srt = sorted(zip(evals, pop))[::-1]\n",
    "best_rs = copy.deepcopy(srt[0][1])\n",
    "best_eval = srt[0][0]\n",
    "print('best ', best_eval)\n",
    "print(best_rs)"
   ]
  },
  {
   "cell_type": "markdown",
   "metadata": {},
   "source": [
    "Przykładowy algorytm ewolucyjny jest bardzo prosty. \n",
    "\n",
    "Jego jedyny operator to mutacja.\n",
    "\n",
    "Każdy z osobników z aktualnej populacji jest kopiowany a następnie mutowany.\n",
    "\n",
    "Stara i nowa (zmutowana) populacja są łączone.\n",
    "\n",
    "Pozostawiamy pop_size najlepszych osobników (nacisk selekcyjny).\n",
    "\n",
    "Przetestujmy jego działanie."
   ]
  },
  {
   "cell_type": "code",
   "execution_count": null,
   "metadata": {},
   "outputs": [],
   "source": [
    "iters = 100\n",
    "prob_mut = 0.1\n",
    "\n",
    "for i in range(iters):\n",
    "    # kopiowanie każdego osobnika\n",
    "    pop2 = [copy.deepcopy(rs) for rs in pop] \n",
    "    # mutacja\n",
    "    for rule_set in pop2:\n",
    "        mutate(rule_set, prob_mut)\n",
    "    # ocena nowych rozwiązań\n",
    "    evals2 = []\n",
    "    for rule_set in pop2:\n",
    "        fc.rules = rule_set\n",
    "        evals2.append(fc.test(X, Y))\n",
    "    # łączenie obu populacji\n",
    "    pop = pop + pop2\n",
    "    evals = evals + evals2\n",
    "    # pozostawienie stałej liczby najlepszych osobników\n",
    "    srt = sorted(zip(evals, pop))[::-1]\n",
    "    pop = [s[1] for s in srt][:pop_size]\n",
    "    evals = [s[0] for s in srt][:pop_size]\n",
    "    # zapamiętanie najlepszego rozwiązania\n",
    "    if evals[0] > best_eval:\n",
    "        print('better found', evals[0], 'in',i+1)\n",
    "        best_eval = evals[0]\n",
    "        best_rs = copy.deepcopy(pop[0])\n",
    "print('end')\n"
   ]
  },
  {
   "cell_type": "markdown",
   "metadata": {},
   "source": [
    "Spradzamy odpowiedzi najlepszego osobnika na zbiorze trenującym:"
   ]
  },
  {
   "cell_type": "code",
   "execution_count": null,
   "metadata": {},
   "outputs": [],
   "source": [
    "print(best_eval)\n",
    "print(best_rs)\n",
    "fc.rules = best_rs\n",
    "z = fc.classify_all(X)\n",
    "print(z)\n",
    "print(Y)\n",
    "print(fc.test(X, Y))"
   ]
  },
  {
   "cell_type": "markdown",
   "metadata": {},
   "source": [
    "...oraz testowym."
   ]
  },
  {
   "cell_type": "code",
   "execution_count": null,
   "metadata": {},
   "outputs": [],
   "source": [
    "# testing\n",
    "ans = fc.classify_all(Xtest)\n",
    "print(ans)\n",
    "print(Ytest)\n",
    "print(fc.test(Xtest, Ytest))"
   ]
  },
  {
   "cell_type": "markdown",
   "metadata": {},
   "source": [
    "Wykonaj przykładowe obliczenia dla różnych ustawień (liczba funckji przynależności, liczba reguł, wielkość populacji itd.)"
   ]
  },
  {
   "cell_type": "markdown",
   "metadata": {},
   "source": [
    "### Zadanie (10 punktów)"
   ]
  },
  {
   "cell_type": "code",
   "execution_count": null,
   "metadata": {},
   "outputs": [],
   "source": [
    "nr_indeksu = 3331"
   ]
  },
  {
   "cell_type": "code",
   "execution_count": null,
   "metadata": {},
   "outputs": [],
   "source": [
    "print(r\"\"\"\n",
    "Zaimplementuj własny algorytm ewolucyjny do optymalizacji klasyfikatora rozmytego. \n",
    "\n",
    "Przetestuj go na trudniejszym problemie klasyfikacyjnym diagnozy cukrzycy (baza pima - ostatnia kolumna zawiera etykietę klasy).\n",
    "\n",
    "Ile minimalnie reguł jest potrzebnych?\n",
    "\n",
    "Wnioski zaprezentuj na podstawie średniej z co najmniej 10 uruchomień.\n",
    "\n",
    "W algorytmie dodaj możliwość ewolucji parametrów użytych funkcji przynależności \n",
    "(a więc nie są one wspólne dla wszytkich rozwiązań lecz podlegają optymalizacji).\n",
    "\n",
    "Porównaj działanie swojego algorytmu z przykładowym algorytmem z zajęć.\n",
    "\n",
    "Algorytm powinien mieć następujące funkcjonalności \n",
    "(zastosuj operator krzyżowania nawet jeśli nie występuje on w oryginalnym opisie algorytmu):\n",
    "\"\"\")\n",
    "\n",
    "algorytm = ['algorytm genetyczny', 'strategia ewolucyjna u+s', 'strategia ewolucyjna u,s', 'programowanie ewolucyjne']\n",
    "selekcja = ['koło ruletki', 'turniejowa', 'rankingowa']\n",
    "xover = ['jednopunktowe', 'dwupunktowe', 'jednostajne', 'uśrednianie ze współczynnikiem a']\n",
    "mutacja = ['rozkład jednostajny', 'rozkład Gaussa']\n",
    "memfun = ['klasa pi', 'trapezoidalna', 'dzwonowa', 'Gaussa']\n",
    "tnorm = ['minimum', 'iloczyn']\n",
    "snorm = ['maksimum', 'suma-iloczyn']\n",
    "\n",
    "print('Algorytm: ', algorytm[nr_indeksu%len(algorytm)])\n",
    "print('Rodzaj selekcji (jeśli dotyczy): ', selekcja[nr_indeksu%len(selekcja)])\n",
    "print('Krzyżowanie: ', xover[nr_indeksu%len(xover)])\n",
    "print('Mutacja wartości rzeczywistych (jeśli nie jest określona przez algorytm): ', mutacja[nr_indeksu%len(mutacja)])\n",
    "print('Rodzaj funkcji przynależności: ', memfun[nr_indeksu%len(memfun)])\n",
    "print('Rodzaj t-normy: ', tnorm[nr_indeksu%len(tnorm)])\n",
    "print('Rodzaj s-normy: ', snorm[nr_indeksu%len(snorm)])\n",
    "\n",
    "print(r\"\"\"\n",
    "W razie wątpliwości - ustal szczegóły z prowadzącym zajęcia.\n",
    "\"\"\")"
   ]
  },
  {
   "cell_type": "code",
   "execution_count": null,
   "metadata": {},
   "outputs": [],
   "source": [
    "# Twój kod"
   ]
  },
  {
   "cell_type": "markdown",
   "metadata": {},
   "source": [
    "Twoje sprawozdanie"
   ]
  },
  {
   "cell_type": "markdown",
   "metadata": {
    "colab_type": "text",
    "id": "C57dALyNj4Se"
   },
   "source": [
    "Katedra Informatyki, Politechnika Krakowska"
   ]
  }
 ],
 "metadata": {
  "colab": {
   "authorship_tag": "ABX9TyPl4pkuEVPr3ijYX67u8Lm8",
   "collapsed_sections": [],
   "name": "Genetic_Demo_puste.ipynb",
   "provenance": [],
   "toc_visible": true
  },
  "interpreter": {
   "hash": "ed2817f2e9db637884514c216cd2fb44bbdd3280db09bb45d9849075774dab55"
  },
  "kernelspec": {
   "display_name": "Python 3",
   "language": "python",
   "name": "python3"
  },
  "language_info": {
   "codemirror_mode": {
    "name": "ipython",
    "version": 3
   },
   "file_extension": ".py",
   "mimetype": "text/x-python",
   "name": "python",
   "nbconvert_exporter": "python",
   "pygments_lexer": "ipython3",
   "version": "3.8.8"
  }
 },
 "nbformat": 4,
 "nbformat_minor": 1
}
